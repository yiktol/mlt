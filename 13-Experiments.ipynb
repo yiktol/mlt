{
 "cells": [
  {
   "cell_type": "markdown",
   "metadata": {},
   "source": [
    "# Experiment Management for Hyperparameter Tuning Jobs\n",
    "\n",
    "Demonstrates how to associate trial components created by a hyperparameter tuning job with an experiment management trial.\n",
    "\n",
    "Prerequisite - hyperparameter tuning job has already been created.\n",
    "\n",
    "## Steps\n",
    "1. retrieves the most recently created tuning job\n",
    "1. creates an experiment or retrieve an existing one\n",
    "1. creates a trial or retrieve an existing one\n",
    "1. retrieve all the training jobs created by the tuning job\n",
    "1. retrieve all the trial components created by those training jobs\n",
    "1. associate the trial components with the trial\n",
    "\n",
    "_Testing using SageMaker Studio with the `Python 3(Data Science)` kernel._"
   ]
  },
  {
   "cell_type": "code",
   "execution_count": 2,
   "metadata": {},
   "outputs": [
    {
     "name": "stdout",
     "output_type": "stream",
     "text": [
      "/opt/conda/lib/python3.7/site-packages/secretstorage/dhcrypto.py:16: CryptographyDeprecationWarning: int_from_bytes is deprecated, use int.from_bytes instead\n",
      "  from cryptography.utils import int_from_bytes\n",
      "/opt/conda/lib/python3.7/site-packages/secretstorage/util.py:25: CryptographyDeprecationWarning: int_from_bytes is deprecated, use int.from_bytes instead\n",
      "  from cryptography.utils import int_from_bytes\n",
      "Collecting sagemaker-experiments==0.1.25\n",
      "  Downloading sagemaker_experiments-0.1.25-py3-none-any.whl (40 kB)\n",
      "     |████████████████████████████████| 40 kB 1.5 kB/s             \n",
      "\u001b[?25hRequirement already satisfied: boto3>=1.16.27 in /opt/conda/lib/python3.7/site-packages (from sagemaker-experiments==0.1.25) (1.19.3)\n",
      "Requirement already satisfied: jmespath<1.0.0,>=0.7.1 in /opt/conda/lib/python3.7/site-packages (from boto3>=1.16.27->sagemaker-experiments==0.1.25) (0.10.0)\n",
      "Requirement already satisfied: botocore<1.23.0,>=1.22.3 in /opt/conda/lib/python3.7/site-packages (from boto3>=1.16.27->sagemaker-experiments==0.1.25) (1.22.3)\n",
      "Requirement already satisfied: s3transfer<0.6.0,>=0.5.0 in /opt/conda/lib/python3.7/site-packages (from boto3>=1.16.27->sagemaker-experiments==0.1.25) (0.5.0)\n",
      "Requirement already satisfied: urllib3<1.27,>=1.25.4 in /opt/conda/lib/python3.7/site-packages (from botocore<1.23.0,>=1.22.3->boto3>=1.16.27->sagemaker-experiments==0.1.25) (1.26.7)\n",
      "Requirement already satisfied: python-dateutil<3.0.0,>=2.1 in /opt/conda/lib/python3.7/site-packages (from botocore<1.23.0,>=1.22.3->boto3>=1.16.27->sagemaker-experiments==0.1.25) (2.8.1)\n",
      "Requirement already satisfied: six>=1.5 in /opt/conda/lib/python3.7/site-packages (from python-dateutil<3.0.0,>=2.1->botocore<1.23.0,>=1.22.3->boto3>=1.16.27->sagemaker-experiments==0.1.25) (1.14.0)\n",
      "Installing collected packages: sagemaker-experiments\n",
      "Successfully installed sagemaker-experiments-0.1.25\n",
      "\u001b[33mWARNING: Running pip as the 'root' user can result in broken permissions and conflicting behaviour with the system package manager. It is recommended to use a virtual environment instead: https://pip.pypa.io/warnings/venv\u001b[0m\n"
     ]
    }
   ],
   "source": [
    "import sys\n",
    "\n",
    "!{sys.executable} -m pip install sagemaker-experiments==0.1.25"
   ]
  },
  {
   "cell_type": "code",
   "execution_count": 3,
   "metadata": {},
   "outputs": [],
   "source": [
    "import time\n",
    "from datetime import timezone\n",
    "\n",
    "import boto3\n",
    "from sagemaker import HyperparameterTuningJobAnalytics, Session\n",
    "from smexperiments.experiment import Experiment\n",
    "from smexperiments.search_expression import Filter, Operator, SearchExpression\n",
    "from smexperiments.trial import Trial\n",
    "from smexperiments.trial_component import TrialComponent\n",
    "\n",
    "sess = boto3.Session()\n",
    "sm = sess.client(\"sagemaker\")\n",
    "sagemaker_session = Session(sess)"
   ]
  },
  {
   "cell_type": "code",
   "execution_count": 4,
   "metadata": {},
   "outputs": [
    {
     "name": "stdout",
     "output_type": "stream",
     "text": [
      "Found 1 tuning jobs.\n",
      "Associate all training jobs created by xgboost-211106-0216 with trial xgboost-211106-0216-trial\n"
     ]
    }
   ],
   "source": [
    "# get the most recently created tuning job\n",
    "\n",
    "list_tuning_jobs_response = sm.list_hyper_parameter_tuning_jobs(\n",
    "    SortBy=\"CreationTime\", SortOrder=\"Descending\"\n",
    ")\n",
    "print(f'Found {len(list_tuning_jobs_response[\"HyperParameterTuningJobSummaries\"])} tuning jobs.')\n",
    "tuning_jobs = list_tuning_jobs_response[\"HyperParameterTuningJobSummaries\"]\n",
    "most_recently_created_tuning_job = tuning_jobs[0]\n",
    "tuning_job_name = most_recently_created_tuning_job[\"HyperParameterTuningJobName\"]\n",
    "experiment_name = \"experiment-with-tuning-jobs-{}\".format(int(time.time()))\n",
    "trial_name = tuning_job_name + \"-trial\"\n",
    "\n",
    "print(f\"Associate all training jobs created by {tuning_job_name} with trial {trial_name}\")"
   ]
  },
  {
   "cell_type": "code",
   "execution_count": 5,
   "metadata": {},
   "outputs": [],
   "source": [
    "# create the experiment if it doesn't exist\n",
    "try:\n",
    "    experiment = Experiment.load(experiment_name=experiment_name)\n",
    "except Exception as ex:\n",
    "    if \"ResourceNotFound\" in str(ex):\n",
    "        experiment = Experiment.create(experiment_name=experiment_name)\n",
    "\n",
    "\n",
    "# create the trial if it doesn't exist\n",
    "try:\n",
    "    trial = Trial.load(trial_name=trial_name)\n",
    "except Exception as ex:\n",
    "    if \"ResourceNotFound\" in str(ex):\n",
    "        trial = Trial.create(experiment_name=experiment_name, trial_name=trial_name)"
   ]
  },
  {
   "cell_type": "code",
   "execution_count": 6,
   "metadata": {},
   "outputs": [
    {
     "name": "stdout",
     "output_type": "stream",
     "text": [
      "Found 21 trial components.\n"
     ]
    }
   ],
   "source": [
    "# get the trial components derived from the training jobs\n",
    "\n",
    "creation_time = most_recently_created_tuning_job[\"CreationTime\"]\n",
    "creation_time = creation_time.astimezone(timezone.utc)\n",
    "creation_time = creation_time.strftime(\"%Y-%m-%dT%H:%M:%SZ\")\n",
    "\n",
    "created_after_filter = Filter(\n",
    "    name=\"CreationTime\",\n",
    "    operator=Operator.GREATER_THAN_OR_EQUAL,\n",
    "    value=str(creation_time),\n",
    ")\n",
    "\n",
    "# the training job names contain the tuning job name (and the training job name is in the source arn)\n",
    "source_arn_filter = Filter(\n",
    "    name=\"TrialComponentName\", operator=Operator.CONTAINS, value=tuning_job_name\n",
    ")\n",
    "source_type_filter = Filter(\n",
    "    name=\"Source.SourceType\", operator=Operator.EQUALS, value=\"SageMakerTrainingJob\"\n",
    ")\n",
    "\n",
    "search_expression = SearchExpression(\n",
    "    filters=[created_after_filter, source_arn_filter, source_type_filter]\n",
    ")\n",
    "\n",
    "# search iterates over every page of results by default\n",
    "trial_component_search_results = list(\n",
    "    TrialComponent.search(search_expression=search_expression, sagemaker_boto_client=sm)\n",
    ")\n",
    "print(f\"Found {len(trial_component_search_results)} trial components.\")"
   ]
  },
  {
   "cell_type": "code",
   "execution_count": 7,
   "metadata": {},
   "outputs": [
    {
     "name": "stdout",
     "output_type": "stream",
     "text": [
      "Associating trial component xgboost-211106-0216-021-b7df0154-aws-training-job with trial xgboost-211106-0216-trial.\n",
      "Associating trial component xgboost-211106-0216-016-bef38a7d-aws-training-job with trial xgboost-211106-0216-trial.\n",
      "Associating trial component xgboost-211106-0216-020-7002c02b-aws-training-job with trial xgboost-211106-0216-trial.\n",
      "Associating trial component xgboost-211106-0216-019-62821b51-aws-training-job with trial xgboost-211106-0216-trial.\n",
      "Associating trial component xgboost-211106-0216-018-12a95a54-aws-training-job with trial xgboost-211106-0216-trial.\n",
      "Associating trial component xgboost-211106-0216-017-6ea35f92-aws-training-job with trial xgboost-211106-0216-trial.\n",
      "Associating trial component xgboost-211106-0216-015-805da8cc-aws-training-job with trial xgboost-211106-0216-trial.\n",
      "Associating trial component xgboost-211106-0216-014-682b18f7-aws-training-job with trial xgboost-211106-0216-trial.\n",
      "Associating trial component xgboost-211106-0216-013-896b88be-aws-training-job with trial xgboost-211106-0216-trial.\n",
      "Associating trial component xgboost-211106-0216-011-7aa3f306-aws-training-job with trial xgboost-211106-0216-trial.\n",
      "Associating trial component xgboost-211106-0216-012-ad6b8352-aws-training-job with trial xgboost-211106-0216-trial.\n",
      "Associating trial component xgboost-211106-0216-010-0b59536d-aws-training-job with trial xgboost-211106-0216-trial.\n",
      "Associating trial component xgboost-211106-0216-009-cd95b281-aws-training-job with trial xgboost-211106-0216-trial.\n",
      "Associating trial component xgboost-211106-0216-008-414517a6-aws-training-job with trial xgboost-211106-0216-trial.\n",
      "Associating trial component xgboost-211106-0216-007-ca785cf3-aws-training-job with trial xgboost-211106-0216-trial.\n",
      "Associating trial component xgboost-211106-0216-006-f7c8b90e-aws-training-job with trial xgboost-211106-0216-trial.\n",
      "Associating trial component xgboost-211106-0216-004-65b08f3f-aws-training-job with trial xgboost-211106-0216-trial.\n",
      "Associating trial component xgboost-211106-0216-005-b39dc8b2-aws-training-job with trial xgboost-211106-0216-trial.\n",
      "Associating trial component xgboost-211106-0216-003-f3c8578b-aws-training-job with trial xgboost-211106-0216-trial.\n",
      "Associating trial component xgboost-211106-0216-002-e96c1283-aws-training-job with trial xgboost-211106-0216-trial.\n",
      "Associating trial component xgboost-211106-0216-001-479b8780-aws-training-job with trial xgboost-211106-0216-trial.\n"
     ]
    }
   ],
   "source": [
    "# associate the trial components with the trial\n",
    "for tc in trial_component_search_results:\n",
    "    print(f\"Associating trial component {tc.trial_component_name} with trial {trial.trial_name}.\")\n",
    "    trial.add_trial_component(tc.trial_component_name)\n",
    "    # sleep to avoid throttling\n",
    "    time.sleep(0.5)"
   ]
  },
  {
   "cell_type": "markdown",
   "metadata": {},
   "source": [
    "## Contact\n",
    "Submit any questions or issues to https://github.com/aws/sagemaker-experiments/issues or mention @aws/sagemakerexperimentsadmin "
   ]
  }
 ],
 "metadata": {
  "instance_type": "ml.t3.medium",
  "kernelspec": {
   "display_name": "Python 3 (Data Science)",
   "language": "python",
   "name": "python3__SAGEMAKER_INTERNAL__arn:aws:sagemaker:us-east-1:081325390199:image/datascience-1.0"
  },
  "language_info": {
   "codemirror_mode": {
    "name": "ipython",
    "version": 3
   },
   "file_extension": ".py",
   "mimetype": "text/x-python",
   "name": "python",
   "nbconvert_exporter": "python",
   "pygments_lexer": "ipython3",
   "version": "3.7.10"
  }
 },
 "nbformat": 4,
 "nbformat_minor": 4
}
