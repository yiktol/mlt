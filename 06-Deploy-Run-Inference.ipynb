{
 "cells": [
  {
   "cell_type": "markdown",
   "metadata": {},
   "source": [
    "# Part 4 : Deploy, Run Inference, Interpret Inference"
   ]
  },
  {
   "cell_type": "markdown",
   "metadata": {},
   "source": [
    "<a id='overview-4'></a>\n",
    "\n",
    "## [Overview](./0-AutoClaimFraudDetection.ipynb)\n",
    "* [Notebook 0 : Overview, Architecture and Data Exploration](./0-AutoClaimFraudDetection.ipynb)\n",
    "* [Notebook 1: Data Prep, Process, Store Features](./1-data-prep-e2e.ipynb)\n",
    "* [Notebook 2: Train, Check Bias, Tune, Record Lineage, and Register a Model](./2-lineage-train-assess-bias-tune-registry-e2e.ipynb)\n",
    "* [Notebook 3: Mitigate Bias, Train New Model, Store in Registry](./3-mitigate-bias-train-model2-registry-e2e.ipynb)\n",
    "* **[Notebook 4: Deploy Model, Run Predictions](./4-deploy-run-inference-e2e.ipynb)**\n",
    "  * **[Architecture](#deploy)**\n",
    "  * **[Deploy an approved model and Run Inference via Feature Store](#deploy-model)**\n",
    "  * **[Create a Predictor](#predictor)**\n",
    "  * **[Run Predictions from Online FeatureStore](#run-predictions)**\n",
    "* [Notebook 5 : Create and Run an End-to-End Pipeline to Deploy the Model](./5-pipeline-e2e.ipynb)"
   ]
  },
  {
   "cell_type": "markdown",
   "metadata": {},
   "source": [
    "In this section of the end to end use case, we will deploy the mitigated model that is the end-product of this fraud detection use-case. We will show how to run inference and also how to use Clarify to interpret or \"explain\" the model."
   ]
  },
  {
   "cell_type": "markdown",
   "metadata": {},
   "source": [
    "<a id ='deploy'> </a>\n",
    "\n",
    "## Architecture for this ML Lifecycle Stage : Train, Check Bias, Tune, Record Lineage, Register Model\n",
    "[overview](#overview-4)\n",
    "\n",
    "![train-assess-tune-register](./images/part4.png)"
   ]
  },
  {
   "cell_type": "markdown",
   "metadata": {},
   "source": [
    "### Install required and/or update third-party libraries"
   ]
  },
  {
   "cell_type": "code",
   "execution_count": 1,
   "metadata": {},
   "outputs": [
    {
     "name": "stdout",
     "output_type": "stream",
     "text": [
      "/opt/conda/lib/python3.7/site-packages/secretstorage/dhcrypto.py:16: CryptographyDeprecationWarning: int_from_bytes is deprecated, use int.from_bytes instead\n",
      "  from cryptography.utils import int_from_bytes\n",
      "/opt/conda/lib/python3.7/site-packages/secretstorage/util.py:25: CryptographyDeprecationWarning: int_from_bytes is deprecated, use int.from_bytes instead\n",
      "  from cryptography.utils import int_from_bytes\n",
      "\u001b[33mWARNING: Running pip as the 'root' user can result in broken permissions and conflicting behaviour with the system package manager. It is recommended to use a virtual environment instead: https://pip.pypa.io/warnings/venv\u001b[0m\n",
      "/opt/conda/lib/python3.7/site-packages/secretstorage/dhcrypto.py:16: CryptographyDeprecationWarning: int_from_bytes is deprecated, use int.from_bytes instead\n",
      "  from cryptography.utils import int_from_bytes\n",
      "/opt/conda/lib/python3.7/site-packages/secretstorage/util.py:25: CryptographyDeprecationWarning: int_from_bytes is deprecated, use int.from_bytes instead\n",
      "  from cryptography.utils import int_from_bytes\n",
      "\u001b[33mWARNING: Running pip as the 'root' user can result in broken permissions and conflicting behaviour with the system package manager. It is recommended to use a virtual environment instead: https://pip.pypa.io/warnings/venv\u001b[0m\n"
     ]
    }
   ],
   "source": [
    "!python -m pip install -Uq pip\n",
    "!python -m pip install -q awswrangler imbalanced-learn"
   ]
  },
  {
   "cell_type": "markdown",
   "metadata": {},
   "source": [
    "### Load stored variables\n",
    "Run the cell below to load any prevously created variables. You should see a print-out of the existing variables. If you don't see anything you may need to create them again or it may be your first time running this notebook."
   ]
  },
  {
   "cell_type": "code",
   "execution_count": 2,
   "metadata": {},
   "outputs": [
    {
     "name": "stdout",
     "output_type": "stream",
     "text": [
      "Stored variables and their in-db values:\n",
      "bucket                              -> 'sagemaker-us-east-1-875692608981'\n",
      "claims_fg_name                      -> 'fraud-detect-demo-claims'\n",
      "claims_preprocessed                 ->       policy_id  incident_severity  num_vehicles_i\n",
      "claims_table                        -> 'fraud-detect-demo-claims-1637200704'\n",
      "clarify_bias_job_1_name             -> 'Clarify-Bias-2021-11-18-02-16-43-192'\n",
      "clarify_bias_job_2_name             -> 'Clarify-Bias-2021-11-18-02-37-10-321'\n",
      "clarify_expl_job_name               -> 'Clarify-Explainability-2021-11-18-02-49-06-695'\n",
      "col_order                           -> ['fraud', 'customer_gender_male', 'customer_educat\n",
      "context_name                        -> 'fraud-detect-1637201755'\n",
      "customers_fg_name                   -> 'fraud-detect-demo-customers'\n",
      "customers_preprocessed              ->       policy_id  customer_age  customer_education \n",
      "customers_table                     -> 'fraud-detect-demo-customers-1637200706'\n",
      "database_name                       -> 'sagemaker_featurestore'\n",
      "dataset_uri                         -> 's3://sagemaker-us-east-1-875692608981/fraud-detec\n",
      "hyperparameters                     -> {'max_depth': '3', 'eta': '0.2', 'objective': 'bin\n",
      "model_1_name                        -> 'fraud-detect-demo-xgboost-pre-smote'\n",
      "model_2_name                        -> 'fraud-detect-demo-xgboost-post-smote'\n",
      "mp2_arn                             -> 'arn:aws:sagemaker:us-east-1:875692608981:model-pa\n",
      "mpg_name                            -> 'fraud-detect-demo'\n",
      "prefix                              -> 'fraud-detect-demo'\n",
      "test_data_uri                       -> 's3://sagemaker-us-east-1-875692608981/fraud-detec\n",
      "train                               ->       fraud  customer_gender_male  customer_educat\n",
      "train_data_uri                      -> 's3://sagemaker-us-east-1-875692608981/fraud-detec\n",
      "training_job_1_name                 -> 'sagemaker-xgboost-2021-11-18-02-10-30-067'\n",
      "training_job_2_name                 -> 'sagemaker-xgboost-2021-11-18-02-31-28-835'\n"
     ]
    }
   ],
   "source": [
    "%store -r\n",
    "%store"
   ]
  },
  {
   "cell_type": "markdown",
   "metadata": {},
   "source": [
    "**<font color='red'>Important</font>: You must have run the previous sequential notebooks to retrieve variables using the StoreMagic command.**"
   ]
  },
  {
   "cell_type": "markdown",
   "metadata": {},
   "source": [
    "### Import libraries"
   ]
  },
  {
   "cell_type": "code",
   "execution_count": 3,
   "metadata": {},
   "outputs": [],
   "source": [
    "import json\n",
    "import time\n",
    "import boto3\n",
    "import sagemaker\n",
    "import numpy as np\n",
    "import pandas as pd\n",
    "import awswrangler as wr"
   ]
  },
  {
   "cell_type": "markdown",
   "metadata": {},
   "source": [
    "### Set region, boto3 and SageMaker SDK variables"
   ]
  },
  {
   "cell_type": "code",
   "execution_count": 4,
   "metadata": {},
   "outputs": [
    {
     "name": "stdout",
     "output_type": "stream",
     "text": [
      "Using AWS Region: us-east-1\n"
     ]
    }
   ],
   "source": [
    "# You can change this to a region of your choice\n",
    "region = sagemaker.Session().boto_region_name\n",
    "print(\"Using AWS Region: {}\".format(region))"
   ]
  },
  {
   "cell_type": "code",
   "execution_count": 5,
   "metadata": {},
   "outputs": [
    {
     "name": "stdout",
     "output_type": "stream",
     "text": [
      "Sagemaker Role: arn:aws:iam::875692608981:role/AmazonSageMaker-ExecutionRoleMLT\n"
     ]
    }
   ],
   "source": [
    "boto3.setup_default_session(region_name=region)\n",
    "boto_session = boto3.Session(region_name=region)\n",
    "s3_client = boto3.client(\"s3\", region_name=region)\n",
    "sagemaker_client = boto_session.client(\"sagemaker\")\n",
    "sagemaker_session = sagemaker.session.Session(\n",
    "    boto_session=boto_session, sagemaker_client=sagemaker_client\n",
    ")\n",
    "sagemaker_role = sagemaker.get_execution_role()\n",
    "print(f\"Sagemaker Role: {sagemaker_role }\")\n",
    "account_id = boto3.client(\"sts\").get_caller_identity()[\"Account\"]"
   ]
  },
  {
   "cell_type": "code",
   "execution_count": 6,
   "metadata": {},
   "outputs": [],
   "source": [
    "# variables used for parameterizing the notebook run\n",
    "endpoint_name = f\"{model_2_name}-endpoint\"\n",
    "endpoint_instance_count = 1\n",
    "endpoint_instance_type = \"ml.m4.xlarge\"\n",
    "\n",
    "predictor_instance_count = 1\n",
    "predictor_instance_type = \"ml.c5.xlarge\"\n",
    "batch_transform_instance_count = 1\n",
    "batch_transform_instance_type = \"ml.c5.xlarge\""
   ]
  },
  {
   "cell_type": "markdown",
   "metadata": {},
   "source": [
    "<a id ='deploy-model'></a>\n",
    "\n",
    "## Deploy an approved model and make prediction via Feature Store\n",
    "\n",
    "[overview](#overview-4)"
   ]
  },
  {
   "cell_type": "markdown",
   "metadata": {},
   "source": [
    "#### Approve the second model\n",
    "In the real-life MLOps lifecycle, a model package gets approved after evaluation by data scientists, subject matter experts and auditors."
   ]
  },
  {
   "cell_type": "markdown",
   "metadata": {},
   "source": [
    "![train-assess-tune-register](./images/bestmodel.png)"
   ]
  },
  {
   "cell_type": "code",
   "execution_count": 7,
   "metadata": {},
   "outputs": [
    {
     "data": {
      "text/plain": [
       "{'ModelPackageGroupName': 'fraud-detect-demo',\n",
       " 'ModelPackageVersion': 3,\n",
       " 'ModelPackageArn': 'arn:aws:sagemaker:us-east-1:875692608981:model-package/fraud-detect-demo/3',\n",
       " 'ModelPackageDescription': 'XGBoost classifier to detect insurance fraud with SMOTE.',\n",
       " 'CreationTime': datetime.datetime(2021, 11, 18, 3, 7, 4, 923000, tzinfo=tzlocal()),\n",
       " 'ModelPackageStatus': 'Completed',\n",
       " 'ModelApprovalStatus': 'PendingManualApproval'}"
      ]
     },
     "execution_count": 7,
     "metadata": {},
     "output_type": "execute_result"
    }
   ],
   "source": [
    "sagemaker_client.list_model_packages(ModelPackageGroupName=mpg_name)[\"ModelPackageSummaryList\"][0]"
   ]
  },
  {
   "cell_type": "code",
   "execution_count": 8,
   "metadata": {},
   "outputs": [
    {
     "data": {
      "text/plain": [
       "{'ModelPackageArn': 'arn:aws:sagemaker:us-east-1:875692608981:model-package/fraud-detect-demo/3',\n",
       " 'ResponseMetadata': {'RequestId': '54452cb1-266f-4dc0-bb4c-2dfa58afd816',\n",
       "  'HTTPStatusCode': 200,\n",
       "  'HTTPHeaders': {'x-amzn-requestid': '54452cb1-266f-4dc0-bb4c-2dfa58afd816',\n",
       "   'content-type': 'application/x-amz-json-1.1',\n",
       "   'content-length': '96',\n",
       "   'date': 'Thu, 18 Nov 2021 03:09:53 GMT'},\n",
       "  'RetryAttempts': 0}}"
      ]
     },
     "execution_count": 8,
     "metadata": {},
     "output_type": "execute_result"
    }
   ],
   "source": [
    "second_model_package = sagemaker_client.list_model_packages(ModelPackageGroupName=mpg_name)[\"ModelPackageSummaryList\"][0]\n",
    "model_package_update = {\n",
    "    \"ModelPackageArn\": second_model_package[\"ModelPackageArn\"],\n",
    "    \"ModelApprovalStatus\": \"Approved\",\n",
    "}\n",
    "\n",
    "update_response = sagemaker_client.update_model_package(**model_package_update)\n",
    "update_response"
   ]
  },
  {
   "cell_type": "markdown",
   "metadata": {},
   "source": [
    "#### Create an endpoint config and an endpoint\n",
    "Deploy the endpoint. This might take about 8minutes."
   ]
  },
  {
   "cell_type": "markdown",
   "metadata": {},
   "source": [
    "![train-assess-tune-register](./images/endpoint.png)"
   ]
  },
  {
   "cell_type": "code",
   "execution_count": 9,
   "metadata": {},
   "outputs": [
    {
     "name": "stdout",
     "output_type": "stream",
     "text": [
      "Stored 'endpoint_config_name' (str)\n",
      "Endpoint Config name: fraud-detect-demo-xgboost-post-smote-endpoint-config\n"
     ]
    }
   ],
   "source": [
    "primary_container = {'ModelPackageName': second_model_package['ModelPackageArn']}\n",
    "endpoint_config_name=f'{model_2_name}-endpoint-config'\n",
    "existing_configs = len(sagemaker_client.list_endpoint_configs(NameContains=endpoint_config_name, MaxResults = 30)['EndpointConfigs'])\n",
    "\n",
    "if existing_configs == 0:\n",
    "    create_ep_config_response = sagemaker_client.create_endpoint_config(\n",
    "        EndpointConfigName=endpoint_config_name,\n",
    "        ProductionVariants=[{\n",
    "            'InstanceType': endpoint_instance_type,\n",
    "            'InitialVariantWeight': 1,\n",
    "            'InitialInstanceCount': endpoint_instance_count,\n",
    "            'ModelName': model_2_name,\n",
    "            'VariantName': 'AllTraffic'\n",
    "        }]\n",
    "    )\n",
    "    %store endpoint_config_name\n",
    "    print(f\"Endpoint Config name: {endpoint_config_name}\")"
   ]
  },
  {
   "cell_type": "code",
   "execution_count": 10,
   "metadata": {},
   "outputs": [
    {
     "name": "stdout",
     "output_type": "stream",
     "text": [
      "Stored 'endpoint_name' (str)\n",
      "Endpoint name: fraud-detect-demo-xgboost-post-smote-endpoint\n",
      "Endpoint status: Creating\n",
      "Endpoint status: Creating\n",
      "Endpoint status: Creating\n",
      "Endpoint status: Creating\n",
      "Endpoint status: Creating\n",
      "Endpoint status: InService\n"
     ]
    }
   ],
   "source": [
    "existing_endpoints = sagemaker_client.list_endpoints(NameContains=endpoint_name, MaxResults = 30)['Endpoints']\n",
    "if not existing_endpoints:\n",
    "    create_endpoint_response = sagemaker_client.create_endpoint(\n",
    "        EndpointName=endpoint_name,\n",
    "        EndpointConfigName=endpoint_config_name)\n",
    "    %store endpoint_name\n",
    "    print(f\"Endpoint name: {endpoint_name}\")\n",
    "\n",
    "endpoint_info = sagemaker_client.describe_endpoint(EndpointName=endpoint_name)\n",
    "endpoint_status = endpoint_info['EndpointStatus']\n",
    "\n",
    "while endpoint_status == 'Creating':\n",
    "    endpoint_info = sagemaker_client.describe_endpoint(EndpointName=endpoint_name)\n",
    "    endpoint_status = endpoint_info['EndpointStatus']\n",
    "    print('Endpoint status:', endpoint_status)\n",
    "    if endpoint_status == 'Creating':\n",
    "        time.sleep(60)"
   ]
  },
  {
   "cell_type": "markdown",
   "metadata": {},
   "source": [
    "<a id='predictor'> </a>\n",
    "\n",
    "### Create a predictor"
   ]
  },
  {
   "cell_type": "code",
   "execution_count": 11,
   "metadata": {},
   "outputs": [
    {
     "name": "stdout",
     "output_type": "stream",
     "text": [
      "------------------!"
     ]
    }
   ],
   "source": [
    "predictor = sagemaker.predictor.Predictor(\n",
    "    endpoint_name=endpoint_name, sagemaker_session=sagemaker_session\n",
    ")\n",
    "\n",
    "predictor.enable_data_capture()"
   ]
  },
  {
   "cell_type": "markdown",
   "metadata": {},
   "source": [
    "### Split Dataset"
   ]
  },
  {
   "cell_type": "code",
   "execution_count": 12,
   "metadata": {},
   "outputs": [],
   "source": [
    "dataset = pd.read_csv(\"data/dataset.csv\")\n",
    "train = dataset.sample(frac=0.8, random_state=0)\n",
    "test = dataset.drop(train.index)"
   ]
  },
  {
   "cell_type": "code",
   "execution_count": 13,
   "metadata": {},
   "outputs": [
    {
     "name": "stdout",
     "output_type": "stream",
     "text": [
      "<class 'pandas.core.frame.DataFrame'>\n",
      "Int64Index: 1000 entries, 0 to 4997\n",
      "Data columns (total 48 columns):\n",
      " #   Column                           Non-Null Count  Dtype  \n",
      "---  ------                           --------------  -----  \n",
      " 0   Unnamed: 0                       1000 non-null   int64  \n",
      " 1   policy_id                        1000 non-null   int64  \n",
      " 2   customer_gender_male             1000 non-null   int64  \n",
      " 3   customer_education               1000 non-null   int64  \n",
      " 4   incident_type_collision          1000 non-null   int64  \n",
      " 5   fraud                            1000 non-null   int64  \n",
      " 6   num_injuries                     1000 non-null   int64  \n",
      " 7   policy_liability                 1000 non-null   int64  \n",
      " 8   customer_gender_female           1000 non-null   int64  \n",
      " 9   incident_severity                1000 non-null   int64  \n",
      " 10  authorities_contacted_fire       1000 non-null   int64  \n",
      " 11  collision_type_front             1000 non-null   int64  \n",
      " 12  incident_type_theft              1000 non-null   int64  \n",
      " 13  authorities_contacted_none       1000 non-null   int64  \n",
      " 14  collision_type_rear              1000 non-null   int64  \n",
      " 15  policy_state_or                  1000 non-null   int64  \n",
      " 16  policy_annual_premium            1000 non-null   int64  \n",
      " 17  policy_state_az                  1000 non-null   int64  \n",
      " 18  incident_type_breakin            1000 non-null   int64  \n",
      " 19  collision_type_na                1000 non-null   int64  \n",
      " 20  driver_relationship_na           1000 non-null   int64  \n",
      " 21  num_witnesses                    1000 non-null   int64  \n",
      " 22  months_as_customer               1000 non-null   int64  \n",
      " 23  policy_state_nv                  1000 non-null   int64  \n",
      " 24  policy_state_id                  1000 non-null   int64  \n",
      " 25  incident_hour                    1000 non-null   int64  \n",
      " 26  incident_month                   1000 non-null   int64  \n",
      " 27  authorities_contacted_ambulance  1000 non-null   int64  \n",
      " 28  driver_relationship_spouse       1000 non-null   int64  \n",
      " 29  incident_day                     1000 non-null   int64  \n",
      " 30  policy_state_ca                  1000 non-null   int64  \n",
      " 31  driver_relationship_child        1000 non-null   int64  \n",
      " 32  total_claim_amount               1000 non-null   float64\n",
      " 33  vehicle_claim                    1000 non-null   float64\n",
      " 34  injury_claim                     1000 non-null   float64\n",
      " 35  num_claims_past_year             1000 non-null   int64  \n",
      " 36  customer_age                     1000 non-null   int64  \n",
      " 37  auto_year                        1000 non-null   int64  \n",
      " 38  police_report_available          1000 non-null   int64  \n",
      " 39  incident_dow                     1000 non-null   int64  \n",
      " 40  num_vehicles_involved            1000 non-null   int64  \n",
      " 41  num_insurers_past_5_years        1000 non-null   int64  \n",
      " 42  collision_type_side              1000 non-null   int64  \n",
      " 43  driver_relationship_self         1000 non-null   int64  \n",
      " 44  policy_state_wa                  1000 non-null   int64  \n",
      " 45  policy_deductable                1000 non-null   int64  \n",
      " 46  driver_relationship_other        1000 non-null   int64  \n",
      " 47  authorities_contacted_police     1000 non-null   int64  \n",
      "dtypes: float64(3), int64(45)\n",
      "memory usage: 382.8 KB\n"
     ]
    }
   ],
   "source": [
    "test.info()"
   ]
  },
  {
   "cell_type": "markdown",
   "metadata": {},
   "source": [
    "### Get sample's claim data from online feature store\n",
    "This will simulate getting data in real-time from a customer's insurance claim submission."
   ]
  },
  {
   "cell_type": "markdown",
   "metadata": {},
   "source": [
    "![train-assess-tune-register](./images/endpoint2.png)"
   ]
  },
  {
   "cell_type": "code",
   "execution_count": 14,
   "metadata": {},
   "outputs": [
    {
     "data": {
      "text/plain": [
       "<sagemaker.session.Session at 0x7fc124cc9450>"
      ]
     },
     "execution_count": 14,
     "metadata": {},
     "output_type": "execute_result"
    }
   ],
   "source": [
    "featurestore_runtime = boto_session.client(\n",
    "    service_name=\"sagemaker-featurestore-runtime\", region_name=region\n",
    ")\n",
    "\n",
    "feature_store_session = sagemaker.Session(\n",
    "    boto_session=boto_session,\n",
    "    sagemaker_client=sagemaker_client,\n",
    "    sagemaker_featurestore_runtime_client=featurestore_runtime,\n",
    ")\n",
    "feature_store_session"
   ]
  },
  {
   "cell_type": "markdown",
   "metadata": {},
   "source": [
    "<a id='run-predictions'> </a>\n",
    "\n",
    "## Run Predictions on Multiple Claims\n",
    "\n",
    "[overview](#overview-4)"
   ]
  },
  {
   "cell_type": "code",
   "execution_count": 15,
   "metadata": {
    "scrolled": true
   },
   "outputs": [
    {
     "name": "stdout",
     "output_type": "stream",
     "text": [
      "Probablitity the claim from policy 4516 is fraudulent:, 0.01880461908876896  Time 00.039854\n",
      "Probablitity the claim from policy 823 is fraudulent:, 0.01880461908876896  Time 00.012036\n",
      "Probablitity the claim from policy 3286 is fraudulent:, 0.06872951984405518  Time 00.009671\n",
      "Probablitity the claim from policy 2154 is fraudulent:, 0.01635090820491314  Time 00.010776\n",
      "Probablitity the claim from policy 3658 is fraudulent:, 0.053575288504362106  Time 00.009784\n",
      "Probablitity the claim from policy 4683 is fraudulent:, 0.06872951984405518  Time 00.010459\n",
      "Probablitity the claim from policy 2121 is fraudulent:, 0.01635090820491314  Time 00.014014\n",
      "Probablitity the claim from policy 446 is fraudulent:, 0.13182105123996735  Time 00.014302\n",
      "Probablitity the claim from policy 3428 is fraudulent:, 0.1972830593585968  Time 00.029294\n",
      "Probablitity the claim from policy 1846 is fraudulent:, 0.01880461908876896  Time 00.011701\n",
      "Probablitity the claim from policy 2992 is fraudulent:, 0.014692461118102074  Time 00.010809\n",
      "Probablitity the claim from policy 2115 is fraudulent:, 0.04537908732891083  Time 00.010888\n",
      "Probablitity the claim from policy 4883 is fraudulent:, 0.01880461908876896  Time 00.013229\n",
      "Probablitity the claim from policy 3513 is fraudulent:, 0.01880461908876896  Time 00.010596\n",
      "Probablitity the claim from policy 3544 is fraudulent:, 0.02523578703403473  Time 00.008917\n",
      "Probablitity the claim from policy 305 is fraudulent:, 0.01815200224518776  Time 00.009827\n",
      "Probablitity the claim from policy 1859 is fraudulent:, 0.06872951984405518  Time 00.008811\n",
      "Probablitity the claim from policy 3802 is fraudulent:, 0.02983616106212139  Time 00.013419\n",
      "Probablitity the claim from policy 770 is fraudulent:, 0.03607519716024399  Time 00.008740\n",
      "Probablitity the claim from policy 826 is fraudulent:, 0.06872951984405518  Time 00.019140\n",
      "Probablitity the claim from policy 4872 is fraudulent:, 0.01635090820491314  Time 00.011614\n",
      "Probablitity the claim from policy 346 is fraudulent:, 0.06442569941282272  Time 00.009791\n",
      "Probablitity the claim from policy 3306 is fraudulent:, 0.06872951984405518  Time 00.012230\n",
      "Probablitity the claim from policy 4903 is fraudulent:, 0.06872951984405518  Time 00.010330\n",
      "Probablitity the claim from policy 1190 is fraudulent:, 0.12390187382698059  Time 00.013896\n",
      "Probablitity the claim from policy 3428 is fraudulent:, 0.1972830593585968  Time 00.009638\n",
      "Probablitity the claim from policy 943 is fraudulent:, 0.015757855027914047  Time 00.009542\n",
      "Probablitity the claim from policy 1907 is fraudulent:, 0.014889645390212536  Time 00.011322\n",
      "Probablitity the claim from policy 1609 is fraudulent:, 0.12007119506597519  Time 00.008647\n",
      "Probablitity the claim from policy 3235 is fraudulent:, 0.01635090820491314  Time 00.008575\n",
      "Probablitity the claim from policy 3939 is fraudulent:, 0.08466725051403046  Time 00.011182\n",
      "Probablitity the claim from policy 1000 is fraudulent:, 0.018482590094208717  Time 00.010315\n",
      "Probablitity the claim from policy 817 is fraudulent:, 0.01880461908876896  Time 00.010314\n",
      "Probablitity the claim from policy 826 is fraudulent:, 0.06872951984405518  Time 00.009601\n",
      "Probablitity the claim from policy 1025 is fraudulent:, 0.07280483841896057  Time 00.008598\n",
      "Probablitity the claim from policy 4027 is fraudulent:, 0.014692461118102074  Time 00.011650\n",
      "Probablitity the claim from policy 1408 is fraudulent:, 0.022514179348945618  Time 00.009439\n",
      "Probablitity the claim from policy 73 is fraudulent:, 0.06872951984405518  Time 00.032286\n",
      "Probablitity the claim from policy 4054 is fraudulent:, 0.01880461908876896  Time 00.010670\n",
      "Probablitity the claim from policy 4790 is fraudulent:, 0.01880461908876896  Time 00.009853\n",
      "Probablitity the claim from policy 2378 is fraudulent:, 0.01880461908876896  Time 00.007946\n",
      "Probablitity the claim from policy 3662 is fraudulent:, 0.04828094691038132  Time 00.008697\n",
      "Probablitity the claim from policy 181 is fraudulent:, 0.014692461118102074  Time 00.008784\n",
      "Probablitity the claim from policy 4249 is fraudulent:, 0.02523578703403473  Time 00.009937\n",
      "Probablitity the claim from policy 1241 is fraudulent:, 0.02983616106212139  Time 00.009986\n",
      "Probablitity the claim from policy 4663 is fraudulent:, 0.048505038022994995  Time 00.010330\n",
      "Probablitity the claim from policy 2 is fraudulent:, 0.02983616106212139  Time 00.045879\n",
      "Probablitity the claim from policy 4146 is fraudulent:, 0.01880461908876896  Time 00.012819\n",
      "Probablitity the claim from policy 2974 is fraudulent:, 0.014889645390212536  Time 00.011280\n",
      "Probablitity the claim from policy 2725 is fraudulent:, 0.01815200224518776  Time 00.011085\n",
      "Probablitity the claim from policy 2551 is fraudulent:, 0.019917605444788933  Time 00.011196\n",
      "Probablitity the claim from policy 3059 is fraudulent:, 0.03617865592241287  Time 00.046952\n",
      "Probablitity the claim from policy 3392 is fraudulent:, 0.014889645390212536  Time 00.010717\n",
      "Probablitity the claim from policy 4560 is fraudulent:, 0.01880461908876896  Time 00.011936\n",
      "Probablitity the claim from policy 3235 is fraudulent:, 0.01635090820491314  Time 00.011714\n",
      "Probablitity the claim from policy 4096 is fraudulent:, 0.01880461908876896  Time 00.055824\n",
      "Probablitity the claim from policy 1321 is fraudulent:, 0.06872951984405518  Time 00.010741\n",
      "Probablitity the claim from policy 2446 is fraudulent:, 0.014889645390212536  Time 00.009115\n",
      "Probablitity the claim from policy 4161 is fraudulent:, 0.02983616106212139  Time 00.010853\n",
      "Probablitity the claim from policy 3628 is fraudulent:, 0.09991726279258728  Time 00.011378\n",
      "Probablitity the claim from policy 1771 is fraudulent:, 0.01635090820491314  Time 00.010986\n",
      "Probablitity the claim from policy 4620 is fraudulent:, 0.02983616106212139  Time 00.010567\n",
      "Probablitity the claim from policy 1750 is fraudulent:, 0.03690067678689957  Time 00.011025\n",
      "Probablitity the claim from policy 178 is fraudulent:, 0.01880461908876896  Time 00.010389\n",
      "Probablitity the claim from policy 3300 is fraudulent:, 0.06442569941282272  Time 00.013550\n",
      "Probablitity the claim from policy 4730 is fraudulent:, 0.02983616106212139  Time 00.009769\n",
      "Probablitity the claim from policy 3861 is fraudulent:, 0.01635090820491314  Time 00.011735\n",
      "Probablitity the claim from policy 1424 is fraudulent:, 0.014889645390212536  Time 00.023845\n",
      "Probablitity the claim from policy 3720 is fraudulent:, 0.01880461908876896  Time 00.010371\n",
      "Probablitity the claim from policy 552 is fraudulent:, 0.12007119506597519  Time 00.009152\n",
      "Probablitity the claim from policy 1829 is fraudulent:, 0.02983616106212139  Time 00.008868\n",
      "Probablitity the claim from policy 2795 is fraudulent:, 0.01880461908876896  Time 00.014031\n",
      "Probablitity the claim from policy 29 is fraudulent:, 0.11031734943389893  Time 00.008224\n",
      "Probablitity the claim from policy 1788 is fraudulent:, 0.06872951984405518  Time 00.010284\n",
      "Probablitity the claim from policy 2106 is fraudulent:, 0.06442569941282272  Time 00.009572\n",
      "Probablitity the claim from policy 1143 is fraudulent:, 0.01880461908876896  Time 00.008967\n",
      "Probablitity the claim from policy 682 is fraudulent:, 0.05626356601715088  Time 00.009699\n",
      "Probablitity the claim from policy 3720 is fraudulent:, 0.01880461908876896  Time 00.008452\n",
      "Probablitity the claim from policy 3347 is fraudulent:, 0.06872951984405518  Time 00.011491\n",
      "Probablitity the claim from policy 4135 is fraudulent:, 0.02983616106212139  Time 00.009689\n",
      "Probablitity the claim from policy 3189 is fraudulent:, 0.12124424427747726  Time 00.009440\n",
      "Probablitity the claim from policy 2008 is fraudulent:, 0.01880461908876896  Time 00.009565\n",
      "Probablitity the claim from policy 3113 is fraudulent:, 0.06872951984405518  Time 00.011358\n",
      "Probablitity the claim from policy 2302 is fraudulent:, 0.03690067678689957  Time 00.009552\n",
      "Probablitity the claim from policy 2762 is fraudulent:, 0.01880461908876896  Time 00.009534\n",
      "Probablitity the claim from policy 963 is fraudulent:, 0.16849197447299957  Time 00.010758\n",
      "Probablitity the claim from policy 2429 is fraudulent:, 0.01815200224518776  Time 00.011684\n",
      "Probablitity the claim from policy 1460 is fraudulent:, 0.014692461118102074  Time 00.010512\n",
      "Probablitity the claim from policy 4004 is fraudulent:, 0.01880461908876896  Time 00.009616\n",
      "Probablitity the claim from policy 1436 is fraudulent:, 0.01635090820491314  Time 00.010871\n",
      "Probablitity the claim from policy 421 is fraudulent:, 0.06872951984405518  Time 00.009552\n",
      "Probablitity the claim from policy 1949 is fraudulent:, 0.014889645390212536  Time 00.009166\n",
      "Probablitity the claim from policy 256 is fraudulent:, 0.015757855027914047  Time 00.010889\n",
      "Probablitity the claim from policy 4462 is fraudulent:, 0.18255828320980072  Time 00.013421\n",
      "Probablitity the claim from policy 1571 is fraudulent:, 0.06442569941282272  Time 00.010573\n",
      "Probablitity the claim from policy 3816 is fraudulent:, 0.014889645390212536  Time 00.010851\n",
      "Probablitity the claim from policy 2947 is fraudulent:, 0.05464639514684677  Time 00.009666\n",
      "Probablitity the claim from policy 4456 is fraudulent:, 0.014692461118102074  Time 00.009807\n",
      "Probablitity the claim from policy 61 is fraudulent:, 0.01880461908876896  Time 00.009606\n",
      "Probablitity the claim from policy 1540 is fraudulent:, 0.08024833351373672  Time 00.011326\n"
     ]
    }
   ],
   "source": [
    "import datetime as datetime\n",
    "\n",
    "timer = []\n",
    "MAXRECS = 100\n",
    "\n",
    "\n",
    "def barrage_of_inference():\n",
    "    sample_policy_id = int(test.sample(1)[\"policy_id\"])\n",
    "\n",
    "    temp_fg_name = \"fraud-detect-demo-claims\"\n",
    "\n",
    "    claims_response = featurestore_runtime.get_record(\n",
    "        FeatureGroupName=temp_fg_name, RecordIdentifierValueAsString=str(sample_policy_id)\n",
    "    )\n",
    "\n",
    "    if claims_response.get(\"Record\"):\n",
    "        claims_record = claims_response[\"Record\"]\n",
    "        claims_df = pd.DataFrame(claims_record).set_index(\"FeatureName\")\n",
    "    else:\n",
    "        print(\"No Record returned / Record Key  \\n\")\n",
    "\n",
    "    t0 = datetime.datetime.now()\n",
    "\n",
    "    customers_response = featurestore_runtime.get_record(\n",
    "        FeatureGroupName=customers_fg_name, RecordIdentifierValueAsString=str(sample_policy_id)\n",
    "    )\n",
    "\n",
    "    t1 = datetime.datetime.now()\n",
    "\n",
    "    customer_record = customers_response[\"Record\"]\n",
    "    customer_df = pd.DataFrame(customer_record).set_index(\"FeatureName\")\n",
    "\n",
    "    blended_df = pd.concat([claims_df, customer_df]).loc[col_order].drop(\"fraud\")\n",
    "    data_input = \",\".join(blended_df[\"ValueAsString\"])\n",
    "\n",
    "    results = predictor.predict(data_input, initial_args={\"ContentType\": \"text/csv\"})\n",
    "    prediction = json.loads(results)\n",
    "    # print (f'Probablitity the claim from policy {int(sample_policy_id)} is fraudulent:', prediction)\n",
    "\n",
    "    arr = t1 - t0\n",
    "    minutes, seconds = divmod(arr.total_seconds(), 60)\n",
    "\n",
    "    timer.append(seconds)\n",
    "    # print (prediction, \" done in {} \".format(seconds))\n",
    "\n",
    "    return sample_policy_id, prediction, arr\n",
    "\n",
    "\n",
    "for i in range(MAXRECS):\n",
    "    sample_policy_id, prediction, arr = barrage_of_inference()\n",
    "    print(f\"Probablitity the claim from policy {int(sample_policy_id)} is fraudulent:, {prediction}  Time {str(arr).split(':')[2]}\")"
   ]
  },
  {
   "cell_type": "markdown",
   "metadata": {},
   "source": [
    "Note: the above \"timer\" records the first call and then subsequent calls to the online Feature Store"
   ]
  },
  {
   "cell_type": "code",
   "execution_count": 16,
   "metadata": {},
   "outputs": [
    {
     "name": "stdout",
     "output_type": "stream",
     "text": [
      "p95: 0.029443599999999993, p99: 0.04704072000000004, mean: 0.012613419999999997 for 100 distinct feature store gets\n"
     ]
    }
   ],
   "source": [
    "import statistics\n",
    "import numpy as np\n",
    "\n",
    "statistics.mean(timer)\n",
    "\n",
    "\n",
    "arr = np.array(timer)\n",
    "print(\n",
    "    \"p95: {}, p99: {}, mean: {} for {} distinct feature store gets\".format(\n",
    "        np.percentile(arr, 95), np.percentile(arr, 99), np.mean(arr), MAXRECS\n",
    "    )\n",
    ")"
   ]
  },
  {
   "cell_type": "markdown",
   "metadata": {},
   "source": [
    "### Pull customer data from Customers feature group\n",
    "When a customer submits an insurance claim online for instant approval, the insurance company will need to pull customer-specific data from the online feature store to add to the claim data as input for a model prediction."
   ]
  },
  {
   "cell_type": "markdown",
   "metadata": {},
   "source": [
    "### Sample a claim from the test data"
   ]
  },
  {
   "cell_type": "code",
   "execution_count": 17,
   "metadata": {},
   "outputs": [
    {
     "name": "stdout",
     "output_type": "stream",
     "text": [
      "Sample Policy ID: 4374\n"
     ]
    }
   ],
   "source": [
    "sample_policy_id = int(test.sample(1)[\"policy_id\"])\n",
    "print(f\"Sample Policy ID: {sample_policy_id}\")"
   ]
  },
  {
   "cell_type": "code",
   "execution_count": 18,
   "metadata": {},
   "outputs": [
    {
     "data": {
      "text/html": [
       "<div>\n",
       "<style scoped>\n",
       "    .dataframe tbody tr th:only-of-type {\n",
       "        vertical-align: middle;\n",
       "    }\n",
       "\n",
       "    .dataframe tbody tr th {\n",
       "        vertical-align: top;\n",
       "    }\n",
       "\n",
       "    .dataframe thead th {\n",
       "        text-align: right;\n",
       "    }\n",
       "</style>\n",
       "<table border=\"1\" class=\"dataframe\">\n",
       "  <thead>\n",
       "    <tr style=\"text-align: right;\">\n",
       "      <th></th>\n",
       "      <th>ValueAsString</th>\n",
       "    </tr>\n",
       "    <tr>\n",
       "      <th>FeatureName</th>\n",
       "      <th></th>\n",
       "    </tr>\n",
       "  </thead>\n",
       "  <tbody>\n",
       "    <tr>\n",
       "      <th>policy_id</th>\n",
       "      <td>4374</td>\n",
       "    </tr>\n",
       "    <tr>\n",
       "      <th>incident_severity</th>\n",
       "      <td>0</td>\n",
       "    </tr>\n",
       "    <tr>\n",
       "      <th>num_vehicles_involved</th>\n",
       "      <td>2</td>\n",
       "    </tr>\n",
       "    <tr>\n",
       "      <th>num_injuries</th>\n",
       "      <td>0</td>\n",
       "    </tr>\n",
       "    <tr>\n",
       "      <th>num_witnesses</th>\n",
       "      <td>0</td>\n",
       "    </tr>\n",
       "    <tr>\n",
       "      <th>police_report_available</th>\n",
       "      <td>0</td>\n",
       "    </tr>\n",
       "    <tr>\n",
       "      <th>injury_claim</th>\n",
       "      <td>10200.0</td>\n",
       "    </tr>\n",
       "    <tr>\n",
       "      <th>vehicle_claim</th>\n",
       "      <td>12657.0</td>\n",
       "    </tr>\n",
       "    <tr>\n",
       "      <th>total_claim_amount</th>\n",
       "      <td>22857.0</td>\n",
       "    </tr>\n",
       "    <tr>\n",
       "      <th>incident_month</th>\n",
       "      <td>10</td>\n",
       "    </tr>\n",
       "    <tr>\n",
       "      <th>incident_day</th>\n",
       "      <td>17</td>\n",
       "    </tr>\n",
       "    <tr>\n",
       "      <th>incident_dow</th>\n",
       "      <td>3</td>\n",
       "    </tr>\n",
       "    <tr>\n",
       "      <th>incident_hour</th>\n",
       "      <td>16</td>\n",
       "    </tr>\n",
       "    <tr>\n",
       "      <th>fraud</th>\n",
       "      <td>0</td>\n",
       "    </tr>\n",
       "    <tr>\n",
       "      <th>driver_relationship_self</th>\n",
       "      <td>1</td>\n",
       "    </tr>\n",
       "    <tr>\n",
       "      <th>driver_relationship_na</th>\n",
       "      <td>0</td>\n",
       "    </tr>\n",
       "    <tr>\n",
       "      <th>driver_relationship_spouse</th>\n",
       "      <td>0</td>\n",
       "    </tr>\n",
       "    <tr>\n",
       "      <th>driver_relationship_child</th>\n",
       "      <td>0</td>\n",
       "    </tr>\n",
       "    <tr>\n",
       "      <th>driver_relationship_other</th>\n",
       "      <td>0</td>\n",
       "    </tr>\n",
       "    <tr>\n",
       "      <th>incident_type_collision</th>\n",
       "      <td>1</td>\n",
       "    </tr>\n",
       "    <tr>\n",
       "      <th>incident_type_breakin</th>\n",
       "      <td>0</td>\n",
       "    </tr>\n",
       "    <tr>\n",
       "      <th>incident_type_theft</th>\n",
       "      <td>0</td>\n",
       "    </tr>\n",
       "    <tr>\n",
       "      <th>collision_type_front</th>\n",
       "      <td>1</td>\n",
       "    </tr>\n",
       "    <tr>\n",
       "      <th>collision_type_rear</th>\n",
       "      <td>0</td>\n",
       "    </tr>\n",
       "    <tr>\n",
       "      <th>collision_type_side</th>\n",
       "      <td>0</td>\n",
       "    </tr>\n",
       "    <tr>\n",
       "      <th>collision_type_na</th>\n",
       "      <td>0</td>\n",
       "    </tr>\n",
       "    <tr>\n",
       "      <th>authorities_contacted_police</th>\n",
       "      <td>0</td>\n",
       "    </tr>\n",
       "    <tr>\n",
       "      <th>authorities_contacted_none</th>\n",
       "      <td>1</td>\n",
       "    </tr>\n",
       "    <tr>\n",
       "      <th>authorities_contacted_ambulance</th>\n",
       "      <td>0</td>\n",
       "    </tr>\n",
       "    <tr>\n",
       "      <th>authorities_contacted_fire</th>\n",
       "      <td>0</td>\n",
       "    </tr>\n",
       "    <tr>\n",
       "      <th>event_time</th>\n",
       "      <td>1637200135.806848</td>\n",
       "    </tr>\n",
       "  </tbody>\n",
       "</table>\n",
       "</div>"
      ],
      "text/plain": [
       "                                     ValueAsString\n",
       "FeatureName                                       \n",
       "policy_id                                     4374\n",
       "incident_severity                                0\n",
       "num_vehicles_involved                            2\n",
       "num_injuries                                     0\n",
       "num_witnesses                                    0\n",
       "police_report_available                          0\n",
       "injury_claim                               10200.0\n",
       "vehicle_claim                              12657.0\n",
       "total_claim_amount                         22857.0\n",
       "incident_month                                  10\n",
       "incident_day                                    17\n",
       "incident_dow                                     3\n",
       "incident_hour                                   16\n",
       "fraud                                            0\n",
       "driver_relationship_self                         1\n",
       "driver_relationship_na                           0\n",
       "driver_relationship_spouse                       0\n",
       "driver_relationship_child                        0\n",
       "driver_relationship_other                        0\n",
       "incident_type_collision                          1\n",
       "incident_type_breakin                            0\n",
       "incident_type_theft                              0\n",
       "collision_type_front                             1\n",
       "collision_type_rear                              0\n",
       "collision_type_side                              0\n",
       "collision_type_na                                0\n",
       "authorities_contacted_police                     0\n",
       "authorities_contacted_none                       1\n",
       "authorities_contacted_ambulance                  0\n",
       "authorities_contacted_fire                       0\n",
       "event_time                       1637200135.806848"
      ]
     },
     "execution_count": 18,
     "metadata": {},
     "output_type": "execute_result"
    }
   ],
   "source": [
    "customers_response = featurestore_runtime.get_record(\n",
    "    FeatureGroupName=customers_fg_name, RecordIdentifierValueAsString=str(sample_policy_id)\n",
    ")\n",
    "\n",
    "customer_record = customers_response[\"Record\"]\n",
    "customer_df = pd.DataFrame(customer_record).set_index(\"FeatureName\")\n",
    "\n",
    "\n",
    "claims_response = featurestore_runtime.get_record(\n",
    "    FeatureGroupName=claims_fg_name, RecordIdentifierValueAsString=str(sample_policy_id)\n",
    ")\n",
    "\n",
    "claims_record = claims_response[\"Record\"]\n",
    "claims_df = pd.DataFrame(claims_record).set_index(\"FeatureName\")\n",
    "claims_df"
   ]
  },
  {
   "cell_type": "markdown",
   "metadata": {},
   "source": [
    "### Format the datapoint\n",
    "The datapoint must match the exact input format as the model was trained--with all features in the correct order. In this example, the `col_order` variable was saved when you created the train and test datasets earlier in the guide."
   ]
  },
  {
   "cell_type": "code",
   "execution_count": 19,
   "metadata": {},
   "outputs": [
    {
     "data": {
      "text/plain": [
       "'1,2,1,0,0,0,0,0,1,0,1,0,0,3000,0,0,0,0,0,65,0,0,16,10,0,0,17,1,0,22857.0,12657.0,10200.0,0,45,2014,0,3,2,1,0,1,0,750,0,0'"
      ]
     },
     "execution_count": 19,
     "metadata": {},
     "output_type": "execute_result"
    }
   ],
   "source": [
    "blended_df = pd.concat([claims_df, customer_df]).loc[col_order].drop(\"fraud\")\n",
    "blended_df\n",
    "data_input = \",\".join(blended_df[\"ValueAsString\"])\n",
    "data_input"
   ]
  },
  {
   "cell_type": "markdown",
   "metadata": {},
   "source": [
    "### Make prediction"
   ]
  },
  {
   "cell_type": "code",
   "execution_count": 20,
   "metadata": {},
   "outputs": [
    {
     "name": "stdout",
     "output_type": "stream",
     "text": [
      "Probablitity the claim from policy 4374 is fraudulent: 0.06872951984405518\n"
     ]
    }
   ],
   "source": [
    "results = predictor.predict(data_input, initial_args={\"ContentType\": \"text/csv\"})\n",
    "prediction = json.loads(results)\n",
    "print(f\"Probablitity the claim from policy {int(sample_policy_id)} is fraudulent:\", prediction)"
   ]
  },
  {
   "cell_type": "markdown",
   "metadata": {},
   "source": [
    "----\n",
    "\n",
    "<a id='aud-workflow-pipeline'></a>\n",
    "\n",
    "### Next Notebook: [Create and Run an End-to-End Pipeline to Deploy the Model](./07-Pipeline.ipynb)\n",
    "Now that as a Data Scientist, you've manually experimented with each step in our machine learning workflow, you can take certain steps to allow for faster model creation and deployment without sacrificing transparency and tracking via model lineage. In the next section you will create a pipeline which trains a new model on SageMaker, persists the model in SageMaker and then adds the model to the registry and deploys it as a SageMaker hosted endpoint."
   ]
  },
  {
   "cell_type": "code",
   "execution_count": null,
   "metadata": {},
   "outputs": [],
   "source": []
  }
 ],
 "metadata": {
  "instance_type": "ml.t3.medium",
  "kernelspec": {
   "display_name": "Python 3 (Data Science)",
   "language": "python",
   "name": "python3__SAGEMAKER_INTERNAL__arn:aws:sagemaker:us-east-1:081325390199:image/datascience-1.0"
  },
  "language_info": {
   "codemirror_mode": {
    "name": "ipython",
    "version": 3
   },
   "file_extension": ".py",
   "mimetype": "text/x-python",
   "name": "python",
   "nbconvert_exporter": "python",
   "pygments_lexer": "ipython3",
   "version": "3.7.10"
  }
 },
 "nbformat": 4,
 "nbformat_minor": 4
}
