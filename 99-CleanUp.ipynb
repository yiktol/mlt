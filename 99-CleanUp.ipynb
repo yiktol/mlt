{
 "cells": [
  {
   "cell_type": "markdown",
   "metadata": {},
   "source": [
    "# CleanUp\n"
   ]
  },
  {
   "cell_type": "markdown",
   "metadata": {},
   "source": [
    "## Prerequisites\n",
    "\n",
    "Select the `Python 3 (Data Science)` kernel in SageMaker Studio."
   ]
  },
  {
   "cell_type": "code",
   "execution_count": 8,
   "metadata": {},
   "outputs": [
    {
     "name": "stdout",
     "output_type": "stream",
     "text": [
      "Region: us-east-1\n",
      "Bucket: sagemaker-us-east-1-875692608981\n"
     ]
    }
   ],
   "source": [
    "import boto3\n",
    "import sagemaker\n",
    "\n",
    "region = boto3.Session().region_name\n",
    "print(f\"Region: {region}\")\n",
    "\n",
    "boto_session = boto3.Session(region_name=region)\n",
    "sagemaker_client = boto_session.client(\"sagemaker\")\n",
    "sagemaker_session = sagemaker.session.Session(\n",
    "    boto_session=boto_session, sagemaker_client=sagemaker_client)\n",
    "bucket = sagemaker_session.default_bucket()\n",
    "print(f\"Bucket: {bucket}\")"
   ]
  },
  {
   "cell_type": "code",
   "execution_count": 9,
   "metadata": {},
   "outputs": [
    {
     "name": "stdout",
     "output_type": "stream",
     "text": [
      "Unique id is 1637114413\n"
     ]
    }
   ],
   "source": [
    "from datetime import datetime\n",
    "from sagemaker.lineage.context import Context\n",
    "from sagemaker.lineage.action import Action\n",
    "from sagemaker.lineage.association import Association\n",
    "from sagemaker.lineage.artifact import Artifact\n",
    "\n",
    "unique_id = str(int(datetime.now().replace(microsecond=0).timestamp()))\n",
    "\n",
    "print(f\"Unique id is {unique_id}\")"
   ]
  },
  {
   "cell_type": "markdown",
   "metadata": {},
   "source": [
    "## Cleanup"
   ]
  },
  {
   "cell_type": "code",
   "execution_count": 10,
   "metadata": {},
   "outputs": [],
   "source": [
    "import time\n",
    "def delete_associations(arn):\n",
    "    # delete incoming associations\n",
    "    incoming_associations = Association.list(destination_arn=arn)\n",
    "    for summary in incoming_associations:\n",
    "        assct = Association(\n",
    "            source_arn=summary.source_arn,\n",
    "            destination_arn=summary.destination_arn,\n",
    "            sagemaker_session=sagemaker_session,\n",
    "        )\n",
    "        assct.delete()\n",
    "        \n",
    "\n",
    "    # delete outgoing associations\n",
    "    outgoing_associations = Association.list(source_arn=arn)\n",
    "    for summary in outgoing_associations:\n",
    "        assct = Association(\n",
    "            source_arn=summary.source_arn,\n",
    "            destination_arn=summary.destination_arn,\n",
    "            sagemaker_session=sagemaker_session,\n",
    "        )\n",
    "        assct.delete()\n",
    "\n",
    "\n",
    "def delete_lineage_data():\n",
    "    for summary in Context.list():\n",
    "        print(f\"Deleting context {summary.context_name}\")\n",
    "        delete_associations(summary.context_arn)\n",
    "        ctx = Context(context_name=summary.context_name, sagemaker_session=sagemaker_session)\n",
    "        ctx.delete()\n",
    "        time.sleep(1)\n",
    "\n",
    "    for summary in Action.list():\n",
    "        print(f\"Deleting action {summary.action_name}\")\n",
    "        delete_associations(summary.action_arn)\n",
    "        actn = Action(action_name=summary.action_name, sagemaker_session=sagemaker_session)\n",
    "        actn.delete()\n",
    "        time.sleep(1)\n",
    "\n",
    "    for summary in Artifact.list():\n",
    "        print(f\"Deleting artifact {summary.artifact_arn} {summary.artifact_name}\")\n",
    "        delete_associations(summary.artifact_arn)\n",
    "        artfct = Artifact(artifact_arn=summary.artifact_arn, sagemaker_session=sagemaker_session)\n",
    "        artfct.delete()\n",
    "        time.sleep(1)\n",
    "\n",
    "\n",
    "delete_lineage_data()"
   ]
  }
 ],
 "metadata": {
  "instance_type": "ml.t3.medium",
  "kernelspec": {
   "display_name": "Python 3 (Data Science)",
   "language": "python",
   "name": "python3__SAGEMAKER_INTERNAL__arn:aws:sagemaker:us-east-1:081325390199:image/datascience-1.0"
  },
  "language_info": {
   "codemirror_mode": {
    "name": "ipython",
    "version": 3
   },
   "file_extension": ".py",
   "mimetype": "text/x-python",
   "name": "python",
   "nbconvert_exporter": "python",
   "pygments_lexer": "ipython3",
   "version": "3.7.10"
  }
 },
 "nbformat": 4,
 "nbformat_minor": 4
}
