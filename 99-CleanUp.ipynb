{
 "cells": [
  {
   "cell_type": "markdown",
   "metadata": {},
   "source": [
    "# CleanUp\n"
   ]
  },
  {
   "cell_type": "markdown",
   "metadata": {},
   "source": [
    "## Prerequisites\n",
    "\n",
    "Select the `Python 3 (Data Science)` kernel in SageMaker Studio."
   ]
  },
  {
   "cell_type": "code",
   "execution_count": null,
   "metadata": {},
   "outputs": [],
   "source": [
    "%store -r\n",
    "%store"
   ]
  },
  {
   "cell_type": "code",
   "execution_count": 15,
   "metadata": {},
   "outputs": [
    {
     "name": "stdout",
     "output_type": "stream",
     "text": [
      "Region: us-east-1\n",
      "Bucket: sagemaker-us-east-1-875692608981\n"
     ]
    }
   ],
   "source": [
    "import boto3\n",
    "import sagemaker\n",
    "\n",
    "region = boto3.Session().region_name\n",
    "print(f\"Region: {region}\")\n",
    "role = sagemaker.get_execution_role()\n",
    "boto_session = boto3.Session(region_name=region)\n",
    "sagemaker_client = boto_session.client(\"sagemaker\")\n",
    "sagemaker_session = sagemaker.session.Session(\n",
    "    boto_session=boto_session, sagemaker_client=sagemaker_client)\n",
    "bucket = sagemaker_session.default_bucket()\n",
    "print(f\"Bucket: {bucket}\")"
   ]
  },
  {
   "cell_type": "code",
   "execution_count": 4,
   "metadata": {},
   "outputs": [],
   "source": [
    "from datetime import datetime\n",
    "from sagemaker.lineage.context import Context\n",
    "from sagemaker.lineage.action import Action\n",
    "from sagemaker.lineage.association import Association\n",
    "from sagemaker.lineage.artifact import Artifact"
   ]
  },
  {
   "cell_type": "markdown",
   "metadata": {},
   "source": [
    "## Cleanup"
   ]
  },
  {
   "cell_type": "code",
   "execution_count": null,
   "metadata": {},
   "outputs": [],
   "source": [
    "import time\n",
    "def delete_associations(arn):\n",
    "    # delete incoming associations\n",
    "    incoming_associations = Association.list(destination_arn=arn)\n",
    "    for summary in incoming_associations:\n",
    "        assct = Association(\n",
    "            source_arn=summary.source_arn,\n",
    "            destination_arn=summary.destination_arn,\n",
    "            sagemaker_session=sagemaker_session,\n",
    "        )\n",
    "        assct.delete()\n",
    "        \n",
    "\n",
    "    # delete outgoing associations\n",
    "    outgoing_associations = Association.list(source_arn=arn)\n",
    "    for summary in outgoing_associations:\n",
    "        assct = Association(\n",
    "            source_arn=summary.source_arn,\n",
    "            destination_arn=summary.destination_arn,\n",
    "            sagemaker_session=sagemaker_session,\n",
    "        )\n",
    "        assct.delete()\n",
    "\n",
    "\n",
    "def delete_lineage_data():\n",
    "    for summary in Context.list():\n",
    "        print(f\"Deleting context {summary.context_name}\")\n",
    "        delete_associations(summary.context_arn)\n",
    "        ctx = Context(context_name=summary.context_name, sagemaker_session=sagemaker_session)\n",
    "        ctx.delete()\n",
    "        time.sleep(1)\n",
    "\n",
    "    for summary in Action.list():\n",
    "        print(f\"Deleting action {summary.action_name}\")\n",
    "        delete_associations(summary.action_arn)\n",
    "        actn = Action(action_name=summary.action_name, sagemaker_session=sagemaker_session)\n",
    "        actn.delete()\n",
    "        time.sleep(1)\n",
    "\n",
    "    for summary in Artifact.list():\n",
    "        print(f\"Deleting artifact {summary.artifact_arn} {summary.artifact_name}\")\n",
    "        delete_associations(summary.artifact_arn)\n",
    "        artfct = Artifact(artifact_arn=summary.artifact_arn, sagemaker_session=sagemaker_session)\n",
    "        artfct.delete()\n",
    "        time.sleep(1)\n",
    "\n",
    "\n",
    "delete_lineage_data()"
   ]
  },
  {
   "cell_type": "code",
   "execution_count": null,
   "metadata": {},
   "outputs": [],
   "source": [
    "from model_package_src.demo_helpers import delete_project_resources"
   ]
  },
  {
   "cell_type": "code",
   "execution_count": null,
   "metadata": {},
   "outputs": [],
   "source": [
    "\n",
    "delete_project_resources(\n",
    "    sagemaker_boto_client=sagemaker_client,\n",
    "    endpoint_name=endpoint_name, \n",
    "    pipeline_name=pipeline_name, \n",
    "    mpg_name=mpg_name, \n",
    "    prefix=prefix,\n",
    "    delete_s3_objects=True,\n",
    "    bucket_name=bucket)\n"
   ]
  },
  {
   "cell_type": "code",
   "execution_count": null,
   "metadata": {},
   "outputs": [],
   "source": [
    "import sys\n",
    "\n",
    "!{sys.executable} -m pip install sagemaker-experiments"
   ]
  },
  {
   "cell_type": "code",
   "execution_count": null,
   "metadata": {},
   "outputs": [],
   "source": [
    "from smexperiments.experiment import Experiment\n",
    "from smexperiments.trial import Trial\n",
    "from smexperiments.trial_component import TrialComponent\n",
    "\n",
    "for component in TrialComponent.list():\n",
    "    print(f\"Deleting Trial Component: {component.trial_component_name}\")\n",
    "    comp = TrialComponent(trial_component_name=component.trial_component_name,sagemaker_boto_client=sagemaker_client)\n",
    "    comp.delete(force_disassociate='true')\n",
    "\n",
    "for trial in Trial.list():\n",
    "    print(f\"Deleting Trial: {trial.trial_name}\")\n",
    "    t = Trial(trial_name=trial.trial_name,sagemaker_boto_client=sagemaker_client)\n",
    "    t.delete()    \n",
    "    \n",
    "for exp in Experiment.list():\n",
    "    print(f\"Deleting Experiment: {exp.experiment_name}\")\n",
    "    e = Experiment(experiment_name=exp.experiment_name,sagemaker_boto_client=sagemaker_client)\n",
    "    e.delete()\n"
   ]
  },
  {
   "cell_type": "code",
   "execution_count": null,
   "metadata": {},
   "outputs": [],
   "source": [
    "endpoints = sagemaker_client.list_endpoints()\n",
    "\n",
    "for endpoint in endpoints['Endpoints']:\n",
    "    print(f\"Deleting Endpoint: {endpoint['EndpointName']}\")\n",
    "    sagemaker_client.delete_endpoint(\n",
    "        EndpointName=endpoint['EndpointName']\n",
    "    )\n",
    "    \n",
    "endpoint_configs = sagemaker_client.list_endpoint_configs()\n",
    "\n",
    "for endpoint_config in endpoint_configs['EndpointConfigs']:\n",
    "    print(f\"Deleting Endpoint Config: {endpoint_config['EndpointConfigName']}\")\n",
    "    sagemaker_client.delete_endpoint_config(\n",
    "        EndpointConfigName=endpoint_config['EndpointConfigName']\n",
    "    )"
   ]
  },
  {
   "cell_type": "code",
   "execution_count": null,
   "metadata": {},
   "outputs": [],
   "source": [
    "sagemaker_client.list_endpoint_configs()"
   ]
  },
  {
   "cell_type": "code",
   "execution_count": 38,
   "metadata": {},
   "outputs": [
    {
     "data": {
      "text/plain": [
       "{'ResponseMetadata': {'RequestId': '7d571eb0-f535-4922-b168-cc3d36b387ad',\n",
       "  'HTTPStatusCode': 200,\n",
       "  'HTTPHeaders': {'x-amzn-requestid': '7d571eb0-f535-4922-b168-cc3d36b387ad',\n",
       "   'content-type': 'application/x-amz-json-1.1',\n",
       "   'content-length': '0',\n",
       "   'date': 'Thu, 18 Nov 2021 08:30:41 GMT'},\n",
       "  'RetryAttempts': 0}}"
      ]
     },
     "execution_count": 38,
     "metadata": {},
     "output_type": "execute_result"
    }
   ],
   "source": [
    "response = sagemaker_client.list_monitoring_schedules()\n",
    "monitorschedulename = response['MonitoringScheduleSummaries'][0]['MonitoringScheduleName']\n",
    "monitorschedulename\n",
    "sagemaker_client.delete_monitoring_schedule(\n",
    "    MonitoringScheduleName=monitorschedulename\n",
    ")"
   ]
  },
  {
   "cell_type": "code",
   "execution_count": 10,
   "metadata": {},
   "outputs": [
    {
     "data": {
      "text/plain": [
       "'model-quality-job-definition-2021-11-18-06-55-13-446'"
      ]
     },
     "execution_count": 10,
     "metadata": {},
     "output_type": "execute_result"
    }
   ],
   "source": [
    "response = sagemaker_client.list_model_quality_job_definitions()\n",
    "jobmonitorname = response['JobDefinitionSummaries'][0]['MonitoringJobDefinitionName']\n",
    "jobmonitorname"
   ]
  },
  {
   "cell_type": "code",
   "execution_count": null,
   "metadata": {},
   "outputs": [],
   "source": []
  }
 ],
 "metadata": {
  "instance_type": "ml.t3.medium",
  "kernelspec": {
   "display_name": "Python 3 (Data Science)",
   "language": "python",
   "name": "python3__SAGEMAKER_INTERNAL__arn:aws:sagemaker:us-east-1:081325390199:image/datascience-1.0"
  },
  "language_info": {
   "codemirror_mode": {
    "name": "ipython",
    "version": 3
   },
   "file_extension": ".py",
   "mimetype": "text/x-python",
   "name": "python",
   "nbconvert_exporter": "python",
   "pygments_lexer": "ipython3",
   "version": "3.7.10"
  }
 },
 "nbformat": 4,
 "nbformat_minor": 4
}
