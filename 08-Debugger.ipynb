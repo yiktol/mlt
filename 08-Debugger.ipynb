{
 "cells": [
  {
   "cell_type": "markdown",
   "metadata": {
    "toc": true
   },
   "source": [
    "<h1>Table of Contents<span class=\"tocSkip\"></span></h1>\n",
    "<div class=\"toc\"><ul class=\"toc-item\"><li><span><a href=\"#Explainability-with-Amazon-SageMaker-Debugger\" data-toc-modified-id=\"Explainability-with-Amazon-SageMaker-Debugger-1\">Explainability with Amazon SageMaker Debugger</a></span><ul class=\"toc-item\"><li><span><a href=\"#Introduction-\" data-toc-modified-id=\"Introduction--1.1\">Introduction <a id=\"intro\"></a></a></span><ul class=\"toc-item\"><li><span><a href=\"#Saving-tensors\" data-toc-modified-id=\"Saving-tensors-1.1.1\">Saving model parameters</a></span></li><li><span><a href=\"#Analysis\" data-toc-modified-id=\"Analysis-1.1.2\">Analysis</a></span></li></ul></li><li><span><a href=\"#Section-1---Setup-\" data-toc-modified-id=\"Section-1---Setup--1.2\">Section 1 - Setup <a id=\"setup\"></a></a></span><ul class=\"toc-item\"><li><span><a href=\"#1.1-Import-necessary-libraries\" data-toc-modified-id=\"1.1-Import-necessary-libraries-1.2.1\">1.1 Import necessary libraries</a></span></li><li><span><a href=\"#1.2-AWS-region-and--IAM-Role\" data-toc-modified-id=\"1.2-AWS-region-and--IAM-Role-1.2.2\">1.2 AWS region and  IAM Role</a></span></li><li><span><a href=\"#1.3-S3-bucket-and-prefix-to-hold-training-data,-debugger-information-and-model-artifact\" data-toc-modified-id=\"1.3-S3-bucket-and-prefix-to-hold-training-data,-debugger-information-and-model-artifact-1.2.3\">1.3 S3 bucket and prefix to hold training data, debugger information and model artifact</a></span></li></ul></li><li><span><a href=\"#Section-2---Data-preparation-\" data-toc-modified-id=\"Section-2---Data-preparation--1.3\">Section 2 - Data preparation <a id=\"prep-data\"></a></a></span></li><li><span><a href=\"#Section-3---Train-XGBoost-model-in-Amazon-SageMaker-with--debugger-enabled.-\" data-toc-modified-id=\"Section-3---Train-XGBoost-model-in-Amazon-SageMaker-with--debugger-enabled.--1.4\">Section 3 - Train XGBoost model in Amazon SageMaker with  debugger enabled. <a id=\"train\"></a></a></span><ul class=\"toc-item\"><li><span><a href=\"#3.1-Install-the-'smdebug'-open-source-library\" data-toc-modified-id=\"3.1-Install-the-'smdebug'-open-source-library-1.4.1\">3.1 Install the 'smdebug' open source library</a></span></li><li><span><a href=\"#3.2-Build-the-XGBoost-container\" data-toc-modified-id=\"3.2-Build-the-XGBoost-container-1.4.2\">3.2 Build the XGBoost container</a></span></li><li><span><a href=\"#3.3-Enabling-Debugger-in-Estimator-object\" data-toc-modified-id=\"3.3-Enabling-Debugger-in-Estimator-object-1.4.3\">3.3 Enabling Debugger in Estimator object</a></span><ul class=\"toc-item\"><li><span><a href=\"#DebuggerHookConfig\" data-toc-modified-id=\"DebuggerHookConfig-1.4.3.1\">DebuggerHookConfig</a></span></li><li><span><a href=\"#Rules\" data-toc-modified-id=\"Rules-1.4.3.2\">Rules</a></span></li></ul></li><li><span><a href=\"#3.4-Result\" data-toc-modified-id=\"3.4-Result-1.4.4\">3.4 Result</a></span></li><li><span><a href=\"#3.5-Check-the-status-of-the-Rule-Evaluation-Job\" data-toc-modified-id=\"3.5-Check-the-status-of-the-Rule-Evaluation-Job-1.4.5\">3.5 Check the status of the Rule Evaluation Job</a></span></li></ul></li><li><span><a href=\"#Section-4---Analyze-debugger-output-\" data-toc-modified-id=\"Section-4---Analyze-debugger-output--1.5\">Section 4 - Analyze debugger output <a id=\"analyze-debugger-ouput\"></a></a></span><ul class=\"toc-item\"><li><span><a href=\"#Retrieving-and-Analyzing-tensors\" data-toc-modified-id=\"Retrieving-and-Analyzing-tensors-1.5.1\">Retrieving and Analyzing model parameters</a></span></li><li><span><a href=\"#Plot-Performance-metrics\" data-toc-modified-id=\"Plot-Performance-metrics-1.5.2\">Plot Performance metrics</a></span></li><li><span><a href=\"#Feature-importance\" data-toc-modified-id=\"Feature-importance-1.5.3\">Feature importance</a></span></li><li><span><a href=\"#SHAP\" data-toc-modified-id=\"SHAP-1.5.4\">SHAP</a></span></li><li><span><a href=\"#Global-explanations\" data-toc-modified-id=\"Global-explanations-1.5.5\">Global explanations</a></span></li><li><span><a href=\"#Local-explanations\" data-toc-modified-id=\"Local-explanations-1.5.6\">Local explanations</a></span><ul class=\"toc-item\"><li><span><a href=\"#Force-plot\" data-toc-modified-id=\"Force-plot-1.5.6.1\">Force plot</a></span></li><li><span><a href=\"#Stacked-force-plot\" data-toc-modified-id=\"Stacked-force-plot-1.5.6.2\">Stacked force plot</a></span></li></ul></li><li><span><a href=\"#Outliers\" data-toc-modified-id=\"Outliers-1.5.7\">Outliers</a></span></li></ul></li><li><span><a href=\"#Conclusion\" data-toc-modified-id=\"Conclusion-1.6\">Conclusion</a></span></li></ul></li></ul></div>"
   ]
  },
  {
   "cell_type": "markdown",
   "metadata": {},
   "source": [
    "# Explainability with Amazon SageMaker Debugger\n",
    "_**Explain a XGBoost model that predicts an individual's income**_\n",
    "\n",
    "This notebook demonstrates how to use Amazon SageMaker Debugger to capture the feature importance and SHAP values for a XGBoost model.\n",
    "\n",
    "*This notebook was created and tested on an ml.t2.medium notebook instance.*"
   ]
  },
  {
   "cell_type": "markdown",
   "metadata": {},
   "source": [
    "## Introduction <a id='intro'></a>\n",
    "\n",
    "Amazon SageMaker Debugger is the capability of Amazon SageMaker that allows debugging machine learning training. The capability helps you monitor the training jobs in near real time using rules and alert you once it has detected inconsistency in training. \n",
    "\n",
    "Using Amazon SageMaker Debugger is a two step process: Saving model parameters and Analysis.\n",
    "Let's look at each one of them closely.\n",
    "\n",
    "### Saving model parameters\n",
    "\n",
    "In machine learning process, model parameters are updated every forward and backward pass and can describe the state of the training job at any particular instant in an ML lifecycle. Amazon SageMaker Debugger  allows you to capture the model parameters and save them for analysis. Although XGBoost is not a deep learning algorithm, Amazon SageMaker Debugger is highly customizable and can help you interpret results by saving insightful metrics. For example, performance metrics or the importance of features at different frequencies. Refer to [SageMaker Debugger  documentation](https://docs.aws.amazon.com/sagemaker/latest/dg/debugger-configuration.html) for details on how to save the metrics you want.  \n",
    "\n",
    "The saved model parameters in this notebook include feature importance and SHAP values for all features in the dataset. The feature importance and SHAP values are what we will use to provide local and global explainability.\n",
    "\n",
    "\n",
    "### Analysis\n",
    "\n",
    "After the model parameters are saved, perform automatic analysis by running debugging ***Rules***.\n",
    "On a very broad level, a rule is Python code used to detect certain conditions during training.\n",
    "Some of the conditions that a data scientist training an algorithm may care about are monitoring for gradients getting too large or too small, detecting overfitting, and so on.\n",
    "Amazon SageMaker Debugger comes pre-packaged with certain rules that can be invoked on Amazon SageMaker. Users can also write their own rules using the Amazon SageMaker Debugger APIs. \n",
    "For more information about automatic analysis using a rule, see the [rules documentation](https://github.com/awslabs/sagemaker-debugger/blob/master/docs/analysis.md).\n",
    " "
   ]
  },
  {
   "cell_type": "markdown",
   "metadata": {},
   "source": [
    "![Solution Components](images/debugger_new_diagram.png)"
   ]
  },
  {
   "cell_type": "markdown",
   "metadata": {},
   "source": [
    "## Section 1 - Setup <a id='setup'></a>\n",
    "\n",
    "In this section, we will import the necessary libraries, setup variables and examine dataset used. that was used to train the XGBoost model to predict an individual's income.\n",
    "\n",
    "Let's start by specifying:\n",
    "\n",
    "* The AWS region used to host your model.\n",
    "* The IAM role associated with this SageMaker notebook instance.\n",
    "* The S3 bucket used to store the data used to train the model, save debugger information during training and the trained model artifact."
   ]
  },
  {
   "cell_type": "markdown",
   "metadata": {},
   "source": [
    "<font color='red'>**Important**</font>: To use the new Debugger features, you need to upgrade the SageMaker Python SDK and the SMDebug libary. In the following cell, change the third line to `install_needed=True` and run to upgrade the libraries."
   ]
  },
  {
   "cell_type": "code",
   "execution_count": 1,
   "metadata": {},
   "outputs": [
    {
     "name": "stdout",
     "output_type": "stream",
     "text": [
      "installing deps and restarting kernel\n",
      "/opt/conda/lib/python3.7/site-packages/secretstorage/dhcrypto.py:16: CryptographyDeprecationWarning: int_from_bytes is deprecated, use int.from_bytes instead\n",
      "  from cryptography.utils import int_from_bytes\n",
      "/opt/conda/lib/python3.7/site-packages/secretstorage/util.py:25: CryptographyDeprecationWarning: int_from_bytes is deprecated, use int.from_bytes instead\n",
      "  from cryptography.utils import int_from_bytes\n",
      "Requirement already satisfied: sagemaker in /opt/conda/lib/python3.7/site-packages (2.68.0)\n",
      "Requirement already satisfied: pandas in /opt/conda/lib/python3.7/site-packages (from sagemaker) (1.3.4)\n",
      "Requirement already satisfied: protobuf>=3.1 in /opt/conda/lib/python3.7/site-packages (from sagemaker) (3.19.0)\n",
      "Requirement already satisfied: boto3>=1.16.32 in /opt/conda/lib/python3.7/site-packages (from sagemaker) (1.19.3)\n",
      "Requirement already satisfied: google-pasta in /opt/conda/lib/python3.7/site-packages (from sagemaker) (0.2.0)\n",
      "Requirement already satisfied: pathos in /opt/conda/lib/python3.7/site-packages (from sagemaker) (0.2.8)\n",
      "Requirement already satisfied: numpy>=1.9.0 in /opt/conda/lib/python3.7/site-packages (from sagemaker) (1.20.3)\n",
      "Requirement already satisfied: attrs in /opt/conda/lib/python3.7/site-packages (from sagemaker) (19.3.0)\n",
      "Requirement already satisfied: packaging>=20.0 in /opt/conda/lib/python3.7/site-packages (from sagemaker) (20.1)\n",
      "Requirement already satisfied: importlib-metadata>=1.4.0 in /opt/conda/lib/python3.7/site-packages (from sagemaker) (1.5.0)\n",
      "Requirement already satisfied: smdebug-rulesconfig==1.0.1 in /opt/conda/lib/python3.7/site-packages (from sagemaker) (1.0.1)\n",
      "Requirement already satisfied: protobuf3-to-dict>=0.1.5 in /opt/conda/lib/python3.7/site-packages (from sagemaker) (0.1.5)\n",
      "Requirement already satisfied: jmespath<1.0.0,>=0.7.1 in /opt/conda/lib/python3.7/site-packages (from boto3>=1.16.32->sagemaker) (0.10.0)\n",
      "Requirement already satisfied: botocore<1.23.0,>=1.22.3 in /opt/conda/lib/python3.7/site-packages (from boto3>=1.16.32->sagemaker) (1.22.3)\n",
      "Requirement already satisfied: s3transfer<0.6.0,>=0.5.0 in /opt/conda/lib/python3.7/site-packages (from boto3>=1.16.32->sagemaker) (0.5.0)\n",
      "Requirement already satisfied: zipp>=0.5 in /opt/conda/lib/python3.7/site-packages (from importlib-metadata>=1.4.0->sagemaker) (2.2.0)\n",
      "Requirement already satisfied: pyparsing>=2.0.2 in /opt/conda/lib/python3.7/site-packages (from packaging>=20.0->sagemaker) (2.4.6)\n",
      "Requirement already satisfied: six in /opt/conda/lib/python3.7/site-packages (from packaging>=20.0->sagemaker) (1.14.0)\n",
      "Requirement already satisfied: pytz>=2017.3 in /opt/conda/lib/python3.7/site-packages (from pandas->sagemaker) (2021.3)\n",
      "Requirement already satisfied: python-dateutil>=2.7.3 in /opt/conda/lib/python3.7/site-packages (from pandas->sagemaker) (2.8.1)\n",
      "Requirement already satisfied: dill>=0.3.4 in /opt/conda/lib/python3.7/site-packages (from pathos->sagemaker) (0.3.4)\n",
      "Requirement already satisfied: multiprocess>=0.70.12 in /opt/conda/lib/python3.7/site-packages (from pathos->sagemaker) (0.70.12.2)\n",
      "Requirement already satisfied: pox>=0.3.0 in /opt/conda/lib/python3.7/site-packages (from pathos->sagemaker) (0.3.0)\n",
      "Requirement already satisfied: ppft>=1.6.6.4 in /opt/conda/lib/python3.7/site-packages (from pathos->sagemaker) (1.6.6.4)\n",
      "Requirement already satisfied: urllib3<1.27,>=1.25.4 in /opt/conda/lib/python3.7/site-packages (from botocore<1.23.0,>=1.22.3->boto3>=1.16.32->sagemaker) (1.26.7)\n",
      "\u001b[33mWARNING: Running pip as the 'root' user can result in broken permissions and conflicting behaviour with the system package manager. It is recommended to use a virtual environment instead: https://pip.pypa.io/warnings/venv\u001b[0m\n",
      "/opt/conda/lib/python3.7/site-packages/secretstorage/dhcrypto.py:16: CryptographyDeprecationWarning: int_from_bytes is deprecated, use int.from_bytes instead\n",
      "  from cryptography.utils import int_from_bytes\n",
      "/opt/conda/lib/python3.7/site-packages/secretstorage/util.py:25: CryptographyDeprecationWarning: int_from_bytes is deprecated, use int.from_bytes instead\n",
      "  from cryptography.utils import int_from_bytes\n",
      "Requirement already satisfied: smdebug in /opt/conda/lib/python3.7/site-packages (1.0.12)\n",
      "Requirement already satisfied: protobuf>=3.6.0 in /opt/conda/lib/python3.7/site-packages (from smdebug) (3.19.0)\n",
      "Requirement already satisfied: boto3>=1.10.32 in /opt/conda/lib/python3.7/site-packages (from smdebug) (1.19.3)\n",
      "Requirement already satisfied: numpy>=1.16.0 in /opt/conda/lib/python3.7/site-packages (from smdebug) (1.20.3)\n",
      "Requirement already satisfied: pyinstrument==3.4.2 in /opt/conda/lib/python3.7/site-packages (from smdebug) (3.4.2)\n",
      "Requirement already satisfied: packaging in /opt/conda/lib/python3.7/site-packages (from smdebug) (20.1)\n",
      "Requirement already satisfied: pyinstrument-cext>=0.2.2 in /opt/conda/lib/python3.7/site-packages (from pyinstrument==3.4.2->smdebug) (0.2.4)\n",
      "Requirement already satisfied: s3transfer<0.6.0,>=0.5.0 in /opt/conda/lib/python3.7/site-packages (from boto3>=1.10.32->smdebug) (0.5.0)\n",
      "Requirement already satisfied: jmespath<1.0.0,>=0.7.1 in /opt/conda/lib/python3.7/site-packages (from boto3>=1.10.32->smdebug) (0.10.0)\n",
      "Requirement already satisfied: botocore<1.23.0,>=1.22.3 in /opt/conda/lib/python3.7/site-packages (from boto3>=1.10.32->smdebug) (1.22.3)\n",
      "Requirement already satisfied: six in /opt/conda/lib/python3.7/site-packages (from packaging->smdebug) (1.14.0)\n",
      "Requirement already satisfied: pyparsing>=2.0.2 in /opt/conda/lib/python3.7/site-packages (from packaging->smdebug) (2.4.6)\n",
      "Requirement already satisfied: urllib3<1.27,>=1.25.4 in /opt/conda/lib/python3.7/site-packages (from botocore<1.23.0,>=1.22.3->boto3>=1.10.32->smdebug) (1.26.7)\n",
      "Requirement already satisfied: python-dateutil<3.0.0,>=2.1 in /opt/conda/lib/python3.7/site-packages (from botocore<1.23.0,>=1.22.3->boto3>=1.10.32->smdebug) (2.8.1)\n",
      "\u001b[33mWARNING: Running pip as the 'root' user can result in broken permissions and conflicting behaviour with the system package manager. It is recommended to use a virtual environment instead: https://pip.pypa.io/warnings/venv\u001b[0m\n"
     ]
    }
   ],
   "source": [
    "import sys\n",
    "import IPython\n",
    "install_needed = True  # Set to True to upgrade\n",
    "if install_needed:\n",
    "    print(\"installing deps and restarting kernel\")\n",
    "    !{sys.executable} -m pip install -U sagemaker\n",
    "    !{sys.executable} -m pip install -U smdebug\n",
    "    IPython.Application.instance().kernel.do_shutdown(True)"
   ]
  },
  {
   "cell_type": "markdown",
   "metadata": {},
   "source": [
    "### Loading stored variables\n",
    "If you ran this notebook before, you may want to re-use the resources you aready created with AWS. Run the cell below to load any prevously created variables. You should see a print-out of the existing variables. If you don't see anything printed then it's probably the first time you are running the notebook! "
   ]
  },
  {
   "cell_type": "code",
   "execution_count": 2,
   "metadata": {},
   "outputs": [
    {
     "name": "stdout",
     "output_type": "stream",
     "text": [
      "Stored variables and their in-db values:\n",
      "bucket                             -> 'sagemaker-us-east-1-875692608981'\n",
      "claims_fg_name                     -> 'fraud-detect-demo-claims'\n",
      "claims_preprocessed                ->       policy_id  incident_severity  num_vehicles_i\n",
      "claims_table                       -> 'fraud-detect-demo-claims-1636518800'\n",
      "clarify_expl_job_name              -> 'Clarify-Explainability-2021-11-10-14-35-21-747'\n",
      "col_order                          -> ['fraud', 'num_injuries', 'incident_severity', 'in\n",
      "customers_fg_name                  -> 'fraud-detect-demo-customers'\n",
      "customers_preprocessed             ->       policy_id  customer_age  customer_education \n",
      "customers_table                    -> 'fraud-detect-demo-customers-1636518803'\n",
      "database_name                      -> 'sagemaker_featurestore'\n",
      "endpoint_config_name               -> 'fraud-detect-demo-xgboost-post-smote-endpoint-con\n",
      "endpoint_name                      -> 'fraud-detect-demo-xgboost-post-smote-endpoint'\n",
      "hyperparameters                    -> {'max_depth': '3', 'eta': '0.2', 'objective': 'bin\n",
      "model_1_name                       -> 'fraud-detect-demo-xgboost-pre-smote'\n",
      "model_2_name                       -> 'fraud-detect-demo-xgboost-post-smote'\n",
      "mpg_name                           -> 'fraud-detect-demo'\n",
      "prefix                             -> 'fraud-detect-demo'\n",
      "test_data_uri                      -> 's3://sagemaker-us-east-1-875692608981/fraud-detec\n",
      "train                              ->       fraud  num_injuries  incident_severity  inju\n",
      "train_data_uri                     -> 's3://sagemaker-us-east-1-875692608981/fraud-detec\n",
      "training_job_1_name                -> 'sagemaker-xgboost-2021-11-10-04-56-34-757'\n",
      "training_job_2_name                -> 'sagemaker-xgboost-2021-11-10-14-28-13-883'\n",
      "training_job_3_name                -> 'sagemaker-xgboost-2021-11-11-02-27-24-634'\n"
     ]
    }
   ],
   "source": [
    "%store -r\n",
    "%store"
   ]
  },
  {
   "cell_type": "markdown",
   "metadata": {},
   "source": [
    "### 1.1 Import necessary libraries"
   ]
  },
  {
   "cell_type": "code",
   "execution_count": 3,
   "metadata": {},
   "outputs": [],
   "source": [
    "import boto3\n",
    "import sagemaker\n",
    "import os\n",
    "import pandas as pd\n",
    "\n",
    "from sagemaker import get_execution_role"
   ]
  },
  {
   "cell_type": "markdown",
   "metadata": {},
   "source": [
    "### 1.2 AWS region and  IAM Role"
   ]
  },
  {
   "cell_type": "code",
   "execution_count": 4,
   "metadata": {},
   "outputs": [
    {
     "name": "stdout",
     "output_type": "stream",
     "text": [
      "AWS Region: us-east-1\n",
      "RoleArn: arn:aws:iam::875692608981:role/AmazonSageMaker-ExecutionRoleMLT\n"
     ]
    }
   ],
   "source": [
    "region = boto3.Session().region_name\n",
    "print(\"AWS Region: {}\".format(region))\n",
    "\n",
    "role = get_execution_role()\n",
    "print(\"RoleArn: {}\".format(role))"
   ]
  },
  {
   "cell_type": "markdown",
   "metadata": {},
   "source": [
    "We'll be using the [SHAP](https://github.com/slundberg/shap) library to perform visual analysis. The library contains the dataset pre-loaded which we will utilize here. "
   ]
  },
  {
   "cell_type": "code",
   "execution_count": 5,
   "metadata": {},
   "outputs": [],
   "source": [
    "try:\n",
    "    import shap\n",
    "except ModuleNotFoundError:\n",
    "    !conda install -y -c conda-forge shap"
   ]
  },
  {
   "cell_type": "markdown",
   "metadata": {},
   "source": [
    "## Section 3 - Train XGBoost model in Amazon SageMaker with  debugger enabled. <a id='train'></a>\n",
    "\n",
    "Now train an XGBoost model with Amazon SageMaker Debugger enabled and monitor the training jobs. This is done using the Amazon SageMaker Estimator API. While the training job is running, use Amazon SageMaker Debugger API to access saved model parameters in real time and visualize them. You can rely on Amazon SageMaker Debugger to take care of downloading a fresh set of model parameters every time you query for them."
   ]
  },
  {
   "cell_type": "markdown",
   "metadata": {},
   "source": [
    "Amazon SageMaker Debugger is available in Amazon SageMaker XGBoost container version 0.90-2 or later. If you want to use XGBoost with Amazon SageMaker Debugger, you have to specify `repo_version='0.90-2'` in the `get_image_uri` function."
   ]
  },
  {
   "cell_type": "markdown",
   "metadata": {},
   "source": [
    "### 3.2 Build the XGBoost container"
   ]
  },
  {
   "cell_type": "markdown",
   "metadata": {},
   "source": [
    "Amazon SageMaker Debugger is available in Amazon SageMaker XGBoost container version 0.90-2 or later."
   ]
  },
  {
   "cell_type": "code",
   "execution_count": 6,
   "metadata": {},
   "outputs": [],
   "source": [
    "container = sagemaker.image_uris.retrieve(\"xgboost\", region, \"0.90-2\")"
   ]
  },
  {
   "cell_type": "markdown",
   "metadata": {},
   "source": [
    "### 3.3 Enabling Debugger in Estimator object\n",
    "\n",
    "\n",
    "#### DebuggerHookConfig\n",
    "\n",
    "Enabling Amazon SageMaker Debugger in training job can be accomplished by adding its configuration into Estimator object constructor:\n",
    "\n",
    "```python\n",
    "from sagemaker.debugger import DebuggerHookConfig, CollectionConfig\n",
    "\n",
    "estimator = Estimator(\n",
    "    ...,\n",
    "    debugger_hook_config = DebuggerHookConfig(\n",
    "        s3_output_path=\"s3://{bucket_name}/{location_in_bucket}\",  # Required\n",
    "        collection_configs=[\n",
    "            CollectionConfig(\n",
    "                name=\"metrics\",\n",
    "                parameters={\n",
    "                    \"save_interval\": \"10\"\n",
    "                }\n",
    "            )\n",
    "        ]\n",
    "    )\n",
    ")\n",
    "```\n",
    "Here, the `DebuggerHookConfig` object instructs `Estimator` what data we are interested in.\n",
    "Two parameters are provided in the example:\n",
    "\n",
    "- `s3_output_path`: Points to an S3 bucket where you intend to store model parameters. Amount of data saved depends on multiple factors, major ones are training job, data set, model, frequency of saving model parameters. This S3 bucket should be in your AWS account so that you have full access to control over the stored data. **Note**: The S3 bucket should be originally created in the same Region where your training job is running, otherwise you might run into problems with cross-Region access.\n",
    "\n",
    "- `collection_configs`: It enumerates named collections of model parameters to save. Collections are a convenient way to organize relevant model parameters under same umbrella to make it easy to navigate them during analysis. In this particular example, you are interested in a single collection named metrics. You also configured Amazon SageMaker Debugger to save metrics every 10 iterations. See [Collection](https://github.com/awslabs/sagemaker-debugger/blob/master/docs/api.md#collection) documentation for all parameters that are supported by Collections and DebuggerConfig documentation for more details about all parameters DebuggerConfig supports.\n",
    "  \n",
    "#### Rules\n",
    "\n",
    "Enabling Rules in training job can be accomplished by adding the `rules` configuration into Estimator object constructor.\n",
    "\n",
    "- `rules`: This parameter will accept a list of rules you want to evaluate against training jobs.\n",
    "  For rules, Amazon SageMaker Debugger supports two types:\n",
    "  - SageMaker Rules: These are rules specially curated by the data science and engineering teams in Amazon SageMaker which you can opt to evaluate against your training job.\n",
    "  - Custom Rules: You can optionally choose to write your own rule as a Python source file and have it evaluated against your training job.\n",
    "    To provide Amazon SageMaker Debugger to evaluate this rule, you would have to provide the S3 location of the rule source and the evaluator image.\n",
    "\n",
    "In this example, you will use a Amazon SageMaker's LossNotDecreasing rule, which helps you identify if you are running into a situation where the training loss is not going down.\n",
    "\n",
    "```python\n",
    "from sagemaker.debugger import rule_configs, Rule\n",
    "\n",
    "estimator = Estimator(\n",
    "    ...,\n",
    "    rules=[\n",
    "        Rule.sagemaker(\n",
    "            rule_configs.loss_not_decreasing(),\n",
    "            rule_parameters={\n",
    "                \"collection_names\": \"metrics\",\n",
    "                \"num_steps\": \"10\",\n",
    "            },\n",
    "        ),\n",
    "    ],\n",
    ")\n",
    "```\n",
    "\n",
    "- `rule_parameters`: In this parameter, you provide the runtime values of the parameter in your constructor.\n",
    "  You can still choose to pass in other values which may be necessary for your rule to be evaluated.\n",
    "  In this example, you will use Amazon SageMaker's LossNotDecreasing rule to monitor the `metircs` collection.\n",
    "  The rule will alert you if the loss value in the `metrics` collection has not decreased for more than 10 steps."
   ]
  },
  {
   "cell_type": "code",
   "execution_count": 9,
   "metadata": {},
   "outputs": [],
   "source": [
    "from sagemaker.debugger import rule_configs, Rule, DebuggerHookConfig, CollectionConfig, ProfilerConfig, FrameworkProfile\n",
    "from sagemaker.estimator import Estimator\n",
    "\n",
    "bucket_path = f\"s3://{bucket}/{prefix}/debugger\"\n",
    "save_interval = 2\n",
    "xgboost_estimator = Estimator(\n",
    "    role=role,\n",
    "    instance_count=1,\n",
    "    instance_type=\"ml.m5.4xlarge\",\n",
    "    image_uri=container,\n",
    "    hyperparameters=hyperparameters,\n",
    "    profiler_config=ProfilerConfig(framework_profile_params=FrameworkProfile()),\n",
    "#     max_run=1800,\n",
    "    debugger_hook_config=DebuggerHookConfig(\n",
    "        s3_output_path=bucket_path,  # Required\n",
    "        collection_configs=[\n",
    "            CollectionConfig(name=\"metrics\", parameters={\"save_interval\": str(save_interval)}),\n",
    "            CollectionConfig(\n",
    "                name=\"feature_importance\", parameters={\"save_interval\": str(save_interval)}\n",
    "            ),\n",
    "            CollectionConfig(name=\"full_shap\", parameters={\"save_interval\": str(save_interval)}),\n",
    "            CollectionConfig(name=\"average_shap\", parameters={\"save_interval\": str(save_interval)}),\n",
    "        ],\n",
    "    ),\n",
    "    rules=[\n",
    "        Rule.sagemaker(\n",
    "            rule_configs.loss_not_decreasing(),\n",
    "            rule_parameters={\n",
    "                \"collection_names\": \"metrics\",\n",
    "                \"num_steps\": str(save_interval * 2),\n",
    "            },\n",
    "        ),\n",
    "    ],\n",
    ")"
   ]
  },
  {
   "cell_type": "markdown",
   "metadata": {},
   "source": [
    "With the next step, start a training job by using the Estimator object you created above. This job is started in an asynchronous, non-blocking way. This means that control is passed back to the notebook and further commands can be run while the training job is progressing."
   ]
  },
  {
   "cell_type": "code",
   "execution_count": 10,
   "metadata": {},
   "outputs": [],
   "source": [
    "from sagemaker.session import TrainingInput\n",
    "\n",
    "train_input = TrainingInput(train_data_uri, content_type=\"csv\"\n",
    ")\n",
    "validation_input = TrainingInput(test_data_uri, content_type=\"csv\"\n",
    ")\n",
    "xgboost_estimator.fit(\n",
    "    {\"train\": train_input, \"validation\":validation_input},\n",
    "    # This is a fire and forget event. By setting wait=False, you submit the job to run in the background.\n",
    "    # Amazon SageMaker starts one training job and release control to next cells in the notebook.\n",
    "    # Follow this notebook to see status of the training job.\n",
    "    wait=False,\n",
    ")"
   ]
  },
  {
   "cell_type": "markdown",
   "metadata": {},
   "source": [
    "### 3.4 Result\n",
    "\n",
    "As a result of the above command, Amazon SageMaker starts **one training job and one rule job** for you. The first one is the job that produces the model parameters to be analyzed. The second one analyzes the model parameters to check if `train-error` and `validation-error` are not decreasing at any point during training.\n",
    "\n",
    "Check the status of the training job below.\n",
    "After your training job is started, Amazon SageMaker starts a rule-execution job to run the LossNotDecreasing rule.  \n",
    "\n",
    "The cell below will block till the training job is complete."
   ]
  },
  {
   "cell_type": "code",
   "execution_count": 11,
   "metadata": {},
   "outputs": [
    {
     "name": "stdout",
     "output_type": "stream",
     "text": [
      "Training job status: InProgress, Rule Evaluation Status: InProgress\n",
      "Training job status: InProgress, Rule Evaluation Status: InProgress\n",
      "Training job status: InProgress, Rule Evaluation Status: InProgress\n",
      "Training job status: InProgress, Rule Evaluation Status: InProgress\n",
      "Training job status: InProgress, Rule Evaluation Status: InProgress\n",
      "Training job status: InProgress, Rule Evaluation Status: InProgress\n",
      "Training job status: InProgress, Rule Evaluation Status: InProgress\n",
      "Training job status: InProgress, Rule Evaluation Status: InProgress\n",
      "Training job status: InProgress, Rule Evaluation Status: InProgress\n",
      "Training job status: InProgress, Rule Evaluation Status: InProgress\n",
      "Training job status: InProgress, Rule Evaluation Status: InProgress\n",
      "Training job status: InProgress, Rule Evaluation Status: InProgress\n",
      "Training job status: InProgress, Rule Evaluation Status: InProgress\n",
      "Training job status: InProgress, Rule Evaluation Status: InProgress\n",
      "Training job status: InProgress, Rule Evaluation Status: InProgress\n",
      "Training job status: InProgress, Rule Evaluation Status: InProgress\n",
      "Training job status: InProgress, Rule Evaluation Status: InProgress\n",
      "Training job status: Completed, Rule Evaluation Status: InProgress\n",
      "Training job status: Completed, Rule Evaluation Status: InProgress\n",
      "Training job status: Completed, Rule Evaluation Status: InProgress\n",
      "Training job status: Completed, Rule Evaluation Status: InProgress\n",
      "Training job status: Completed, Rule Evaluation Status: InProgress\n",
      "Training job status: Completed, Rule Evaluation Status: InProgress\n",
      "Training job status: Completed, Rule Evaluation Status: InProgress\n",
      "Training job status: Completed, Rule Evaluation Status: InProgress\n",
      "Training job status: Completed, Rule Evaluation Status: InProgress\n",
      "Training job status: Completed, Rule Evaluation Status: InProgress\n",
      "Training job status: Completed, Rule Evaluation Status: InProgress\n",
      "Training job status: Completed, Rule Evaluation Status: InProgress\n",
      "Training job status: Completed, Rule Evaluation Status: InProgress\n",
      "Training job status: Completed, Rule Evaluation Status: InProgress\n",
      "Training job status: Completed, Rule Evaluation Status: InProgress\n",
      "Training job status: Completed, Rule Evaluation Status: InProgress\n",
      "Training job status: Completed, Rule Evaluation Status: InProgress\n",
      "Training job status: Completed, Rule Evaluation Status: InProgress\n",
      "Training job status: Completed, Rule Evaluation Status: InProgress\n",
      "Training job status: Completed, Rule Evaluation Status: InProgress\n",
      "Training job status: Completed, Rule Evaluation Status: InProgress\n",
      "Training job status: Completed, Rule Evaluation Status: InProgress\n",
      "Training job status: Completed, Rule Evaluation Status: InProgress\n",
      "Training job status: Completed, Rule Evaluation Status: InProgress\n",
      "Training job status: Completed, Rule Evaluation Status: InProgress\n",
      "Training job status: Completed, Rule Evaluation Status: InProgress\n",
      "Training job status: Completed, Rule Evaluation Status: InProgress\n",
      "Training job status: Completed, Rule Evaluation Status: InProgress\n",
      "Training job status: Completed, Rule Evaluation Status: InProgress\n",
      "Training job status: Completed, Rule Evaluation Status: InProgress\n",
      "Training job status: Completed, Rule Evaluation Status: InProgress\n",
      "Training job status: Completed, Rule Evaluation Status: IssuesFound\n"
     ]
    }
   ],
   "source": [
    "import time\n",
    "\n",
    "for _ in range(100):\n",
    "    job_name = xgboost_estimator.latest_training_job.name\n",
    "    client = xgboost_estimator.sagemaker_session.sagemaker_client\n",
    "    description = client.describe_training_job(TrainingJobName=job_name)\n",
    "    training_job_status = description[\"TrainingJobStatus\"]\n",
    "    rule_job_summary = xgboost_estimator.latest_training_job.rule_job_summary()\n",
    "    rule_evaluation_status = rule_job_summary[0][\"RuleEvaluationStatus\"]\n",
    "    print(\n",
    "        \"Training job status: {}, Rule Evaluation Status: {}\".format(\n",
    "            training_job_status, rule_evaluation_status\n",
    "        )\n",
    "    )\n",
    "\n",
    "    if training_job_status in [\"Completed\", \"Failed\"]:\n",
    "        if rule_evaluation_status not in [\"Completed\", \"InProgress\"]:\n",
    "            break\n",
    "\n",
    "    time.sleep(10)"
   ]
  },
  {
   "cell_type": "markdown",
   "metadata": {},
   "source": [
    "### 3.5 Check the status of the Rule Evaluation Job\n",
    "\n",
    "To get the rule evaluation job that Amazon SageMaker started for you, run the command below. The results show you the `RuleConfigurationName`, `RuleEvaluationJobArn`, `RuleEvaluationStatus`, `StatusDetails`, and `RuleEvaluationJobArn`.\n",
    "If the model parameters meet a rule evaluation condition, the rule execution job throws a client error with `RuleEvaluationConditionMet`.\n",
    "\n",
    "The logs of the rule evaluation job are available in the Cloudwatch Logstream `/aws/sagemaker/ProcessingJobs` with `RuleEvaluationJobArn`.\n",
    "\n",
    "You can see that once the rule execution job starts, it identifies the loss not decreasing situation in the training job, it raises the `RuleEvaluationConditionMet` exception, and it ends the job."
   ]
  },
  {
   "cell_type": "code",
   "execution_count": 12,
   "metadata": {},
   "outputs": [
    {
     "data": {
      "text/plain": [
       "[{'RuleConfigurationName': 'LossNotDecreasing',\n",
       "  'RuleEvaluationJobArn': 'arn:aws:sagemaker:us-east-1:875692608981:processing-job/sagemaker-xgboost-2021-11--lossnotdecreasing-92e33236',\n",
       "  'RuleEvaluationStatus': 'IssuesFound',\n",
       "  'StatusDetails': 'RuleEvaluationConditionMet: Evaluation of the rule LossNotDecreasing at step 4 resulted in the condition being met\\n',\n",
       "  'LastModifiedTime': datetime.datetime(2021, 11, 11, 5, 47, 41, 684000, tzinfo=tzlocal())},\n",
       " {'RuleConfigurationName': 'ProfilerReport-1636609137',\n",
       "  'RuleEvaluationJobArn': 'arn:aws:sagemaker:us-east-1:875692608981:processing-job/sagemaker-xgboost-2021-11--profilerreport-1636609137-9099ce2f',\n",
       "  'RuleEvaluationStatus': 'NoIssuesFound',\n",
       "  'LastModifiedTime': datetime.datetime(2021, 11, 11, 5, 43, 22, 595000, tzinfo=tzlocal())}]"
      ]
     },
     "execution_count": 12,
     "metadata": {},
     "output_type": "execute_result"
    }
   ],
   "source": [
    "xgboost_estimator.latest_training_job.rule_job_summary()"
   ]
  },
  {
   "cell_type": "markdown",
   "metadata": {},
   "source": [
    "## Section 4 - Analyze debugger output <a id='analyze-debugger-ouput'></a>\n",
    "\n",
    "Now that you've trained the system, analyze the data.  Here, you focus on after-the-fact analysis.\n",
    "\n",
    "You import a basic analysis library, which defines the concept of trial, which represents a single training run.\n",
    "\n",
    "### Retrieving and Analyzing tensors\n",
    "\n",
    "Before getting to analysis, here are some notes on concepts being used in Amazon SageMaker Debugger that help with analysis.\n",
    "- ***Trial*** - Object that is a centerpiece of the SageMaker Debugger API when it comes to getting access to model parameters. It is a top level abstract that represents a single run of a training job. All model parameters emitted by a training job are associated with its trial.\n",
    "- ***Tensor*** - Object that represents model parameters, such as weights, gradients, accuracy, and loss, that are saved during training job.\n",
    "\n",
    "For more details on aforementioned concepts as well as on SageMaker Debugger API in general (including examples) see [SageMaker Debugger Analysis API](https://github.com/awslabs/sagemaker-debugger/blob/master/docs/analysis.md) documentation.\n",
    "\n",
    "In the following code cell, use a ***Trial*** to access model parameters. You can do that by inspecting currently running training job and extract necessary parameters from its debug configuration to instruct SageMaker Debugger where the data you are looking for is located. Keep in mind the following:\n",
    "- model parameters are being stored in your own S3 bucket to which you can navigate and manually inspect its content if desired.\n",
    "- You might notice a slight delay before trial object is created. This is normal as SageMaker Debugger monitors the corresponding bucket and waits until model parameters to appear. The delay is introduced by less than instantaneous upload of model parameters from a training container to your S3 bucket. "
   ]
  },
  {
   "cell_type": "code",
   "execution_count": 13,
   "metadata": {},
   "outputs": [
    {
     "name": "stdout",
     "output_type": "stream",
     "text": [
      "[2021-11-11 05:49:03.428 datascience-1-0-ml-t3-medium-1abf3407f667f989be9d86559395:5448 INFO utils.py:27] RULE_JOB_STOP_SIGNAL_FILENAME: None\n",
      "[2021-11-11 05:49:03.440 datascience-1-0-ml-t3-medium-1abf3407f667f989be9d86559395:5448 INFO s3_trial.py:42] Loading trial debug-output at path s3://sagemaker-us-east-1-875692608981/fraud-detect-demo/debugger/sagemaker-xgboost-2021-11-11-05-38-57-629/debug-output\n"
     ]
    }
   ],
   "source": [
    "from smdebug.trials import create_trial\n",
    "\n",
    "s3_output_path = xgboost_estimator.latest_job_debugger_artifacts_path()\n",
    "trial = create_trial(s3_output_path)"
   ]
  },
  {
   "cell_type": "markdown",
   "metadata": {},
   "source": [
    "You can list all model parameters that you want to analyze. Each one of these names is the name of a model parameter. The name is a combination of the feature name, which in these cases, is auto-assigned by XGBoost, and whether it's an evaluation metric, feature importance, or SHAP value."
   ]
  },
  {
   "cell_type": "code",
   "execution_count": 14,
   "metadata": {},
   "outputs": [
    {
     "name": "stdout",
     "output_type": "stream",
     "text": [
      "[2021-11-11 05:49:07.138 datascience-1-0-ml-t3-medium-1abf3407f667f989be9d86559395:5448 INFO trial.py:198] Training has ended, will refresh one final time in 1 sec.\n",
      "[2021-11-11 05:49:08.170 datascience-1-0-ml-t3-medium-1abf3407f667f989be9d86559395:5448 INFO trial.py:210] Loaded all steps\n"
     ]
    },
    {
     "data": {
      "text/plain": [
       "['average_shap/f0',\n",
       " 'average_shap/f1',\n",
       " 'average_shap/f10',\n",
       " 'average_shap/f11',\n",
       " 'average_shap/f12',\n",
       " 'average_shap/f13',\n",
       " 'average_shap/f14',\n",
       " 'average_shap/f15',\n",
       " 'average_shap/f16',\n",
       " 'average_shap/f17',\n",
       " 'average_shap/f18',\n",
       " 'average_shap/f19',\n",
       " 'average_shap/f2',\n",
       " 'average_shap/f20',\n",
       " 'average_shap/f21',\n",
       " 'average_shap/f22',\n",
       " 'average_shap/f23',\n",
       " 'average_shap/f24',\n",
       " 'average_shap/f25',\n",
       " 'average_shap/f26',\n",
       " 'average_shap/f27',\n",
       " 'average_shap/f28',\n",
       " 'average_shap/f29',\n",
       " 'average_shap/f3',\n",
       " 'average_shap/f30',\n",
       " 'average_shap/f31',\n",
       " 'average_shap/f32',\n",
       " 'average_shap/f33',\n",
       " 'average_shap/f34',\n",
       " 'average_shap/f35',\n",
       " 'average_shap/f36',\n",
       " 'average_shap/f37',\n",
       " 'average_shap/f38',\n",
       " 'average_shap/f39',\n",
       " 'average_shap/f4',\n",
       " 'average_shap/f40',\n",
       " 'average_shap/f41',\n",
       " 'average_shap/f42',\n",
       " 'average_shap/f43',\n",
       " 'average_shap/f44',\n",
       " 'average_shap/f5',\n",
       " 'average_shap/f6',\n",
       " 'average_shap/f7',\n",
       " 'average_shap/f8',\n",
       " 'average_shap/f9',\n",
       " 'feature_importance/cover/f1',\n",
       " 'feature_importance/cover/f10',\n",
       " 'feature_importance/cover/f11',\n",
       " 'feature_importance/cover/f12',\n",
       " 'feature_importance/cover/f13',\n",
       " 'feature_importance/cover/f14',\n",
       " 'feature_importance/cover/f15',\n",
       " 'feature_importance/cover/f16',\n",
       " 'feature_importance/cover/f17',\n",
       " 'feature_importance/cover/f18',\n",
       " 'feature_importance/cover/f19',\n",
       " 'feature_importance/cover/f2',\n",
       " 'feature_importance/cover/f20',\n",
       " 'feature_importance/cover/f21',\n",
       " 'feature_importance/cover/f22',\n",
       " 'feature_importance/cover/f23',\n",
       " 'feature_importance/cover/f24',\n",
       " 'feature_importance/cover/f25',\n",
       " 'feature_importance/cover/f26',\n",
       " 'feature_importance/cover/f27',\n",
       " 'feature_importance/cover/f29',\n",
       " 'feature_importance/cover/f3',\n",
       " 'feature_importance/cover/f30',\n",
       " 'feature_importance/cover/f31',\n",
       " 'feature_importance/cover/f33',\n",
       " 'feature_importance/cover/f35',\n",
       " 'feature_importance/cover/f36',\n",
       " 'feature_importance/cover/f37',\n",
       " 'feature_importance/cover/f38',\n",
       " 'feature_importance/cover/f39',\n",
       " 'feature_importance/cover/f4',\n",
       " 'feature_importance/cover/f41',\n",
       " 'feature_importance/cover/f5',\n",
       " 'feature_importance/cover/f6',\n",
       " 'feature_importance/cover/f7',\n",
       " 'feature_importance/cover/f8',\n",
       " 'feature_importance/cover/f9',\n",
       " 'feature_importance/gain/f1',\n",
       " 'feature_importance/gain/f10',\n",
       " 'feature_importance/gain/f11',\n",
       " 'feature_importance/gain/f12',\n",
       " 'feature_importance/gain/f13',\n",
       " 'feature_importance/gain/f14',\n",
       " 'feature_importance/gain/f15',\n",
       " 'feature_importance/gain/f16',\n",
       " 'feature_importance/gain/f17',\n",
       " 'feature_importance/gain/f18',\n",
       " 'feature_importance/gain/f19',\n",
       " 'feature_importance/gain/f2',\n",
       " 'feature_importance/gain/f20',\n",
       " 'feature_importance/gain/f21',\n",
       " 'feature_importance/gain/f22',\n",
       " 'feature_importance/gain/f23',\n",
       " 'feature_importance/gain/f24',\n",
       " 'feature_importance/gain/f25',\n",
       " 'feature_importance/gain/f26',\n",
       " 'feature_importance/gain/f27',\n",
       " 'feature_importance/gain/f29',\n",
       " 'feature_importance/gain/f3',\n",
       " 'feature_importance/gain/f30',\n",
       " 'feature_importance/gain/f31',\n",
       " 'feature_importance/gain/f33',\n",
       " 'feature_importance/gain/f35',\n",
       " 'feature_importance/gain/f36',\n",
       " 'feature_importance/gain/f37',\n",
       " 'feature_importance/gain/f38',\n",
       " 'feature_importance/gain/f39',\n",
       " 'feature_importance/gain/f4',\n",
       " 'feature_importance/gain/f41',\n",
       " 'feature_importance/gain/f5',\n",
       " 'feature_importance/gain/f6',\n",
       " 'feature_importance/gain/f7',\n",
       " 'feature_importance/gain/f8',\n",
       " 'feature_importance/gain/f9',\n",
       " 'feature_importance/total_cover/f1',\n",
       " 'feature_importance/total_cover/f10',\n",
       " 'feature_importance/total_cover/f11',\n",
       " 'feature_importance/total_cover/f12',\n",
       " 'feature_importance/total_cover/f13',\n",
       " 'feature_importance/total_cover/f14',\n",
       " 'feature_importance/total_cover/f15',\n",
       " 'feature_importance/total_cover/f16',\n",
       " 'feature_importance/total_cover/f17',\n",
       " 'feature_importance/total_cover/f18',\n",
       " 'feature_importance/total_cover/f19',\n",
       " 'feature_importance/total_cover/f2',\n",
       " 'feature_importance/total_cover/f20',\n",
       " 'feature_importance/total_cover/f21',\n",
       " 'feature_importance/total_cover/f22',\n",
       " 'feature_importance/total_cover/f23',\n",
       " 'feature_importance/total_cover/f24',\n",
       " 'feature_importance/total_cover/f25',\n",
       " 'feature_importance/total_cover/f26',\n",
       " 'feature_importance/total_cover/f27',\n",
       " 'feature_importance/total_cover/f29',\n",
       " 'feature_importance/total_cover/f3',\n",
       " 'feature_importance/total_cover/f30',\n",
       " 'feature_importance/total_cover/f31',\n",
       " 'feature_importance/total_cover/f33',\n",
       " 'feature_importance/total_cover/f35',\n",
       " 'feature_importance/total_cover/f36',\n",
       " 'feature_importance/total_cover/f37',\n",
       " 'feature_importance/total_cover/f38',\n",
       " 'feature_importance/total_cover/f39',\n",
       " 'feature_importance/total_cover/f4',\n",
       " 'feature_importance/total_cover/f41',\n",
       " 'feature_importance/total_cover/f5',\n",
       " 'feature_importance/total_cover/f6',\n",
       " 'feature_importance/total_cover/f7',\n",
       " 'feature_importance/total_cover/f8',\n",
       " 'feature_importance/total_cover/f9',\n",
       " 'feature_importance/total_gain/f1',\n",
       " 'feature_importance/total_gain/f10',\n",
       " 'feature_importance/total_gain/f11',\n",
       " 'feature_importance/total_gain/f12',\n",
       " 'feature_importance/total_gain/f13',\n",
       " 'feature_importance/total_gain/f14',\n",
       " 'feature_importance/total_gain/f15',\n",
       " 'feature_importance/total_gain/f16',\n",
       " 'feature_importance/total_gain/f17',\n",
       " 'feature_importance/total_gain/f18',\n",
       " 'feature_importance/total_gain/f19',\n",
       " 'feature_importance/total_gain/f2',\n",
       " 'feature_importance/total_gain/f20',\n",
       " 'feature_importance/total_gain/f21',\n",
       " 'feature_importance/total_gain/f22',\n",
       " 'feature_importance/total_gain/f23',\n",
       " 'feature_importance/total_gain/f24',\n",
       " 'feature_importance/total_gain/f25',\n",
       " 'feature_importance/total_gain/f26',\n",
       " 'feature_importance/total_gain/f27',\n",
       " 'feature_importance/total_gain/f29',\n",
       " 'feature_importance/total_gain/f3',\n",
       " 'feature_importance/total_gain/f30',\n",
       " 'feature_importance/total_gain/f31',\n",
       " 'feature_importance/total_gain/f33',\n",
       " 'feature_importance/total_gain/f35',\n",
       " 'feature_importance/total_gain/f36',\n",
       " 'feature_importance/total_gain/f37',\n",
       " 'feature_importance/total_gain/f38',\n",
       " 'feature_importance/total_gain/f39',\n",
       " 'feature_importance/total_gain/f4',\n",
       " 'feature_importance/total_gain/f41',\n",
       " 'feature_importance/total_gain/f5',\n",
       " 'feature_importance/total_gain/f6',\n",
       " 'feature_importance/total_gain/f7',\n",
       " 'feature_importance/total_gain/f8',\n",
       " 'feature_importance/total_gain/f9',\n",
       " 'feature_importance/weight/f1',\n",
       " 'feature_importance/weight/f10',\n",
       " 'feature_importance/weight/f11',\n",
       " 'feature_importance/weight/f12',\n",
       " 'feature_importance/weight/f13',\n",
       " 'feature_importance/weight/f14',\n",
       " 'feature_importance/weight/f15',\n",
       " 'feature_importance/weight/f16',\n",
       " 'feature_importance/weight/f17',\n",
       " 'feature_importance/weight/f18',\n",
       " 'feature_importance/weight/f19',\n",
       " 'feature_importance/weight/f2',\n",
       " 'feature_importance/weight/f20',\n",
       " 'feature_importance/weight/f21',\n",
       " 'feature_importance/weight/f22',\n",
       " 'feature_importance/weight/f23',\n",
       " 'feature_importance/weight/f24',\n",
       " 'feature_importance/weight/f25',\n",
       " 'feature_importance/weight/f26',\n",
       " 'feature_importance/weight/f27',\n",
       " 'feature_importance/weight/f29',\n",
       " 'feature_importance/weight/f3',\n",
       " 'feature_importance/weight/f30',\n",
       " 'feature_importance/weight/f31',\n",
       " 'feature_importance/weight/f33',\n",
       " 'feature_importance/weight/f35',\n",
       " 'feature_importance/weight/f36',\n",
       " 'feature_importance/weight/f37',\n",
       " 'feature_importance/weight/f38',\n",
       " 'feature_importance/weight/f39',\n",
       " 'feature_importance/weight/f4',\n",
       " 'feature_importance/weight/f41',\n",
       " 'feature_importance/weight/f5',\n",
       " 'feature_importance/weight/f6',\n",
       " 'feature_importance/weight/f7',\n",
       " 'feature_importance/weight/f8',\n",
       " 'feature_importance/weight/f9',\n",
       " 'full_shap/f0',\n",
       " 'full_shap/f1',\n",
       " 'full_shap/f10',\n",
       " 'full_shap/f11',\n",
       " 'full_shap/f12',\n",
       " 'full_shap/f13',\n",
       " 'full_shap/f14',\n",
       " 'full_shap/f15',\n",
       " 'full_shap/f16',\n",
       " 'full_shap/f17',\n",
       " 'full_shap/f18',\n",
       " 'full_shap/f19',\n",
       " 'full_shap/f2',\n",
       " 'full_shap/f20',\n",
       " 'full_shap/f21',\n",
       " 'full_shap/f22',\n",
       " 'full_shap/f23',\n",
       " 'full_shap/f24',\n",
       " 'full_shap/f25',\n",
       " 'full_shap/f26',\n",
       " 'full_shap/f27',\n",
       " 'full_shap/f28',\n",
       " 'full_shap/f29',\n",
       " 'full_shap/f3',\n",
       " 'full_shap/f30',\n",
       " 'full_shap/f31',\n",
       " 'full_shap/f32',\n",
       " 'full_shap/f33',\n",
       " 'full_shap/f34',\n",
       " 'full_shap/f35',\n",
       " 'full_shap/f36',\n",
       " 'full_shap/f37',\n",
       " 'full_shap/f38',\n",
       " 'full_shap/f39',\n",
       " 'full_shap/f4',\n",
       " 'full_shap/f40',\n",
       " 'full_shap/f41',\n",
       " 'full_shap/f42',\n",
       " 'full_shap/f43',\n",
       " 'full_shap/f44',\n",
       " 'full_shap/f5',\n",
       " 'full_shap/f6',\n",
       " 'full_shap/f7',\n",
       " 'full_shap/f8',\n",
       " 'full_shap/f9',\n",
       " 'train-error',\n",
       " 'validation-error']"
      ]
     },
     "execution_count": 14,
     "metadata": {},
     "output_type": "execute_result"
    }
   ],
   "source": [
    "trial.tensor_names()"
   ]
  },
  {
   "cell_type": "markdown",
   "metadata": {},
   "source": [
    "For each model parameter, we can get the values at all saved steps. "
   ]
  },
  {
   "cell_type": "code",
   "execution_count": 15,
   "metadata": {},
   "outputs": [
    {
     "data": {
      "text/plain": [
       "{0: array([0.], dtype=float32),\n",
       " 2: array([0.], dtype=float32),\n",
       " 4: array([0.], dtype=float32),\n",
       " 6: array([0.], dtype=float32),\n",
       " 8: array([0.], dtype=float32),\n",
       " 10: array([0.00035647], dtype=float32),\n",
       " 12: array([0.00013076], dtype=float32),\n",
       " 14: array([-0.00023466], dtype=float32),\n",
       " 16: array([-0.00023466], dtype=float32),\n",
       " 18: array([-0.00023466], dtype=float32),\n",
       " 20: array([-0.00023466], dtype=float32),\n",
       " 22: array([-0.00023466], dtype=float32),\n",
       " 24: array([-0.00023466], dtype=float32),\n",
       " 26: array([-0.00023466], dtype=float32),\n",
       " 28: array([-0.00023466], dtype=float32),\n",
       " 30: array([-0.00023466], dtype=float32),\n",
       " 32: array([-0.00023466], dtype=float32),\n",
       " 34: array([-0.00023466], dtype=float32),\n",
       " 36: array([-0.00069573], dtype=float32),\n",
       " 38: array([-0.00069573], dtype=float32),\n",
       " 40: array([-0.00227877], dtype=float32),\n",
       " 42: array([-0.00227877], dtype=float32),\n",
       " 44: array([-0.00227877], dtype=float32),\n",
       " 46: array([-0.00227877], dtype=float32),\n",
       " 48: array([-0.00227877], dtype=float32),\n",
       " 50: array([-0.00227877], dtype=float32),\n",
       " 52: array([-0.00227877], dtype=float32),\n",
       " 54: array([-0.00227877], dtype=float32),\n",
       " 56: array([-0.00227877], dtype=float32),\n",
       " 58: array([-0.00227877], dtype=float32),\n",
       " 60: array([-0.00227877], dtype=float32),\n",
       " 62: array([-0.00227877], dtype=float32),\n",
       " 64: array([-0.00227877], dtype=float32),\n",
       " 66: array([-0.00227877], dtype=float32),\n",
       " 68: array([-0.00227877], dtype=float32),\n",
       " 70: array([-0.00227877], dtype=float32),\n",
       " 72: array([-0.00227877], dtype=float32),\n",
       " 74: array([-0.00227877], dtype=float32),\n",
       " 76: array([-0.00227877], dtype=float32),\n",
       " 78: array([-0.00227877], dtype=float32),\n",
       " 80: array([-0.00227877], dtype=float32),\n",
       " 82: array([-0.00227877], dtype=float32),\n",
       " 84: array([-0.00220797], dtype=float32),\n",
       " 86: array([-0.00388956], dtype=float32),\n",
       " 88: array([-0.0071775], dtype=float32),\n",
       " 90: array([-0.0071775], dtype=float32),\n",
       " 92: array([-0.0071775], dtype=float32),\n",
       " 94: array([-0.0071775], dtype=float32),\n",
       " 96: array([-0.0071775], dtype=float32),\n",
       " 98: array([-0.0071775], dtype=float32)}"
      ]
     },
     "execution_count": 15,
     "metadata": {},
     "output_type": "execute_result"
    }
   ],
   "source": [
    "trial.tensor(\"average_shap/f1\").values()"
   ]
  },
  {
   "cell_type": "markdown",
   "metadata": {},
   "source": [
    "### Plot Performance metrics\n",
    "\n",
    "You can also create a simple function that visualizes the training and validation errors as the training progresses.\n",
    "The error should get smaller over time, as the system converges to a good solution."
   ]
  },
  {
   "cell_type": "code",
   "execution_count": 16,
   "metadata": {},
   "outputs": [],
   "source": [
    "from itertools import islice\n",
    "import matplotlib.pyplot as plt\n",
    "import re\n",
    "\n",
    "MAX_PLOTS = 35\n",
    "feature_names = col_order\n",
    "\n",
    "def get_data(trial, tname):\n",
    "    \"\"\"\n",
    "    For the given tensor name, walks though all the iterations\n",
    "    for which you have data and fetches the values.\n",
    "    Returns the set of steps and the values.\n",
    "    \"\"\"\n",
    "    tensor = trial.tensor(tname)\n",
    "    steps = tensor.steps()\n",
    "    vals = [tensor.value(s) for s in steps]\n",
    "    return steps, vals\n",
    "\n",
    "\n",
    "def match_tensor_name_with_feature_name(tensor_name, feature_names=feature_names):\n",
    "    feature_tag = tensor_name.split(\"/\")\n",
    "    for ifeat, feature_name in enumerate(feature_names):\n",
    "        if feature_tag[-1] == \"f{}\".format(str(ifeat)):\n",
    "            return feature_name\n",
    "    return tensor_name\n",
    "\n",
    "\n",
    "def plot_collection(trial, collection_name, regex=\".*\", figsize=(8, 6)):\n",
    "    \"\"\"\n",
    "    Takes a `trial` and a collection name, and\n",
    "    plots all tensors that match the given regex.\n",
    "    \"\"\"\n",
    "    fig, ax = plt.subplots(figsize=figsize)\n",
    "    tensors = trial.collection(collection_name).tensor_names\n",
    "    matched_tensors = [t for t in tensors if re.match(regex, t)]\n",
    "    for tensor_name in islice(matched_tensors, MAX_PLOTS):\n",
    "        steps, data = get_data(trial, tensor_name)\n",
    "        ax.plot(steps, data, label=match_tensor_name_with_feature_name(tensor_name))\n",
    "\n",
    "    ax.legend(loc=\"center left\", bbox_to_anchor=(1, 0.5))\n",
    "    ax.set_xlabel(\"Iteration\")"
   ]
  },
  {
   "cell_type": "code",
   "execution_count": 17,
   "metadata": {},
   "outputs": [
    {
     "data": {
      "image/png": "[encoded data removed]",
      "text/plain": [
       "<Figure size 576x432 with 1 Axes>"
      ]
     },
     "metadata": {
      "needs_background": "light"
     },
     "output_type": "display_data"
    }
   ],
   "source": [
    "plot_collection(trial, \"metrics\")"
   ]
  },
  {
   "cell_type": "markdown",
   "metadata": {},
   "source": [
    "### Feature importance\n",
    "\n",
    "You can also visualize the feature priorities as determined by\n",
    "[xgboost.get_score()](https://xgboost.readthedocs.io/en/latest/python/python_api.html#xgboost.Booster.get_score).\n",
    "If you instructed Estimator to log the `feature_importance` collection, all importance types supported by `xgboost.get_score()` will be available in the collection."
   ]
  },
  {
   "cell_type": "code",
   "execution_count": 18,
   "metadata": {},
   "outputs": [],
   "source": [
    "def plot_feature_importance(trial, importance_type=\"weight\"):\n",
    "    SUPPORTED_IMPORTANCE_TYPES = [\"weight\", \"gain\", \"cover\", \"total_gain\", \"total_cover\"]\n",
    "    if importance_type not in SUPPORTED_IMPORTANCE_TYPES:\n",
    "        raise ValueError(f\"{importance_type} is not one of the supported importance types.\")\n",
    "    plot_collection(trial, \"feature_importance\", regex=f\"feature_importance/{importance_type}/.*\")"
   ]
  },
  {
   "cell_type": "code",
   "execution_count": 19,
   "metadata": {},
   "outputs": [
    {
     "data": {
      "image/png": "[encoded data removed]",
      "text/plain": [
       "<Figure size 576x432 with 1 Axes>"
      ]
     },
     "metadata": {
      "needs_background": "light"
     },
     "output_type": "display_data"
    }
   ],
   "source": [
    "plot_feature_importance(trial, importance_type=\"cover\")"
   ]
  },
  {
   "cell_type": "markdown",
   "metadata": {},
   "source": [
    "### SHAP\n",
    "\n",
    "[SHAP](https://github.com/slundberg/shap) (SHapley Additive exPlanations) is\n",
    "another approach to explain the output of machine learning models.\n",
    "SHAP values represent a feature's contribution to a change in the model output.\n",
    "You instructed Estimator to log the average SHAP values in this example so the SHAP values (as calculated by [xgboost.predict(pred_contribs=True)](https://xgboost.readthedocs.io/en/latest/python/python_api.html#xgboost.Booster.predict)) will be available the `average_shap` collection."
   ]
  },
  {
   "cell_type": "code",
   "execution_count": 20,
   "metadata": {},
   "outputs": [
    {
     "data": {
      "image/png": "[encoded data removed]",
      "text/plain": [
       "<Figure size 576x432 with 1 Axes>"
      ]
     },
     "metadata": {
      "needs_background": "light"
     },
     "output_type": "display_data"
    }
   ],
   "source": [
    "plot_collection(trial, \"average_shap\")"
   ]
  },
  {
   "cell_type": "markdown",
   "metadata": {},
   "source": [
    "### Global explanations"
   ]
  },
  {
   "cell_type": "markdown",
   "metadata": {},
   "source": [
    "Global explanatory methods allow understanding the model and its feature contributions in aggregate over multiple datapoints. Here we show an aggregate bar plot that plots the mean absolute SHAP value for each feature. \n",
    "\n",
    "Specifically, the below plot indicates that the value of relationship (Wife=5, Husband=4, Own-child=3, Other-relative=2, Unmarried=1, Not-in-family=0) plays the most important role in predicting the income probability being higher than 50K."
   ]
  },
  {
   "cell_type": "code",
   "execution_count": 21,
   "metadata": {},
   "outputs": [
    {
     "data": {
      "image/png": "[encoded data removed]",
      "text/plain": [
       "<Figure size 576x684 with 1 Axes>"
      ]
     },
     "metadata": {
      "needs_background": "light"
     },
     "output_type": "display_data"
    }
   ],
   "source": [
    "import shap\n",
    "shap_values = trial.tensor(\"full_shap/f0\").value(trial.last_complete_step)\n",
    "shap_no_base = shap_values[:, :-1]\n",
    "shap_base_value = shap_values[0, -1]\n",
    "shap.summary_plot(shap_no_base, plot_type=\"bar\", feature_names=feature_names)"
   ]
  },
  {
   "cell_type": "code",
   "execution_count": 22,
   "metadata": {},
   "outputs": [
    {
     "data": {
      "text/plain": [
       "-3.8026304"
      ]
     },
     "execution_count": 22,
     "metadata": {},
     "output_type": "execute_result"
    }
   ],
   "source": [
    "shap_base_value"
   ]
  },
  {
   "cell_type": "markdown",
   "metadata": {},
   "source": [
    "The detailed summary plot below can provide more context over the above bar chart. It tells which features are most important and, in addition, their range of effects over the dataset. The color allows us to match how changes in the value of a feature effect the change in prediction. \n",
    "\n",
    "The 'red' indicates higher value of the feature and 'blue' indicates lower (normalized over the features). This allows conclusions such as 'increase in age leads to higher log odds for prediction, eventually leading to `True` predictions more often. "
   ]
  },
  {
   "cell_type": "code",
   "execution_count": 23,
   "metadata": {},
   "outputs": [
    {
     "name": "stdout",
     "output_type": "stream",
     "text": [
      "/opt/conda/lib/python3.7/site-packages/secretstorage/dhcrypto.py:16: CryptographyDeprecationWarning: int_from_bytes is deprecated, use int.from_bytes instead\n",
      "  from cryptography.utils import int_from_bytes\n",
      "/opt/conda/lib/python3.7/site-packages/secretstorage/util.py:25: CryptographyDeprecationWarning: int_from_bytes is deprecated, use int.from_bytes instead\n",
      "  from cryptography.utils import int_from_bytes\n",
      "\u001b[33mWARNING: Running pip as the 'root' user can result in broken permissions and conflicting behaviour with the system package manager. It is recommended to use a virtual environment instead: https://pip.pypa.io/warnings/venv\u001b[0m\n"
     ]
    }
   ],
   "source": [
    "!pip install -q awswrangler pandas\n",
    "import awswrangler as wr"
   ]
  },
  {
   "cell_type": "code",
   "execution_count": 24,
   "metadata": {},
   "outputs": [
    {
     "data": {
      "text/html": [
       "<div>\n",
       "<style scoped>\n",
       "    .dataframe tbody tr th:only-of-type {\n",
       "        vertical-align: middle;\n",
       "    }\n",
       "\n",
       "    .dataframe tbody tr th {\n",
       "        vertical-align: top;\n",
       "    }\n",
       "\n",
       "    .dataframe thead th {\n",
       "        text-align: right;\n",
       "    }\n",
       "</style>\n",
       "<table border=\"1\" class=\"dataframe\">\n",
       "  <thead>\n",
       "    <tr style=\"text-align: right;\">\n",
       "      <th></th>\n",
       "      <th>fraud</th>\n",
       "      <th>authorities_contacted_none</th>\n",
       "      <th>policy_liability</th>\n",
       "      <th>customer_gender_female</th>\n",
       "      <th>incident_severity</th>\n",
       "      <th>total_claim_amount</th>\n",
       "      <th>driver_relationship_child</th>\n",
       "      <th>policy_state_az</th>\n",
       "      <th>police_report_available</th>\n",
       "      <th>driver_relationship_self</th>\n",
       "      <th>...</th>\n",
       "      <th>policy_state_wa</th>\n",
       "      <th>collision_type_rear</th>\n",
       "      <th>incident_dow</th>\n",
       "      <th>policy_state_id</th>\n",
       "      <th>auto_year</th>\n",
       "      <th>driver_relationship_na</th>\n",
       "      <th>customer_age</th>\n",
       "      <th>authorities_contacted_fire</th>\n",
       "      <th>driver_relationship_other</th>\n",
       "      <th>collision_type_na</th>\n",
       "    </tr>\n",
       "  </thead>\n",
       "  <tbody>\n",
       "    <tr>\n",
       "      <th>0</th>\n",
       "      <td>0</td>\n",
       "      <td>0</td>\n",
       "      <td>3</td>\n",
       "      <td>1</td>\n",
       "      <td>1</td>\n",
       "      <td>9500.0</td>\n",
       "      <td>0</td>\n",
       "      <td>0</td>\n",
       "      <td>1</td>\n",
       "      <td>1</td>\n",
       "      <td>...</td>\n",
       "      <td>0</td>\n",
       "      <td>1</td>\n",
       "      <td>5</td>\n",
       "      <td>0</td>\n",
       "      <td>2012</td>\n",
       "      <td>0</td>\n",
       "      <td>43</td>\n",
       "      <td>0</td>\n",
       "      <td>0</td>\n",
       "      <td>0</td>\n",
       "    </tr>\n",
       "    <tr>\n",
       "      <th>1</th>\n",
       "      <td>0</td>\n",
       "      <td>0</td>\n",
       "      <td>2</td>\n",
       "      <td>0</td>\n",
       "      <td>1</td>\n",
       "      <td>13500.0</td>\n",
       "      <td>0</td>\n",
       "      <td>0</td>\n",
       "      <td>1</td>\n",
       "      <td>1</td>\n",
       "      <td>...</td>\n",
       "      <td>0</td>\n",
       "      <td>0</td>\n",
       "      <td>0</td>\n",
       "      <td>0</td>\n",
       "      <td>2009</td>\n",
       "      <td>0</td>\n",
       "      <td>38</td>\n",
       "      <td>0</td>\n",
       "      <td>0</td>\n",
       "      <td>0</td>\n",
       "    </tr>\n",
       "    <tr>\n",
       "      <th>2</th>\n",
       "      <td>0</td>\n",
       "      <td>0</td>\n",
       "      <td>3</td>\n",
       "      <td>0</td>\n",
       "      <td>1</td>\n",
       "      <td>9000.0</td>\n",
       "      <td>0</td>\n",
       "      <td>0</td>\n",
       "      <td>0</td>\n",
       "      <td>1</td>\n",
       "      <td>...</td>\n",
       "      <td>0</td>\n",
       "      <td>0</td>\n",
       "      <td>6</td>\n",
       "      <td>0</td>\n",
       "      <td>2020</td>\n",
       "      <td>0</td>\n",
       "      <td>66</td>\n",
       "      <td>0</td>\n",
       "      <td>0</td>\n",
       "      <td>0</td>\n",
       "    </tr>\n",
       "    <tr>\n",
       "      <th>3</th>\n",
       "      <td>0</td>\n",
       "      <td>1</td>\n",
       "      <td>1</td>\n",
       "      <td>1</td>\n",
       "      <td>0</td>\n",
       "      <td>15500.0</td>\n",
       "      <td>0</td>\n",
       "      <td>0</td>\n",
       "      <td>0</td>\n",
       "      <td>1</td>\n",
       "      <td>...</td>\n",
       "      <td>0</td>\n",
       "      <td>1</td>\n",
       "      <td>6</td>\n",
       "      <td>0</td>\n",
       "      <td>2019</td>\n",
       "      <td>0</td>\n",
       "      <td>37</td>\n",
       "      <td>0</td>\n",
       "      <td>0</td>\n",
       "      <td>0</td>\n",
       "    </tr>\n",
       "    <tr>\n",
       "      <th>4</th>\n",
       "      <td>0</td>\n",
       "      <td>0</td>\n",
       "      <td>3</td>\n",
       "      <td>0</td>\n",
       "      <td>2</td>\n",
       "      <td>47000.0</td>\n",
       "      <td>0</td>\n",
       "      <td>0</td>\n",
       "      <td>1</td>\n",
       "      <td>1</td>\n",
       "      <td>...</td>\n",
       "      <td>0</td>\n",
       "      <td>0</td>\n",
       "      <td>3</td>\n",
       "      <td>0</td>\n",
       "      <td>2018</td>\n",
       "      <td>0</td>\n",
       "      <td>49</td>\n",
       "      <td>0</td>\n",
       "      <td>0</td>\n",
       "      <td>0</td>\n",
       "    </tr>\n",
       "    <tr>\n",
       "      <th>...</th>\n",
       "      <td>...</td>\n",
       "      <td>...</td>\n",
       "      <td>...</td>\n",
       "      <td>...</td>\n",
       "      <td>...</td>\n",
       "      <td>...</td>\n",
       "      <td>...</td>\n",
       "      <td>...</td>\n",
       "      <td>...</td>\n",
       "      <td>...</td>\n",
       "      <td>...</td>\n",
       "      <td>...</td>\n",
       "      <td>...</td>\n",
       "      <td>...</td>\n",
       "      <td>...</td>\n",
       "      <td>...</td>\n",
       "      <td>...</td>\n",
       "      <td>...</td>\n",
       "      <td>...</td>\n",
       "      <td>...</td>\n",
       "      <td>...</td>\n",
       "    </tr>\n",
       "    <tr>\n",
       "      <th>3995</th>\n",
       "      <td>0</td>\n",
       "      <td>0</td>\n",
       "      <td>1</td>\n",
       "      <td>0</td>\n",
       "      <td>1</td>\n",
       "      <td>10500.0</td>\n",
       "      <td>0</td>\n",
       "      <td>1</td>\n",
       "      <td>1</td>\n",
       "      <td>1</td>\n",
       "      <td>...</td>\n",
       "      <td>0</td>\n",
       "      <td>0</td>\n",
       "      <td>2</td>\n",
       "      <td>0</td>\n",
       "      <td>2017</td>\n",
       "      <td>0</td>\n",
       "      <td>45</td>\n",
       "      <td>0</td>\n",
       "      <td>0</td>\n",
       "      <td>0</td>\n",
       "    </tr>\n",
       "    <tr>\n",
       "      <th>3996</th>\n",
       "      <td>0</td>\n",
       "      <td>1</td>\n",
       "      <td>2</td>\n",
       "      <td>0</td>\n",
       "      <td>0</td>\n",
       "      <td>14000.0</td>\n",
       "      <td>0</td>\n",
       "      <td>0</td>\n",
       "      <td>0</td>\n",
       "      <td>1</td>\n",
       "      <td>...</td>\n",
       "      <td>0</td>\n",
       "      <td>0</td>\n",
       "      <td>4</td>\n",
       "      <td>0</td>\n",
       "      <td>2018</td>\n",
       "      <td>0</td>\n",
       "      <td>43</td>\n",
       "      <td>0</td>\n",
       "      <td>0</td>\n",
       "      <td>0</td>\n",
       "    </tr>\n",
       "    <tr>\n",
       "      <th>3997</th>\n",
       "      <td>0</td>\n",
       "      <td>0</td>\n",
       "      <td>1</td>\n",
       "      <td>0</td>\n",
       "      <td>1</td>\n",
       "      <td>34000.0</td>\n",
       "      <td>0</td>\n",
       "      <td>1</td>\n",
       "      <td>0</td>\n",
       "      <td>0</td>\n",
       "      <td>...</td>\n",
       "      <td>0</td>\n",
       "      <td>0</td>\n",
       "      <td>3</td>\n",
       "      <td>0</td>\n",
       "      <td>2018</td>\n",
       "      <td>0</td>\n",
       "      <td>60</td>\n",
       "      <td>0</td>\n",
       "      <td>0</td>\n",
       "      <td>0</td>\n",
       "    </tr>\n",
       "    <tr>\n",
       "      <th>3998</th>\n",
       "      <td>0</td>\n",
       "      <td>1</td>\n",
       "      <td>1</td>\n",
       "      <td>0</td>\n",
       "      <td>0</td>\n",
       "      <td>11500.0</td>\n",
       "      <td>0</td>\n",
       "      <td>0</td>\n",
       "      <td>0</td>\n",
       "      <td>1</td>\n",
       "      <td>...</td>\n",
       "      <td>0</td>\n",
       "      <td>1</td>\n",
       "      <td>3</td>\n",
       "      <td>0</td>\n",
       "      <td>2020</td>\n",
       "      <td>0</td>\n",
       "      <td>36</td>\n",
       "      <td>0</td>\n",
       "      <td>0</td>\n",
       "      <td>0</td>\n",
       "    </tr>\n",
       "    <tr>\n",
       "      <th>3999</th>\n",
       "      <td>0</td>\n",
       "      <td>0</td>\n",
       "      <td>1</td>\n",
       "      <td>0</td>\n",
       "      <td>2</td>\n",
       "      <td>56500.0</td>\n",
       "      <td>0</td>\n",
       "      <td>0</td>\n",
       "      <td>1</td>\n",
       "      <td>1</td>\n",
       "      <td>...</td>\n",
       "      <td>1</td>\n",
       "      <td>1</td>\n",
       "      <td>4</td>\n",
       "      <td>0</td>\n",
       "      <td>2017</td>\n",
       "      <td>0</td>\n",
       "      <td>53</td>\n",
       "      <td>0</td>\n",
       "      <td>0</td>\n",
       "      <td>0</td>\n",
       "    </tr>\n",
       "  </tbody>\n",
       "</table>\n",
       "<p>4000 rows × 46 columns</p>\n",
       "</div>"
      ],
      "text/plain": [
       "      fraud  authorities_contacted_none  policy_liability  \\\n",
       "0         0                           0                 3   \n",
       "1         0                           0                 2   \n",
       "2         0                           0                 3   \n",
       "3         0                           1                 1   \n",
       "4         0                           0                 3   \n",
       "...     ...                         ...               ...   \n",
       "3995      0                           0                 1   \n",
       "3996      0                           1                 2   \n",
       "3997      0                           0                 1   \n",
       "3998      0                           1                 1   \n",
       "3999      0                           0                 1   \n",
       "\n",
       "      customer_gender_female  incident_severity  total_claim_amount  \\\n",
       "0                          1                  1              9500.0   \n",
       "1                          0                  1             13500.0   \n",
       "2                          0                  1              9000.0   \n",
       "3                          1                  0             15500.0   \n",
       "4                          0                  2             47000.0   \n",
       "...                      ...                ...                 ...   \n",
       "3995                       0                  1             10500.0   \n",
       "3996                       0                  0             14000.0   \n",
       "3997                       0                  1             34000.0   \n",
       "3998                       0                  0             11500.0   \n",
       "3999                       0                  2             56500.0   \n",
       "\n",
       "      driver_relationship_child  policy_state_az  police_report_available  \\\n",
       "0                             0                0                        1   \n",
       "1                             0                0                        1   \n",
       "2                             0                0                        0   \n",
       "3                             0                0                        0   \n",
       "4                             0                0                        1   \n",
       "...                         ...              ...                      ...   \n",
       "3995                          0                1                        1   \n",
       "3996                          0                0                        0   \n",
       "3997                          0                1                        0   \n",
       "3998                          0                0                        0   \n",
       "3999                          0                0                        1   \n",
       "\n",
       "      driver_relationship_self  ...  policy_state_wa  collision_type_rear  \\\n",
       "0                            1  ...                0                    1   \n",
       "1                            1  ...                0                    0   \n",
       "2                            1  ...                0                    0   \n",
       "3                            1  ...                0                    1   \n",
       "4                            1  ...                0                    0   \n",
       "...                        ...  ...              ...                  ...   \n",
       "3995                         1  ...                0                    0   \n",
       "3996                         1  ...                0                    0   \n",
       "3997                         0  ...                0                    0   \n",
       "3998                         1  ...                0                    1   \n",
       "3999                         1  ...                1                    1   \n",
       "\n",
       "      incident_dow  policy_state_id  auto_year  driver_relationship_na  \\\n",
       "0                5                0       2012                       0   \n",
       "1                0                0       2009                       0   \n",
       "2                6                0       2020                       0   \n",
       "3                6                0       2019                       0   \n",
       "4                3                0       2018                       0   \n",
       "...            ...              ...        ...                     ...   \n",
       "3995             2                0       2017                       0   \n",
       "3996             4                0       2018                       0   \n",
       "3997             3                0       2018                       0   \n",
       "3998             3                0       2020                       0   \n",
       "3999             4                0       2017                       0   \n",
       "\n",
       "      customer_age  authorities_contacted_fire  driver_relationship_other  \\\n",
       "0               43                           0                          0   \n",
       "1               38                           0                          0   \n",
       "2               66                           0                          0   \n",
       "3               37                           0                          0   \n",
       "4               49                           0                          0   \n",
       "...            ...                         ...                        ...   \n",
       "3995            45                           0                          0   \n",
       "3996            43                           0                          0   \n",
       "3997            60                           0                          0   \n",
       "3998            36                           0                          0   \n",
       "3999            53                           0                          0   \n",
       "\n",
       "      collision_type_na  \n",
       "0                     0  \n",
       "1                     0  \n",
       "2                     0  \n",
       "3                     0  \n",
       "4                     0  \n",
       "...                 ...  \n",
       "3995                  0  \n",
       "3996                  0  \n",
       "3997                  0  \n",
       "3998                  0  \n",
       "3999                  0  \n",
       "\n",
       "[4000 rows x 46 columns]"
      ]
     },
     "execution_count": 24,
     "metadata": {},
     "output_type": "execute_result"
    }
   ],
   "source": [
    "# ======> This is your DataFlow output path if you decide to redo the work in DataFlow on your own\n",
    "train = wr.s3.read_csv(path=f\"s3://{bucket}/{prefix}/data/train/\", dataset=True)\n",
    "train"
   ]
  },
  {
   "cell_type": "code",
   "execution_count": 29,
   "metadata": {},
   "outputs": [
    {
     "ename": "AttributeError",
     "evalue": "'numpy.ndarray' object has no attribute 'columns'",
     "output_type": "error",
     "traceback": [
      "\u001b[0;31m---------------------------------------------------------------------------\u001b[0m",
      "\u001b[0;31mAttributeError\u001b[0m                            Traceback (most recent call last)",
      "\u001b[0;32m<ipython-input-29-71c89614cf54>\u001b[0m in \u001b[0;36m<module>\u001b[0;34m\u001b[0m\n\u001b[0;32m----> 1\u001b[0;31m \u001b[0mshap_no_base\u001b[0m\u001b[0;34m.\u001b[0m\u001b[0mcolumns\u001b[0m\u001b[0;34m\u001b[0m\u001b[0;34m\u001b[0m\u001b[0m\n\u001b[0m",
      "\u001b[0;31mAttributeError\u001b[0m: 'numpy.ndarray' object has no attribute 'columns'"
     ]
    }
   ],
   "source": [
    "shap_no_base.columns"
   ]
  },
  {
   "cell_type": "code",
   "execution_count": 28,
   "metadata": {},
   "outputs": [
    {
     "data": {
      "text/plain": [
       "Index(['fraud', 'authorities_contacted_none', 'policy_liability',\n",
       "       'customer_gender_female', 'incident_severity', 'total_claim_amount',\n",
       "       'driver_relationship_child', 'policy_state_az',\n",
       "       'police_report_available', 'driver_relationship_self',\n",
       "       'authorities_contacted_police', 'num_witnesses', 'collision_type_front',\n",
       "       'vehicle_claim', 'incident_day', 'incident_type_breakin',\n",
       "       'policy_state_nv', 'policy_state_or', 'injury_claim',\n",
       "       'num_vehicles_involved', 'incident_type_collision', 'policy_state_ca',\n",
       "       'num_claims_past_year', 'incident_hour', 'collision_type_side',\n",
       "       'incident_month', 'policy_annual_premium', 'months_as_customer',\n",
       "       'num_insurers_past_5_years', 'policy_deductable', 'incident_type_theft',\n",
       "       'num_injuries', 'customer_gender_male',\n",
       "       'authorities_contacted_ambulance', 'customer_education',\n",
       "       'driver_relationship_spouse', 'policy_state_wa', 'collision_type_rear',\n",
       "       'incident_dow', 'policy_state_id', 'auto_year',\n",
       "       'driver_relationship_na', 'customer_age', 'authorities_contacted_fire',\n",
       "       'driver_relationship_other', 'collision_type_na'],\n",
       "      dtype='object')"
      ]
     },
     "execution_count": 28,
     "metadata": {},
     "output_type": "execute_result"
    }
   ],
   "source": [
    "train.columns"
   ]
  },
  {
   "cell_type": "code",
   "execution_count": 27,
   "metadata": {},
   "outputs": [
    {
     "data": {
      "text/plain": [
       "(4000, 45)"
      ]
     },
     "execution_count": 27,
     "metadata": {},
     "output_type": "execute_result"
    }
   ],
   "source": [
    "df = train.drop('fraud',axis=1)\n",
    "df.shape"
   ]
  },
  {
   "cell_type": "code",
   "execution_count": null,
   "metadata": {},
   "outputs": [],
   "source": [
    "shap.summary_plot(shap_no_base, df)"
   ]
  },
  {
   "cell_type": "markdown",
   "metadata": {},
   "source": [
    "### Local explanations"
   ]
  },
  {
   "cell_type": "markdown",
   "metadata": {},
   "source": [
    "Local explainability aims to explain model behavior for a fixed input point. This can be used for either auditing models before deployment or to provide explanations for specific inference predictions. "
   ]
  },
  {
   "cell_type": "code",
   "execution_count": null,
   "metadata": {},
   "outputs": [],
   "source": [
    "shap.initjs()"
   ]
  },
  {
   "cell_type": "markdown",
   "metadata": {},
   "source": [
    "#### Force plot"
   ]
  },
  {
   "cell_type": "markdown",
   "metadata": {},
   "source": [
    "A force plot explanation shows how features are contributing to push the model output from the base value (the average model output over the dataset) to the model output. Features pushing the prediction higher are shown in **red**, those pushing the prediction lower are in **blue**.\n",
    "\n",
    "Plot below indicates that for this particular data point the prediction probability (0.48) is higher than the average (~0.2) primarily because this person is in a relationship (`Relationship = Wife`), and to smaller degree because of the higher-than-average age. Similarly the model reduces the probability due specific `Sex` and `Race` values indicating existence of bias in model behavior (possibly due to bias in the data). "
   ]
  },
  {
   "cell_type": "code",
   "execution_count": null,
   "metadata": {},
   "outputs": [],
   "source": [
    "shap.force_plot(\n",
    "    shap_base_value,\n",
    "    shap_no_base[100, :],\n",
    "    X_train_display.iloc[100, :],\n",
    "    link=\"logit\",\n",
    "    matplotlib=False,\n",
    ")"
   ]
  },
  {
   "cell_type": "markdown",
   "metadata": {},
   "source": [
    "#### Stacked force plot"
   ]
  },
  {
   "cell_type": "markdown",
   "metadata": {},
   "source": [
    "SHAP allows stacking multiple force-plots after rotating 90 degress to understand the explanations for multiple datapoints. If Javascript is enabled, then in the notebook this plot is interactive, allowing understanding the change in output for each feature independently. This stacking of force plots provides a balance between local and global explainability."
   ]
  },
  {
   "cell_type": "code",
   "execution_count": 31,
   "metadata": {},
   "outputs": [],
   "source": [
    "import numpy as np\n",
    "\n",
    "N_ROWS = shap_no_base.shape[0]\n",
    "N_SAMPLES = min(100, N_ROWS)\n",
    "sampled_indices = np.random.randint(N_ROWS, size=N_SAMPLES)"
   ]
  },
  {
   "cell_type": "code",
   "execution_count": null,
   "metadata": {},
   "outputs": [],
   "source": [
    "shap.force_plot(\n",
    "    shap_base_value,\n",
    "    shap_no_base[sampled_indices, :],\n",
    "    X_train_display.iloc[sampled_indices, :],\n",
    "    link=\"logit\",\n",
    ")"
   ]
  },
  {
   "cell_type": "markdown",
   "metadata": {},
   "source": [
    "### Outliers\n",
    "\n",
    "Outliers are extreme values that deviate from other observations on data. It's useful to understand the influence of various features for outlier predictions to determine if it's a novelty, an experimental error, or a shortcoming in the model.\n",
    "\n",
    "Here we show force plot for prediction outliers that are on either side of the baseline value."
   ]
  },
  {
   "cell_type": "code",
   "execution_count": 32,
   "metadata": {},
   "outputs": [],
   "source": [
    "# top outliers\n",
    "from scipy import stats\n",
    "\n",
    "N_OUTLIERS = 3  # number of outliers on each side of the tail\n",
    "\n",
    "shap_sum = np.sum(shap_no_base, axis=1)\n",
    "z_scores = stats.zscore(shap_sum)\n",
    "outlier_indices = (np.argpartition(z_scores, -N_OUTLIERS)[-N_OUTLIERS:]).tolist()\n",
    "outlier_indices += (np.argpartition(z_scores, N_OUTLIERS)[:N_OUTLIERS]).tolist()"
   ]
  },
  {
   "cell_type": "code",
   "execution_count": 33,
   "metadata": {},
   "outputs": [
    {
     "ename": "NameError",
     "evalue": "name 'X_train_display' is not defined",
     "output_type": "error",
     "traceback": [
      "\u001b[0;31m---------------------------------------------------------------------------\u001b[0m",
      "\u001b[0;31mNameError\u001b[0m                                 Traceback (most recent call last)",
      "\u001b[0;32m<ipython-input-33-ad97999a59c1>\u001b[0m in \u001b[0;36m<module>\u001b[0;34m\u001b[0m\n\u001b[1;32m      3\u001b[0m         \u001b[0mshap_base_value\u001b[0m\u001b[0;34m,\u001b[0m\u001b[0;34m\u001b[0m\u001b[0;34m\u001b[0m\u001b[0m\n\u001b[1;32m      4\u001b[0m         \u001b[0mshap_no_base\u001b[0m\u001b[0;34m[\u001b[0m\u001b[0moutlier_index\u001b[0m\u001b[0;34m,\u001b[0m \u001b[0;34m:\u001b[0m\u001b[0;34m]\u001b[0m\u001b[0;34m,\u001b[0m\u001b[0;34m\u001b[0m\u001b[0;34m\u001b[0m\u001b[0m\n\u001b[0;32m----> 5\u001b[0;31m         \u001b[0mX_train_display\u001b[0m\u001b[0;34m.\u001b[0m\u001b[0miloc\u001b[0m\u001b[0;34m[\u001b[0m\u001b[0moutlier_index\u001b[0m\u001b[0;34m,\u001b[0m \u001b[0;34m:\u001b[0m\u001b[0;34m]\u001b[0m\u001b[0;34m,\u001b[0m\u001b[0;34m\u001b[0m\u001b[0;34m\u001b[0m\u001b[0m\n\u001b[0m\u001b[1;32m      6\u001b[0m         \u001b[0mmatplotlib\u001b[0m\u001b[0;34m=\u001b[0m\u001b[0;32mFalse\u001b[0m\u001b[0;34m,\u001b[0m\u001b[0;34m\u001b[0m\u001b[0;34m\u001b[0m\u001b[0m\n\u001b[1;32m      7\u001b[0m         \u001b[0mlink\u001b[0m\u001b[0;34m=\u001b[0m\u001b[0;34m\"logit\"\u001b[0m\u001b[0;34m,\u001b[0m\u001b[0;34m\u001b[0m\u001b[0;34m\u001b[0m\u001b[0m\n",
      "\u001b[0;31mNameError\u001b[0m: name 'X_train_display' is not defined"
     ]
    }
   ],
   "source": [
    "for fig_index, outlier_index in enumerate(outlier_indices, start=1):\n",
    "    shap.force_plot(\n",
    "        shap_base_value,\n",
    "        shap_no_base[outlier_index, :],\n",
    "        X_train_display.iloc[outlier_index, :],\n",
    "        matplotlib=False,\n",
    "        link=\"logit\",\n",
    "    )"
   ]
  },
  {
   "cell_type": "markdown",
   "metadata": {},
   "source": [
    "## Conclusion"
   ]
  },
  {
   "cell_type": "markdown",
   "metadata": {},
   "source": [
    "This notebook discussed the importance of explainability for improved ML\n",
    "adoption and. We introduced the Amazon SageMaker Debugger capability with built-in\n",
    "model parameter collections to enable model explainability.\n",
    "The notebook walked you through training an ML model for a financial services use case\n",
    "of individual income prediction. We further analyzed the global and local\n",
    "explanations of the model by visualizing the captured model parameters."
   ]
  },
  {
   "cell_type": "code",
   "execution_count": null,
   "metadata": {},
   "outputs": [],
   "source": []
  }
 ],
 "metadata": {
  "instance_type": "ml.t3.medium",
  "kernelspec": {
   "display_name": "Python 3 (Data Science)",
   "language": "python",
   "name": "python3__SAGEMAKER_INTERNAL__arn:aws:sagemaker:us-east-1:081325390199:image/datascience-1.0"
  },
  "language_info": {
   "codemirror_mode": {
    "name": "ipython",
    "version": 3
   },
   "file_extension": ".py",
   "mimetype": "text/x-python",
   "name": "python",
   "nbconvert_exporter": "python",
   "pygments_lexer": "ipython3",
   "version": "3.7.10"
  },
  "toc": {
   "base_numbering": 1,
   "nav_menu": {},
   "number_sections": false,
   "sideBar": true,
   "skip_h1_title": false,
   "title_cell": "Table of Contents",
   "title_sidebar": "Contents",
   "toc_cell": true,
   "toc_position": {},
   "toc_section_display": false,
   "toc_window_display": false
  }
 },
 "nbformat": 4,
 "nbformat_minor": 4
}
