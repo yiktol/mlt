{
 "cells": [
  {
   "cell_type": "markdown",
   "metadata": {
    "papermill": {
     "duration": 0.018003,
     "end_time": "2021-06-03T00:09:48.368659",
     "exception": false,
     "start_time": "2021-06-03T00:09:48.350656",
     "status": "completed"
    },
    "tags": []
   },
   "source": [
    "# A/B Testing with Amazon SageMaker\n",
    "\n",
    "In production ML workflows, data scientists and data engineers frequently try to improve their models in various ways, such as by performing [Perform Automatic Model Tuning](https://docs.aws.amazon.com/sagemaker/latest/dg/automatic-model-tuning.html), training on additional or more-recent data, and improving feature selection. Performing A/B testing between a new model and an old model with production traffic can be an effective final step in the validation process for a new model. In A/B testing, you test different variants of your models and compare how each variant performs relative to each other. You then choose the best-performing model to replace a previously-existing model new version delivers better performance than the previously-existing version.\n",
    "\n",
    "Amazon SageMaker enables you to test multiple models or model versions behind the same endpoint using production variants. Each production variant identifies a machine learning (ML) model and the resources deployed for hosting the model. You can distribute endpoint invocation requests across multiple production variants by providing the traffic distribution for each variant, or you can invoke a specific variant directly for each request.\n",
    "\n",
    "In this notebook we'll:\n",
    "* Evaluate models by invoking specific variants\n",
    "* Gradually release a new model by specifying traffic distribution"
   ]
  },
  {
   "cell_type": "markdown",
   "metadata": {
    "papermill": {
     "duration": 0.018034,
     "end_time": "2021-06-03T00:09:48.404973",
     "exception": false,
     "start_time": "2021-06-03T00:09:48.386939",
     "status": "completed"
    },
    "tags": []
   },
   "source": [
    "### Prerrequisites\n",
    "\n",
    "First we ensure we have an updated version of boto3, which includes the latest SageMaker features:"
   ]
  },
  {
   "cell_type": "code",
   "execution_count": 1,
   "metadata": {
    "execution": {
     "iopub.execute_input": "2021-06-03T00:09:48.445522Z",
     "iopub.status.busy": "2021-06-03T00:09:48.445063Z",
     "iopub.status.idle": "2021-06-03T00:10:01.618823Z",
     "shell.execute_reply": "2021-06-03T00:10:01.618403Z"
    },
    "papermill": {
     "duration": 13.194939,
     "end_time": "2021-06-03T00:10:01.618937",
     "exception": false,
     "start_time": "2021-06-03T00:09:48.423998",
     "status": "completed"
    },
    "tags": []
   },
   "outputs": [
    {
     "name": "stdout",
     "output_type": "stream",
     "text": [
      "/opt/conda/lib/python3.7/site-packages/secretstorage/dhcrypto.py:16: CryptographyDeprecationWarning: int_from_bytes is deprecated, use int.from_bytes instead\n",
      "  from cryptography.utils import int_from_bytes\n",
      "/opt/conda/lib/python3.7/site-packages/secretstorage/util.py:25: CryptographyDeprecationWarning: int_from_bytes is deprecated, use int.from_bytes instead\n",
      "  from cryptography.utils import int_from_bytes\n",
      "Requirement already satisfied: awscli in /opt/conda/lib/python3.7/site-packages (1.22.2)\n",
      "Collecting awscli\n",
      "  Downloading awscli-1.22.8-py3-none-any.whl (3.8 MB)\n",
      "     |████████████████████████████████| 3.8 MB 28.7 MB/s            \n",
      "\u001b[?25hRequirement already satisfied: s3transfer<0.6.0,>=0.5.0 in /opt/conda/lib/python3.7/site-packages (from awscli) (0.5.0)\n",
      "Requirement already satisfied: docutils<0.16,>=0.10 in /opt/conda/lib/python3.7/site-packages (from awscli) (0.15.2)\n",
      "Requirement already satisfied: rsa<4.8,>=3.1.2 in /opt/conda/lib/python3.7/site-packages (from awscli) (4.7.2)\n",
      "Requirement already satisfied: colorama<0.4.4,>=0.2.5 in /opt/conda/lib/python3.7/site-packages (from awscli) (0.4.3)\n",
      "Collecting PyYAML<5.5,>=3.10\n",
      "  Using cached PyYAML-5.4.1-cp37-cp37m-manylinux1_x86_64.whl (636 kB)\n",
      "Collecting botocore==1.23.8\n",
      "  Downloading botocore-1.23.8-py3-none-any.whl (8.2 MB)\n",
      "     |████████████████████████████████| 8.2 MB 56.2 MB/s            \n",
      "\u001b[?25hRequirement already satisfied: urllib3<1.27,>=1.25.4 in /opt/conda/lib/python3.7/site-packages (from botocore==1.23.8->awscli) (1.26.7)\n",
      "Requirement already satisfied: python-dateutil<3.0.0,>=2.1 in /opt/conda/lib/python3.7/site-packages (from botocore==1.23.8->awscli) (2.8.1)\n",
      "Requirement already satisfied: jmespath<1.0.0,>=0.7.1 in /opt/conda/lib/python3.7/site-packages (from botocore==1.23.8->awscli) (0.10.0)\n",
      "Requirement already satisfied: pyasn1>=0.1.3 in /opt/conda/lib/python3.7/site-packages (from rsa<4.8,>=3.1.2->awscli) (0.4.8)\n",
      "Requirement already satisfied: six>=1.5 in /opt/conda/lib/python3.7/site-packages (from python-dateutil<3.0.0,>=2.1->botocore==1.23.8->awscli) (1.14.0)\n",
      "Installing collected packages: botocore, PyYAML, awscli\n",
      "  Attempting uninstall: botocore\n",
      "    Found existing installation: botocore 1.23.2\n",
      "    Uninstalling botocore-1.23.2:\n",
      "      Successfully uninstalled botocore-1.23.2\n",
      "  Attempting uninstall: PyYAML\n",
      "    Found existing installation: PyYAML 6.0\n",
      "    Uninstalling PyYAML-6.0:\n",
      "      Successfully uninstalled PyYAML-6.0\n",
      "  Attempting uninstall: awscli\n",
      "    Found existing installation: awscli 1.22.2\n",
      "    Uninstalling awscli-1.22.2:\n",
      "      Successfully uninstalled awscli-1.22.2\n",
      "\u001b[31mERROR: pip's dependency resolver does not currently take into account all the packages that are installed. This behaviour is the source of the following dependency conflicts.\n",
      "aiobotocore 1.4.2 requires botocore<1.20.107,>=1.20.106, but you have botocore 1.23.8 which is incompatible.\u001b[0m\n",
      "Successfully installed PyYAML-5.4.1 awscli-1.22.8 botocore-1.23.8\n",
      "\u001b[33mWARNING: Running pip as the 'root' user can result in broken permissions and conflicting behaviour with the system package manager. It is recommended to use a virtual environment instead: https://pip.pypa.io/warnings/venv\u001b[0m\n"
     ]
    }
   ],
   "source": [
    "!pip install -U awscli"
   ]
  },
  {
   "cell_type": "code",
   "execution_count": 2,
   "metadata": {},
   "outputs": [
    {
     "name": "stdout",
     "output_type": "stream",
     "text": [
      "Stored variables and their in-db values:\n",
      "bucket                              -> 'sagemaker-us-east-1-875692608981'\n",
      "claims_fg_name                      -> 'fraud-detect-demo-claims'\n",
      "claims_preprocessed                 ->       policy_id  incident_severity  num_vehicles_i\n",
      "claims_table                        -> 'fraud-detect-demo-claims-1637200704'\n",
      "clarify_bias_job_1_name             -> 'Clarify-Bias-2021-11-18-02-16-43-192'\n",
      "clarify_bias_job_2_name             -> 'Clarify-Bias-2021-11-18-02-37-10-321'\n",
      "clarify_expl_job_name               -> 'Clarify-Explainability-2021-11-18-02-49-06-695'\n",
      "col_order                           -> ['fraud', 'customer_gender_male', 'customer_educat\n",
      "context_name                        -> 'fraud-detect-1637201755'\n",
      "customers_fg_name                   -> 'fraud-detect-demo-customers'\n",
      "customers_preprocessed              ->       policy_id  customer_age  customer_education \n",
      "customers_table                     -> 'fraud-detect-demo-customers-1637200706'\n",
      "database_name                       -> 'sagemaker_featurestore'\n",
      "dataset_uri                         -> 's3://sagemaker-us-east-1-875692608981/fraud-detec\n",
      "endpoint_config_name                -> 'fraud-detect-demo-xgboost-post-smote-endpoint-con\n",
      "endpoint_name                       -> 'fraud-detect-demo-xgboost-post-smote-endpoint'\n",
      "hyperparameters                     -> {'max_depth': '3', 'eta': '0.2', 'objective': 'bin\n",
      "model_1_name                        -> 'fraud-detect-demo-xgboost-pre-smote'\n",
      "model_2_name                        -> 'fraud-detect-demo-xgboost-post-smote'\n",
      "mp2_arn                             -> 'arn:aws:sagemaker:us-east-1:875692608981:model-pa\n",
      "mpg_name                            -> 'fraud-detect-demo'\n",
      "pipeline_name                       -> 'FraudDetectDemo'\n",
      "prefix                              -> 'fraud-detect-demo'\n",
      "test_data_uri                       -> 's3://sagemaker-us-east-1-875692608981/fraud-detec\n",
      "train                               ->       fraud  customer_gender_male  customer_educat\n",
      "train_data_uri                      -> 's3://sagemaker-us-east-1-875692608981/fraud-detec\n",
      "training_job_1_name                 -> 'sagemaker-xgboost-2021-11-18-02-10-30-067'\n",
      "training_job_2_name                 -> 'sagemaker-xgboost-2021-11-18-02-31-28-835'\n"
     ]
    }
   ],
   "source": [
    "%store -r\n",
    "%store"
   ]
  },
  {
   "cell_type": "markdown",
   "metadata": {
    "papermill": {
     "duration": 0.0286,
     "end_time": "2021-06-03T00:10:01.676783",
     "exception": false,
     "start_time": "2021-06-03T00:10:01.648183",
     "status": "completed"
    },
    "tags": []
   },
   "source": [
    "## Configuration"
   ]
  },
  {
   "cell_type": "markdown",
   "metadata": {
    "papermill": {
     "duration": 0.028203,
     "end_time": "2021-06-03T00:10:01.733636",
     "exception": false,
     "start_time": "2021-06-03T00:10:01.705433",
     "status": "completed"
    },
    "tags": []
   },
   "source": [
    "Let's set up some required imports and basic initial variables:"
   ]
  },
  {
   "cell_type": "code",
   "execution_count": 3,
   "metadata": {
    "execution": {
     "iopub.execute_input": "2021-06-03T00:10:01.796772Z",
     "iopub.status.busy": "2021-06-03T00:10:01.796260Z",
     "iopub.status.idle": "2021-06-03T00:10:03.618225Z",
     "shell.execute_reply": "2021-06-03T00:10:03.618603Z"
    },
    "isConfigCell": true,
    "papermill": {
     "duration": 1.857027,
     "end_time": "2021-06-03T00:10:03.618747",
     "exception": false,
     "start_time": "2021-06-03T00:10:01.761720",
     "status": "completed"
    },
    "tags": []
   },
   "outputs": [
    {
     "name": "stdout",
     "output_type": "stream",
     "text": [
      "CPU times: user 658 ms, sys: 47.1 ms, total: 705 ms\n",
      "Wall time: 1.29 s\n"
     ]
    }
   ],
   "source": [
    "%%time\n",
    "%matplotlib inline\n",
    "from datetime import datetime, timedelta\n",
    "import time\n",
    "import os\n",
    "import boto3\n",
    "import re\n",
    "import json\n",
    "from sagemaker import get_execution_role, session\n",
    "from sagemaker.s3 import S3Downloader, S3Uploader\n",
    "\n",
    "region = boto3.Session().region_name\n",
    "role = get_execution_role()\n",
    "sm_session = session.Session(boto3.Session())\n",
    "sm = boto3.Session().client(\"sagemaker\")\n",
    "sm_runtime = boto3.Session().client(\"sagemaker-runtime\")\n"
   ]
  },
  {
   "cell_type": "markdown",
   "metadata": {
    "papermill": {
     "duration": 0.028436,
     "end_time": "2021-06-03T00:10:03.675664",
     "exception": false,
     "start_time": "2021-06-03T00:10:03.647228",
     "status": "completed"
    },
    "tags": []
   },
   "source": [
    "## Step 1: Create and deploy the models\n",
    "\n",
    "### First, we upload our pre-trained models to Amazon S3\n",
    "This code uploads two pre-trained XGBoost models that are ready for you to deploy. These models were trained using the XGB Churn Prediction Notebook in SageMaker. You can also use your own pre-trained models in this step. If you already have a pretrained model in Amazon S3, you can add it by specifying the s3_key.\n",
    "\n",
    "The models in this example are used to predict the probability of a mobile customer leaving their current mobile operator. The dataset we use is publicly available and was mentioned in the book [Discovering Knowledge in Data](https://www.amazon.com/dp/0470908742/) by Daniel T. Larose. It is attributed by the author to the University of California Irvine Repository of Machine Learning Datasets."
   ]
  },
  {
   "cell_type": "code",
   "execution_count": 4,
   "metadata": {
    "execution": {
     "iopub.execute_input": "2021-06-03T00:10:03.744991Z",
     "iopub.status.busy": "2021-06-03T00:10:03.744242Z",
     "iopub.status.idle": "2021-06-03T00:10:04.088276Z",
     "shell.execute_reply": "2021-06-03T00:10:04.088661Z"
    },
    "papermill": {
     "duration": 0.384792,
     "end_time": "2021-06-03T00:10:04.088803",
     "exception": false,
     "start_time": "2021-06-03T00:10:03.704011",
     "status": "completed"
    },
    "tags": []
   },
   "outputs": [
    {
     "data": {
      "text/plain": [
       "('s3://sagemaker-us-east-1-875692608981/fraud-detect-demo/training_jobs/sagemaker-xgboost-2021-11-18-02-10-30-067/output/model.tar.gz',\n",
       " 's3://sagemaker-us-east-1-875692608981/sagemaker-xgboost-2021-11-18-02-31-28-835/output/model.tar.gz')"
      ]
     },
     "execution_count": 4,
     "metadata": {},
     "output_type": "execute_result"
    }
   ],
   "source": [
    "model_url = sm.describe_model(ModelName=model_1_name)['PrimaryContainer']['ModelDataUrl']\n",
    "model_url2 = sm.describe_model(ModelName=model_2_name)['PrimaryContainer']['ModelDataUrl']\n",
    "model_url,model_url2"
   ]
  },
  {
   "cell_type": "markdown",
   "metadata": {
    "papermill": {
     "duration": 0.02864,
     "end_time": "2021-06-03T00:10:04.146237",
     "exception": false,
     "start_time": "2021-06-03T00:10:04.117597",
     "status": "completed"
    },
    "tags": []
   },
   "source": [
    "### Next, we create our model definitions\n",
    "Start with deploying the pre-trained churn prediction models. Here, you create the model objects with the image and model data."
   ]
  },
  {
   "cell_type": "code",
   "execution_count": 5,
   "metadata": {
    "execution": {
     "iopub.execute_input": "2021-06-03T00:10:04.217051Z",
     "iopub.status.busy": "2021-06-03T00:10:04.216261Z",
     "iopub.status.idle": "2021-06-03T00:10:05.148114Z",
     "shell.execute_reply": "2021-06-03T00:10:05.148476Z"
    },
    "papermill": {
     "duration": 0.973816,
     "end_time": "2021-06-03T00:10:05.148613",
     "exception": false,
     "start_time": "2021-06-03T00:10:04.174797",
     "status": "completed"
    },
    "tags": []
   },
   "outputs": [
    {
     "name": "stderr",
     "output_type": "stream",
     "text": [
      "Using already existing model: fraud-detect-demo-xgboost-pre-smote\n",
      "Using already existing model: fraud-detect-demo-xgboost-post-smote\n"
     ]
    },
    {
     "data": {
      "text/plain": [
       "'fraud-detect-demo-xgboost-post-smote'"
      ]
     },
     "execution_count": 5,
     "metadata": {},
     "output_type": "execute_result"
    }
   ],
   "source": [
    "from sagemaker.image_uris import retrieve\n",
    "\n",
    "\n",
    "# model_name = f\"fraud-detect-demo-xgboost-pre-smote-{datetime.now():%Y-%m-%d-%H-%M-%S}\"\n",
    "# model_name2 = f\"fraud-detect-demo-xgboost-post-smote-{datetime.now():%Y-%m-%d-%H-%M-%S}\"\n",
    "image_uri = retrieve(\"xgboost\", boto3.Session().region_name, \"0.90-1\")\n",
    "image_uri2 = retrieve(\"xgboost\", boto3.Session().region_name, \"0.90-2\")\n",
    "\n",
    "sm_session.create_model(\n",
    "    name=model_1_name, role=role, container_defs={\"Image\": image_uri, \"ModelDataUrl\": model_url}\n",
    ")\n",
    "\n",
    "sm_session.create_model(\n",
    "    name=model_2_name, role=role, container_defs={\"Image\": image_uri2, \"ModelDataUrl\": model_url2}\n",
    ")"
   ]
  },
  {
   "cell_type": "markdown",
   "metadata": {
    "papermill": {
     "duration": 0.029456,
     "end_time": "2021-06-03T00:10:05.207592",
     "exception": false,
     "start_time": "2021-06-03T00:10:05.178136",
     "status": "completed"
    },
    "tags": []
   },
   "source": [
    "### Create variants\n",
    "\n",
    "We now create two variants, each with its own different model (these could also have different instance types and counts).\n",
    "\n",
    "We set an initial_weight of “1” for both variants: this means 50% of our requests go to Variant1, and the remaining 50% of all requests to Variant2. (The sum of weights across both variants is 2 and each variant has weight assignment of 1. This implies each variant receives 1/2, or 50%, of the total traffic.)"
   ]
  },
  {
   "cell_type": "code",
   "execution_count": 6,
   "metadata": {
    "execution": {
     "iopub.execute_input": "2021-06-03T00:10:05.271661Z",
     "iopub.status.busy": "2021-06-03T00:10:05.271037Z",
     "iopub.status.idle": "2021-06-03T00:10:05.273524Z",
     "shell.execute_reply": "2021-06-03T00:10:05.273874Z"
    },
    "papermill": {
     "duration": 0.037206,
     "end_time": "2021-06-03T00:10:05.274004",
     "exception": false,
     "start_time": "2021-06-03T00:10:05.236798",
     "status": "completed"
    },
    "tags": []
   },
   "outputs": [
    {
     "data": {
      "text/plain": [
       "({'ModelName': 'fraud-detect-demo-xgboost-pre-smote',\n",
       "  'InstanceType': 'ml.c5.4xlarge',\n",
       "  'InitialInstanceCount': 1,\n",
       "  'VariantName': 'Variant1',\n",
       "  'InitialVariantWeight': 1},\n",
       " {'ModelName': 'fraud-detect-demo-xgboost-post-smote',\n",
       "  'InstanceType': 'ml.c5.4xlarge',\n",
       "  'InitialInstanceCount': 1,\n",
       "  'VariantName': 'Variant2',\n",
       "  'InitialVariantWeight': 1})"
      ]
     },
     "execution_count": 6,
     "metadata": {},
     "output_type": "execute_result"
    }
   ],
   "source": [
    "from sagemaker.session import production_variant\n",
    "\n",
    "variant1 = production_variant(\n",
    "    model_name=model_1_name,\n",
    "    instance_type=\"ml.c5.4xlarge\",\n",
    "    initial_instance_count=1,\n",
    "    variant_name=\"Variant1\",\n",
    "    initial_weight=1,\n",
    ")\n",
    "variant2 = production_variant(\n",
    "    model_name=model_2_name,\n",
    "    instance_type=\"ml.c5.4xlarge\",\n",
    "    initial_instance_count=1,\n",
    "    variant_name=\"Variant2\",\n",
    "    initial_weight=1,\n",
    ")\n",
    "\n",
    "(variant1, variant2)"
   ]
  },
  {
   "cell_type": "markdown",
   "metadata": {
    "papermill": {
     "duration": 0.029624,
     "end_time": "2021-06-03T00:10:05.333520",
     "exception": false,
     "start_time": "2021-06-03T00:10:05.303896",
     "status": "completed"
    },
    "tags": []
   },
   "source": [
    "### Deploy\n",
    "\n",
    "Let's go ahead and deploy our two variants to a SageMaker endpoint:"
   ]
  },
  {
   "cell_type": "code",
   "execution_count": 64,
   "metadata": {
    "execution": {
     "iopub.execute_input": "2021-06-03T00:10:05.398312Z",
     "iopub.status.busy": "2021-06-03T00:10:05.397790Z",
     "iopub.status.idle": "2021-06-03T00:13:06.360172Z",
     "shell.execute_reply": "2021-06-03T00:13:06.359350Z"
    },
    "papermill": {
     "duration": 180.997109,
     "end_time": "2021-06-03T00:13:06.360381",
     "exception": true,
     "start_time": "2021-06-03T00:10:05.363272",
     "status": "failed"
    },
    "tags": []
   },
   "outputs": [
    {
     "name": "stdout",
     "output_type": "stream",
     "text": [
      "EndpointName=variant-frauddetect-2021-11-18-06-07-06\n",
      "-------------!"
     ]
    }
   ],
   "source": [
    "endpoint_name_variant = f\"variant-frauddetect-{datetime.now():%Y-%m-%d-%H-%M-%S}\"\n",
    "print(f\"EndpointName={endpoint_name_variant}\")\n",
    "\n",
    "sm_session.endpoint_from_production_variants(\n",
    "    name=endpoint_name_variant, production_variants=[variant1, variant2]\n",
    ")\n",
    "\n",
    "endpoint_info = sm.describe_endpoint(EndpointName=endpoint_name_variant)\n",
    "endpoint_status = endpoint_info['EndpointStatus']\n",
    "\n",
    "while endpoint_status == 'Creating':\n",
    "    endpoint_info = sm.describe_endpoint(EndpointName=endpoint_name_variant)\n",
    "    endpoint_status = endpoint_info['EndpointStatus']\n",
    "    print('Endpoint status:', endpoint_status)\n",
    "    if endpoint_status == 'Creating':\n",
    "        time.sleep(60)"
   ]
  },
  {
   "cell_type": "markdown",
   "metadata": {
    "papermill": {
     "duration": null,
     "end_time": null,
     "exception": null,
     "start_time": null,
     "status": "pending"
    },
    "tags": []
   },
   "source": [
    "## Step 2: Invoke the deployed models\n",
    "\n",
    "You can now send data to this endpoint to get inferences in real time.\n",
    "\n",
    "This step invokes the endpoint with included sample data for about 2 minutes. "
   ]
  },
  {
   "cell_type": "code",
   "execution_count": 65,
   "metadata": {},
   "outputs": [
    {
     "data": {
      "text/html": [
       "<div>\n",
       "<style scoped>\n",
       "    .dataframe tbody tr th:only-of-type {\n",
       "        vertical-align: middle;\n",
       "    }\n",
       "\n",
       "    .dataframe tbody tr th {\n",
       "        vertical-align: top;\n",
       "    }\n",
       "\n",
       "    .dataframe thead th {\n",
       "        text-align: right;\n",
       "    }\n",
       "</style>\n",
       "<table border=\"1\" class=\"dataframe\">\n",
       "  <thead>\n",
       "    <tr style=\"text-align: right;\">\n",
       "      <th></th>\n",
       "      <th>fraud</th>\n",
       "      <th>customer_gender_male</th>\n",
       "      <th>customer_education</th>\n",
       "      <th>incident_type_collision</th>\n",
       "      <th>num_injuries</th>\n",
       "      <th>policy_liability</th>\n",
       "      <th>customer_gender_female</th>\n",
       "      <th>incident_severity</th>\n",
       "      <th>authorities_contacted_fire</th>\n",
       "      <th>collision_type_front</th>\n",
       "      <th>...</th>\n",
       "      <th>police_report_available</th>\n",
       "      <th>incident_dow</th>\n",
       "      <th>num_vehicles_involved</th>\n",
       "      <th>num_insurers_past_5_years</th>\n",
       "      <th>collision_type_side</th>\n",
       "      <th>driver_relationship_self</th>\n",
       "      <th>policy_state_wa</th>\n",
       "      <th>policy_deductable</th>\n",
       "      <th>driver_relationship_other</th>\n",
       "      <th>authorities_contacted_police</th>\n",
       "    </tr>\n",
       "  </thead>\n",
       "  <tbody>\n",
       "    <tr>\n",
       "      <th>0</th>\n",
       "      <td>0</td>\n",
       "      <td>1</td>\n",
       "      <td>1</td>\n",
       "      <td>0</td>\n",
       "      <td>0</td>\n",
       "      <td>2</td>\n",
       "      <td>0</td>\n",
       "      <td>0</td>\n",
       "      <td>0</td>\n",
       "      <td>0</td>\n",
       "      <td>...</td>\n",
       "      <td>0</td>\n",
       "      <td>6</td>\n",
       "      <td>1</td>\n",
       "      <td>1</td>\n",
       "      <td>0</td>\n",
       "      <td>0</td>\n",
       "      <td>0</td>\n",
       "      <td>750</td>\n",
       "      <td>0</td>\n",
       "      <td>1</td>\n",
       "    </tr>\n",
       "    <tr>\n",
       "      <th>1</th>\n",
       "      <td>0</td>\n",
       "      <td>0</td>\n",
       "      <td>3</td>\n",
       "      <td>0</td>\n",
       "      <td>0</td>\n",
       "      <td>1</td>\n",
       "      <td>1</td>\n",
       "      <td>1</td>\n",
       "      <td>0</td>\n",
       "      <td>0</td>\n",
       "      <td>...</td>\n",
       "      <td>0</td>\n",
       "      <td>1</td>\n",
       "      <td>1</td>\n",
       "      <td>4</td>\n",
       "      <td>0</td>\n",
       "      <td>0</td>\n",
       "      <td>0</td>\n",
       "      <td>750</td>\n",
       "      <td>0</td>\n",
       "      <td>1</td>\n",
       "    </tr>\n",
       "    <tr>\n",
       "      <th>2</th>\n",
       "      <td>0</td>\n",
       "      <td>0</td>\n",
       "      <td>1</td>\n",
       "      <td>1</td>\n",
       "      <td>2</td>\n",
       "      <td>1</td>\n",
       "      <td>0</td>\n",
       "      <td>1</td>\n",
       "      <td>0</td>\n",
       "      <td>0</td>\n",
       "      <td>...</td>\n",
       "      <td>1</td>\n",
       "      <td>0</td>\n",
       "      <td>2</td>\n",
       "      <td>1</td>\n",
       "      <td>0</td>\n",
       "      <td>0</td>\n",
       "      <td>0</td>\n",
       "      <td>750</td>\n",
       "      <td>0</td>\n",
       "      <td>1</td>\n",
       "    </tr>\n",
       "    <tr>\n",
       "      <th>3</th>\n",
       "      <td>0</td>\n",
       "      <td>0</td>\n",
       "      <td>4</td>\n",
       "      <td>1</td>\n",
       "      <td>1</td>\n",
       "      <td>0</td>\n",
       "      <td>1</td>\n",
       "      <td>2</td>\n",
       "      <td>1</td>\n",
       "      <td>1</td>\n",
       "      <td>...</td>\n",
       "      <td>0</td>\n",
       "      <td>3</td>\n",
       "      <td>2</td>\n",
       "      <td>1</td>\n",
       "      <td>0</td>\n",
       "      <td>1</td>\n",
       "      <td>0</td>\n",
       "      <td>750</td>\n",
       "      <td>0</td>\n",
       "      <td>0</td>\n",
       "    </tr>\n",
       "    <tr>\n",
       "      <th>4</th>\n",
       "      <td>0</td>\n",
       "      <td>1</td>\n",
       "      <td>1</td>\n",
       "      <td>0</td>\n",
       "      <td>0</td>\n",
       "      <td>0</td>\n",
       "      <td>0</td>\n",
       "      <td>0</td>\n",
       "      <td>0</td>\n",
       "      <td>0</td>\n",
       "      <td>...</td>\n",
       "      <td>1</td>\n",
       "      <td>4</td>\n",
       "      <td>1</td>\n",
       "      <td>1</td>\n",
       "      <td>0</td>\n",
       "      <td>0</td>\n",
       "      <td>0</td>\n",
       "      <td>750</td>\n",
       "      <td>0</td>\n",
       "      <td>1</td>\n",
       "    </tr>\n",
       "    <tr>\n",
       "      <th>...</th>\n",
       "      <td>...</td>\n",
       "      <td>...</td>\n",
       "      <td>...</td>\n",
       "      <td>...</td>\n",
       "      <td>...</td>\n",
       "      <td>...</td>\n",
       "      <td>...</td>\n",
       "      <td>...</td>\n",
       "      <td>...</td>\n",
       "      <td>...</td>\n",
       "      <td>...</td>\n",
       "      <td>...</td>\n",
       "      <td>...</td>\n",
       "      <td>...</td>\n",
       "      <td>...</td>\n",
       "      <td>...</td>\n",
       "      <td>...</td>\n",
       "      <td>...</td>\n",
       "      <td>...</td>\n",
       "      <td>...</td>\n",
       "      <td>...</td>\n",
       "    </tr>\n",
       "    <tr>\n",
       "      <th>995</th>\n",
       "      <td>0</td>\n",
       "      <td>0</td>\n",
       "      <td>2</td>\n",
       "      <td>0</td>\n",
       "      <td>0</td>\n",
       "      <td>0</td>\n",
       "      <td>0</td>\n",
       "      <td>0</td>\n",
       "      <td>0</td>\n",
       "      <td>0</td>\n",
       "      <td>...</td>\n",
       "      <td>0</td>\n",
       "      <td>0</td>\n",
       "      <td>1</td>\n",
       "      <td>1</td>\n",
       "      <td>0</td>\n",
       "      <td>0</td>\n",
       "      <td>0</td>\n",
       "      <td>750</td>\n",
       "      <td>0</td>\n",
       "      <td>1</td>\n",
       "    </tr>\n",
       "    <tr>\n",
       "      <th>996</th>\n",
       "      <td>0</td>\n",
       "      <td>0</td>\n",
       "      <td>3</td>\n",
       "      <td>1</td>\n",
       "      <td>0</td>\n",
       "      <td>0</td>\n",
       "      <td>0</td>\n",
       "      <td>0</td>\n",
       "      <td>0</td>\n",
       "      <td>0</td>\n",
       "      <td>...</td>\n",
       "      <td>0</td>\n",
       "      <td>2</td>\n",
       "      <td>2</td>\n",
       "      <td>1</td>\n",
       "      <td>1</td>\n",
       "      <td>0</td>\n",
       "      <td>0</td>\n",
       "      <td>750</td>\n",
       "      <td>0</td>\n",
       "      <td>0</td>\n",
       "    </tr>\n",
       "    <tr>\n",
       "      <th>997</th>\n",
       "      <td>0</td>\n",
       "      <td>0</td>\n",
       "      <td>3</td>\n",
       "      <td>1</td>\n",
       "      <td>2</td>\n",
       "      <td>1</td>\n",
       "      <td>1</td>\n",
       "      <td>1</td>\n",
       "      <td>0</td>\n",
       "      <td>0</td>\n",
       "      <td>...</td>\n",
       "      <td>0</td>\n",
       "      <td>5</td>\n",
       "      <td>2</td>\n",
       "      <td>3</td>\n",
       "      <td>0</td>\n",
       "      <td>1</td>\n",
       "      <td>0</td>\n",
       "      <td>750</td>\n",
       "      <td>0</td>\n",
       "      <td>1</td>\n",
       "    </tr>\n",
       "    <tr>\n",
       "      <th>998</th>\n",
       "      <td>0</td>\n",
       "      <td>0</td>\n",
       "      <td>1</td>\n",
       "      <td>1</td>\n",
       "      <td>1</td>\n",
       "      <td>1</td>\n",
       "      <td>0</td>\n",
       "      <td>2</td>\n",
       "      <td>1</td>\n",
       "      <td>0</td>\n",
       "      <td>...</td>\n",
       "      <td>0</td>\n",
       "      <td>1</td>\n",
       "      <td>2</td>\n",
       "      <td>1</td>\n",
       "      <td>1</td>\n",
       "      <td>1</td>\n",
       "      <td>0</td>\n",
       "      <td>750</td>\n",
       "      <td>0</td>\n",
       "      <td>0</td>\n",
       "    </tr>\n",
       "    <tr>\n",
       "      <th>999</th>\n",
       "      <td>0</td>\n",
       "      <td>1</td>\n",
       "      <td>3</td>\n",
       "      <td>1</td>\n",
       "      <td>0</td>\n",
       "      <td>2</td>\n",
       "      <td>0</td>\n",
       "      <td>1</td>\n",
       "      <td>0</td>\n",
       "      <td>1</td>\n",
       "      <td>...</td>\n",
       "      <td>1</td>\n",
       "      <td>3</td>\n",
       "      <td>2</td>\n",
       "      <td>1</td>\n",
       "      <td>0</td>\n",
       "      <td>1</td>\n",
       "      <td>0</td>\n",
       "      <td>750</td>\n",
       "      <td>0</td>\n",
       "      <td>1</td>\n",
       "    </tr>\n",
       "  </tbody>\n",
       "</table>\n",
       "<p>1000 rows × 46 columns</p>\n",
       "</div>"
      ],
      "text/plain": [
       "     fraud  customer_gender_male  customer_education  incident_type_collision  \\\n",
       "0        0                     1                   1                        0   \n",
       "1        0                     0                   3                        0   \n",
       "2        0                     0                   1                        1   \n",
       "3        0                     0                   4                        1   \n",
       "4        0                     1                   1                        0   \n",
       "..     ...                   ...                 ...                      ...   \n",
       "995      0                     0                   2                        0   \n",
       "996      0                     0                   3                        1   \n",
       "997      0                     0                   3                        1   \n",
       "998      0                     0                   1                        1   \n",
       "999      0                     1                   3                        1   \n",
       "\n",
       "     num_injuries  policy_liability  customer_gender_female  \\\n",
       "0               0                 2                       0   \n",
       "1               0                 1                       1   \n",
       "2               2                 1                       0   \n",
       "3               1                 0                       1   \n",
       "4               0                 0                       0   \n",
       "..            ...               ...                     ...   \n",
       "995             0                 0                       0   \n",
       "996             0                 0                       0   \n",
       "997             2                 1                       1   \n",
       "998             1                 1                       0   \n",
       "999             0                 2                       0   \n",
       "\n",
       "     incident_severity  authorities_contacted_fire  collision_type_front  ...  \\\n",
       "0                    0                           0                     0  ...   \n",
       "1                    1                           0                     0  ...   \n",
       "2                    1                           0                     0  ...   \n",
       "3                    2                           1                     1  ...   \n",
       "4                    0                           0                     0  ...   \n",
       "..                 ...                         ...                   ...  ...   \n",
       "995                  0                           0                     0  ...   \n",
       "996                  0                           0                     0  ...   \n",
       "997                  1                           0                     0  ...   \n",
       "998                  2                           1                     0  ...   \n",
       "999                  1                           0                     1  ...   \n",
       "\n",
       "     police_report_available  incident_dow  num_vehicles_involved  \\\n",
       "0                          0             6                      1   \n",
       "1                          0             1                      1   \n",
       "2                          1             0                      2   \n",
       "3                          0             3                      2   \n",
       "4                          1             4                      1   \n",
       "..                       ...           ...                    ...   \n",
       "995                        0             0                      1   \n",
       "996                        0             2                      2   \n",
       "997                        0             5                      2   \n",
       "998                        0             1                      2   \n",
       "999                        1             3                      2   \n",
       "\n",
       "     num_insurers_past_5_years  collision_type_side  driver_relationship_self  \\\n",
       "0                            1                    0                         0   \n",
       "1                            4                    0                         0   \n",
       "2                            1                    0                         0   \n",
       "3                            1                    0                         1   \n",
       "4                            1                    0                         0   \n",
       "..                         ...                  ...                       ...   \n",
       "995                          1                    0                         0   \n",
       "996                          1                    1                         0   \n",
       "997                          3                    0                         1   \n",
       "998                          1                    1                         1   \n",
       "999                          1                    0                         1   \n",
       "\n",
       "     policy_state_wa  policy_deductable  driver_relationship_other  \\\n",
       "0                  0                750                          0   \n",
       "1                  0                750                          0   \n",
       "2                  0                750                          0   \n",
       "3                  0                750                          0   \n",
       "4                  0                750                          0   \n",
       "..               ...                ...                        ...   \n",
       "995                0                750                          0   \n",
       "996                0                750                          0   \n",
       "997                0                750                          0   \n",
       "998                0                750                          0   \n",
       "999                0                750                          0   \n",
       "\n",
       "     authorities_contacted_police  \n",
       "0                               1  \n",
       "1                               1  \n",
       "2                               1  \n",
       "3                               0  \n",
       "4                               1  \n",
       "..                            ...  \n",
       "995                             1  \n",
       "996                             0  \n",
       "997                             1  \n",
       "998                             0  \n",
       "999                             1  \n",
       "\n",
       "[1000 rows x 46 columns]"
      ]
     },
     "execution_count": 65,
     "metadata": {},
     "output_type": "execute_result"
    }
   ],
   "source": [
    "import awswrangler as wr\n",
    "import pandas as pd\n",
    "\n",
    "test = wr.s3.read_csv(path=f\"s3://{bucket}/{prefix}/data/test/\", dataset=True)\n",
    "test.drop([\"fraud\"], axis=1).to_csv( \"data/variant_test.csv\", index=False, header=False)\n",
    "\n",
    "test"
   ]
  },
  {
   "cell_type": "code",
   "execution_count": 66,
   "metadata": {
    "papermill": {
     "duration": null,
     "end_time": null,
     "exception": null,
     "start_time": null,
     "status": "pending"
    },
    "tags": []
   },
   "outputs": [
    {
     "name": "stdout",
     "output_type": "stream",
     "text": [
      "Sending test traffic to the endpoint variant-frauddetect-2021-11-18-06-07-06. \n",
      "Please wait...\n",
      "........................................................................................................................Done!\n"
     ]
    }
   ],
   "source": [
    "# get a subset of test data for a quick test\n",
    "!tail -120 data/variant_test.csv > test_data/test_sample_tail_input_cols.csv\n",
    "print(f\"Sending test traffic to the endpoint {endpoint_name_variant}. \\nPlease wait...\")\n",
    "with open(\"test_data/test_sample_tail_input_cols.csv\", \"r\") as f:\n",
    "    for row in f:\n",
    "        print(\".\", end=\"\", flush=True)\n",
    "        payload = row.rstrip(\"\\n\")\n",
    "        sm_runtime.invoke_endpoint(EndpointName=endpoint_name_variant, ContentType=\"text/csv\", Body=payload)\n",
    "        time.sleep(0.5)\n",
    "\n",
    "print(\"Done!\")"
   ]
  },
  {
   "cell_type": "markdown",
   "metadata": {
    "papermill": {
     "duration": null,
     "end_time": null,
     "exception": null,
     "start_time": null,
     "status": "pending"
    },
    "tags": []
   },
   "source": [
    "### Invocations per variant\n",
    "\n",
    "Amazon SageMaker emits metrics such as Latency and Invocations (full list of metrics [here](https://alpha-docs-aws.amazon.com/sagemaker/latest/dg/monitoring-cloudwatch.html)) for each variant in Amazon CloudWatch. Let’s query CloudWatch to get number of Invocations per variant, to show how invocations are split across variants:"
   ]
  },
  {
   "cell_type": "code",
   "execution_count": 67,
   "metadata": {
    "papermill": {
     "duration": null,
     "end_time": null,
     "exception": null,
     "start_time": null,
     "status": "pending"
    },
    "tags": []
   },
   "outputs": [],
   "source": [
    "import pandas as pd\n",
    "\n",
    "cw = boto3.Session().client(\"cloudwatch\")\n",
    "\n",
    "\n",
    "def get_invocation_metrics_for_endpoint_variant(endpoint_name_variant, variant_name, start_time, end_time):\n",
    "    metrics = cw.get_metric_statistics(\n",
    "        Namespace=\"AWS/SageMaker\",\n",
    "        MetricName=\"Invocations\",\n",
    "        StartTime=start_time,\n",
    "        EndTime=end_time,\n",
    "        Period=60,\n",
    "        Statistics=[\"Sum\"],\n",
    "        Dimensions=[\n",
    "            {\"Name\": \"EndpointName\", \"Value\": endpoint_name_variant},\n",
    "            {\"Name\": \"VariantName\", \"Value\": variant_name},\n",
    "        ],\n",
    "    )\n",
    "    return (\n",
    "        pd.DataFrame(metrics[\"Datapoints\"])\n",
    "        .sort_values(\"Timestamp\")\n",
    "        .set_index(\"Timestamp\")\n",
    "        .drop(\"Unit\", axis=1)\n",
    "        .rename(columns={\"Sum\": variant_name})\n",
    "    )\n",
    "\n",
    "\n",
    "def plot_endpoint_metrics(start_time=None):\n",
    "    start_time = start_time or datetime.now() - timedelta(minutes=60)\n",
    "    end_time = datetime.now()\n",
    "    metrics_variant1 = get_invocation_metrics_for_endpoint_variant(\n",
    "        endpoint_name_variant, variant1[\"VariantName\"], start_time, end_time\n",
    "    )\n",
    "    metrics_variant2 = get_invocation_metrics_for_endpoint_variant(\n",
    "        endpoint_name_variant, variant2[\"VariantName\"], start_time, end_time\n",
    "    )\n",
    "    metrics_variants = metrics_variant1.join(metrics_variant2, how=\"outer\")\n",
    "    metrics_variants.plot()\n",
    "    return metrics_variants"
   ]
  },
  {
   "cell_type": "code",
   "execution_count": 68,
   "metadata": {
    "papermill": {
     "duration": null,
     "end_time": null,
     "exception": null,
     "start_time": null,
     "status": "pending"
    },
    "tags": []
   },
   "outputs": [
    {
     "name": "stdout",
     "output_type": "stream",
     "text": [
      "Waiting a minute for initial metric creation...\n"
     ]
    },
    {
     "data": {
      "text/html": [
       "<div>\n",
       "<style scoped>\n",
       "    .dataframe tbody tr th:only-of-type {\n",
       "        vertical-align: middle;\n",
       "    }\n",
       "\n",
       "    .dataframe tbody tr th {\n",
       "        vertical-align: top;\n",
       "    }\n",
       "\n",
       "    .dataframe thead th {\n",
       "        text-align: right;\n",
       "    }\n",
       "</style>\n",
       "<table border=\"1\" class=\"dataframe\">\n",
       "  <thead>\n",
       "    <tr style=\"text-align: right;\">\n",
       "      <th></th>\n",
       "      <th>Variant1</th>\n",
       "      <th>Variant2</th>\n",
       "    </tr>\n",
       "    <tr>\n",
       "      <th>Timestamp</th>\n",
       "      <th></th>\n",
       "      <th></th>\n",
       "    </tr>\n",
       "  </thead>\n",
       "  <tbody>\n",
       "    <tr>\n",
       "      <th>2021-11-18 06:12:00+00:00</th>\n",
       "      <td>0.0</td>\n",
       "      <td>0.0</td>\n",
       "    </tr>\n",
       "    <tr>\n",
       "      <th>2021-11-18 06:13:00+00:00</th>\n",
       "      <td>1.0</td>\n",
       "      <td>3.0</td>\n",
       "    </tr>\n",
       "    <tr>\n",
       "      <th>2021-11-18 06:14:00+00:00</th>\n",
       "      <td>52.0</td>\n",
       "      <td>55.0</td>\n",
       "    </tr>\n",
       "    <tr>\n",
       "      <th>2021-11-18 06:15:00+00:00</th>\n",
       "      <td>4.0</td>\n",
       "      <td>5.0</td>\n",
       "    </tr>\n",
       "  </tbody>\n",
       "</table>\n",
       "</div>"
      ],
      "text/plain": [
       "                           Variant1  Variant2\n",
       "Timestamp                                    \n",
       "2021-11-18 06:12:00+00:00       0.0       0.0\n",
       "2021-11-18 06:13:00+00:00       1.0       3.0\n",
       "2021-11-18 06:14:00+00:00      52.0      55.0\n",
       "2021-11-18 06:15:00+00:00       4.0       5.0"
      ]
     },
     "execution_count": 68,
     "metadata": {},
     "output_type": "execute_result"
    },
    {
     "data": {
      "image/png": "[encoded data removed]",
      "text/plain": [
       "<Figure size 432x288 with 1 Axes>"
      ]
     },
     "metadata": {
      "needs_background": "light"
     },
     "output_type": "display_data"
    }
   ],
   "source": [
    "print(\"Waiting a minute for initial metric creation...\")\n",
    "time.sleep(60)\n",
    "plot_endpoint_metrics()"
   ]
  },
  {
   "cell_type": "markdown",
   "metadata": {
    "papermill": {
     "duration": null,
     "end_time": null,
     "exception": null,
     "start_time": null,
     "status": "pending"
    },
    "tags": []
   },
   "source": [
    "### Invoke a specific variant\n",
    "\n",
    "Now, let’s use the new feature that was released today to invoke a specific variant. For this, we simply use the new parameter to define which specific ProductionVariant we want to invoke. Let us use this to invoke Variant1 for all requests."
   ]
  },
  {
   "cell_type": "code",
   "execution_count": 69,
   "metadata": {
    "papermill": {
     "duration": null,
     "end_time": null,
     "exception": null,
     "start_time": null,
     "status": "pending"
    },
    "tags": []
   },
   "outputs": [
    {
     "name": "stdout",
     "output_type": "stream",
     "text": [
      "Sending test traffic to the endpoint variant-frauddetect-2021-11-18-06-07-06. \n",
      "Please wait...\n",
      "........................................................................................................................Done!\n"
     ]
    }
   ],
   "source": [
    "import numpy as np\n",
    "\n",
    "predictions = \"\"\n",
    "\n",
    "print(f\"Sending test traffic to the endpoint {endpoint_name_variant}. \\nPlease wait...\")\n",
    "with open(\"test_data/test_sample_tail_input_cols.csv\", \"r\") as f:\n",
    "    for row in f:\n",
    "        print(\".\", end=\"\", flush=True)\n",
    "        payload = row.rstrip(\"\\n\")\n",
    "        response = sm_runtime.invoke_endpoint(\n",
    "            EndpointName=endpoint_name_variant,\n",
    "            ContentType=\"text/csv\",\n",
    "            Body=payload,\n",
    "            TargetVariant=variant1[\"VariantName\"],\n",
    "        )\n",
    "        predictions = \",\".join([predictions, response[\"Body\"].read().decode(\"utf-8\")])\n",
    "#         print(predictions)\n",
    "        time.sleep(0.5)\n",
    "\n",
    "# Convert our predictions to a numpy array\n",
    "pred_np = np.fromstring(predictions[1:], sep=\",\")\n",
    "\n",
    "# Convert the prediction probabilities to binary predictions of either 1 or 0\n",
    "threshold = sum(pred_np)/len(pred_np)\n",
    "preds = np.where(pred_np > threshold, 1, 0)\n",
    "# print(preds)\n",
    "print(\"Done!\")"
   ]
  },
  {
   "cell_type": "markdown",
   "metadata": {
    "papermill": {
     "duration": null,
     "end_time": null,
     "exception": null,
     "start_time": null,
     "status": "pending"
    },
    "tags": []
   },
   "source": [
    "When we again check the traffic per variant, this time we see that the number of invocations only incremented for Variant1, because all invocations were targeted at that variant:"
   ]
  },
  {
   "cell_type": "code",
   "execution_count": 70,
   "metadata": {
    "papermill": {
     "duration": null,
     "end_time": null,
     "exception": null,
     "start_time": null,
     "status": "pending"
    },
    "tags": []
   },
   "outputs": [
    {
     "name": "stdout",
     "output_type": "stream",
     "text": [
      "Waiting a minute for initial metric creation...\n"
     ]
    },
    {
     "data": {
      "text/html": [
       "<div>\n",
       "<style scoped>\n",
       "    .dataframe tbody tr th:only-of-type {\n",
       "        vertical-align: middle;\n",
       "    }\n",
       "\n",
       "    .dataframe tbody tr th {\n",
       "        vertical-align: top;\n",
       "    }\n",
       "\n",
       "    .dataframe thead th {\n",
       "        text-align: right;\n",
       "    }\n",
       "</style>\n",
       "<table border=\"1\" class=\"dataframe\">\n",
       "  <thead>\n",
       "    <tr style=\"text-align: right;\">\n",
       "      <th></th>\n",
       "      <th>Variant1</th>\n",
       "      <th>Variant2</th>\n",
       "    </tr>\n",
       "    <tr>\n",
       "      <th>Timestamp</th>\n",
       "      <th></th>\n",
       "      <th></th>\n",
       "    </tr>\n",
       "  </thead>\n",
       "  <tbody>\n",
       "    <tr>\n",
       "      <th>2021-11-18 06:12:00+00:00</th>\n",
       "      <td>0.0</td>\n",
       "      <td>0.0</td>\n",
       "    </tr>\n",
       "    <tr>\n",
       "      <th>2021-11-18 06:13:00+00:00</th>\n",
       "      <td>1.0</td>\n",
       "      <td>3.0</td>\n",
       "    </tr>\n",
       "    <tr>\n",
       "      <th>2021-11-18 06:14:00+00:00</th>\n",
       "      <td>52.0</td>\n",
       "      <td>55.0</td>\n",
       "    </tr>\n",
       "    <tr>\n",
       "      <th>2021-11-18 06:15:00+00:00</th>\n",
       "      <td>4.0</td>\n",
       "      <td>5.0</td>\n",
       "    </tr>\n",
       "    <tr>\n",
       "      <th>2021-11-18 06:16:00+00:00</th>\n",
       "      <td>48.0</td>\n",
       "      <td>0.0</td>\n",
       "    </tr>\n",
       "    <tr>\n",
       "      <th>2021-11-18 06:17:00+00:00</th>\n",
       "      <td>72.0</td>\n",
       "      <td>0.0</td>\n",
       "    </tr>\n",
       "  </tbody>\n",
       "</table>\n",
       "</div>"
      ],
      "text/plain": [
       "                           Variant1  Variant2\n",
       "Timestamp                                    \n",
       "2021-11-18 06:12:00+00:00       0.0       0.0\n",
       "2021-11-18 06:13:00+00:00       1.0       3.0\n",
       "2021-11-18 06:14:00+00:00      52.0      55.0\n",
       "2021-11-18 06:15:00+00:00       4.0       5.0\n",
       "2021-11-18 06:16:00+00:00      48.0       0.0\n",
       "2021-11-18 06:17:00+00:00      72.0       0.0"
      ]
     },
     "execution_count": 70,
     "metadata": {},
     "output_type": "execute_result"
    },
    {
     "data": {
      "image/png": "[encoded data removed]",
      "text/plain": [
       "<Figure size 432x288 with 1 Axes>"
      ]
     },
     "metadata": {
      "needs_background": "light"
     },
     "output_type": "display_data"
    }
   ],
   "source": [
    "print(\"Waiting a minute for initial metric creation...\")\n",
    "time.sleep(60)  # let metrics catch up\n",
    "plot_endpoint_metrics()"
   ]
  },
  {
   "cell_type": "markdown",
   "metadata": {
    "papermill": {
     "duration": null,
     "end_time": null,
     "exception": null,
     "start_time": null,
     "status": "pending"
    },
    "tags": []
   },
   "source": [
    "## Step 3: Evaluate variant performance\n",
    "\n",
    "### Evaluating Variant 1\n",
    "\n",
    "Using the new targeting feature, let us evaluate the accuracy, precision, recall, F1 score, and ROC/AUC for Variant1:"
   ]
  },
  {
   "cell_type": "code",
   "execution_count": 71,
   "metadata": {},
   "outputs": [],
   "source": [
    "test['fraud'].to_csv( \"data/variant_test_label.csv\", index=False, header=False)"
   ]
  },
  {
   "cell_type": "code",
   "execution_count": 72,
   "metadata": {
    "papermill": {
     "duration": null,
     "end_time": null,
     "exception": null,
     "start_time": null,
     "status": "pending"
    },
    "tags": []
   },
   "outputs": [
    {
     "name": "stdout",
     "output_type": "stream",
     "text": [
      "Accuracy: 0.6583333333333333\n",
      "Precision: 0.046511627906976744\n",
      "Recall: 1.0\n",
      "F1 Score: 0.08888888888888888\n",
      "AUC is 0.8263\n"
     ]
    },
    {
     "data": {
      "image/png": "[encoded data removed]",
      "text/plain": [
       "<Figure size 432x288 with 1 Axes>"
      ]
     },
     "metadata": {
      "needs_background": "light"
     },
     "output_type": "display_data"
    }
   ],
   "source": [
    "import matplotlib.pyplot as plt\n",
    "import pandas as pd\n",
    "from sklearn import metrics\n",
    "from sklearn.metrics import roc_auc_score\n",
    "\n",
    "# Let's get the labels of our test set; we will use these to evaluate our predictions\n",
    "!tail -121 data/variant_test_label.csv > test_data/test_dataset_sample_tail.csv\n",
    "df_with_labels = pd.read_csv(\"test_data/test_dataset_sample_tail.csv\")\n",
    "test_labels = df_with_labels.iloc[:, 0]\n",
    "labels = test_labels.to_numpy()\n",
    "# print(preds)\n",
    "# Calculate accuracy\n",
    "accuracy = sum(preds == labels) / len(labels)\n",
    "print(f\"Accuracy: {accuracy}\")\n",
    "\n",
    "# Calculate precision\n",
    "precision = sum(preds[preds == 1] == labels[preds == 1]) / len(preds[preds == 1])\n",
    "print(f\"Precision: {precision}\")\n",
    "\n",
    "# Calculate recall\n",
    "recall = sum(preds[preds == 1] == labels[preds == 1]) / len(labels[labels == 1])\n",
    "print(f\"Recall: {recall}\")\n",
    "\n",
    "# Calculate F1 score\n",
    "f1_score = 2 * (precision * recall) / (precision + recall)\n",
    "print(f\"F1 Score: {f1_score}\")\n",
    "\n",
    "# Calculate AUC\n",
    "auc = round(roc_auc_score(labels, preds), 4)\n",
    "print(\"AUC is \" + repr(auc))\n",
    "\n",
    "fpr, tpr, _ = metrics.roc_curve(labels, preds)\n",
    "\n",
    "plt.title(\"ROC Curve\")\n",
    "plt.plot(fpr, tpr, \"b\", label=\"AUC = %0.2f\" % auc)\n",
    "plt.legend(loc=\"lower right\")\n",
    "plt.plot([0, 1], [0, 1], \"r--\")\n",
    "plt.xlim([-0.1, 1.1])\n",
    "plt.ylim([-0.1, 1.1])\n",
    "plt.ylabel(\"True Positive Rate\")\n",
    "plt.xlabel(\"False Positive Rate\")\n",
    "plt.show()"
   ]
  },
  {
   "cell_type": "markdown",
   "metadata": {
    "papermill": {
     "duration": null,
     "end_time": null,
     "exception": null,
     "start_time": null,
     "status": "pending"
    },
    "tags": []
   },
   "source": [
    "### Next, we collect data for Variant2"
   ]
  },
  {
   "cell_type": "code",
   "execution_count": 73,
   "metadata": {
    "papermill": {
     "duration": null,
     "end_time": null,
     "exception": null,
     "start_time": null,
     "status": "pending"
    },
    "tags": []
   },
   "outputs": [
    {
     "name": "stdout",
     "output_type": "stream",
     "text": [
      "Sending test traffic to the endpoint variant-frauddetect-2021-11-18-06-07-06. \n",
      "Please wait...\n",
      "........................................................................................................................Done!\n"
     ]
    }
   ],
   "source": [
    "predictions2 = \"\"\n",
    "print(f\"Sending test traffic to the endpoint {endpoint_name_variant}. \\nPlease wait...\")\n",
    "with open(\"test_data/test_sample_tail_input_cols.csv\", \"r\") as f:\n",
    "    for row in f:\n",
    "        print(\".\", end=\"\", flush=True)\n",
    "        payload = row.rstrip(\"\\n\")\n",
    "        response = sm_runtime.invoke_endpoint(\n",
    "            EndpointName=endpoint_name_variant,\n",
    "            ContentType=\"text/csv\",\n",
    "            Body=payload,\n",
    "            TargetVariant=variant2[\"VariantName\"],\n",
    "        )\n",
    "        predictions2 = \",\".join([predictions2, response[\"Body\"].read().decode(\"utf-8\")])\n",
    "        time.sleep(0.5)\n",
    "\n",
    "# Convert to numpy array\n",
    "pred_np2 = np.fromstring(predictions2[1:], sep=\",\")\n",
    "\n",
    "# Convert to binary predictions\n",
    "thresh = sum(pred_np2)/len(pred_np2)\n",
    "preds2 = np.where(pred_np2 > threshold, 1, 0)\n",
    "\n",
    "print(\"Done!\")"
   ]
  },
  {
   "cell_type": "markdown",
   "metadata": {
    "papermill": {
     "duration": null,
     "end_time": null,
     "exception": null,
     "start_time": null,
     "status": "pending"
    },
    "tags": []
   },
   "source": [
    "When we again check the traffic per variant, this time we see that the number of invocations only incremented for Variant2, because all invocations were targeted at that variant:"
   ]
  },
  {
   "cell_type": "code",
   "execution_count": 74,
   "metadata": {
    "papermill": {
     "duration": null,
     "end_time": null,
     "exception": null,
     "start_time": null,
     "status": "pending"
    },
    "tags": []
   },
   "outputs": [
    {
     "name": "stdout",
     "output_type": "stream",
     "text": [
      "Waiting a minute for initial metric creation...\n"
     ]
    },
    {
     "data": {
      "text/html": [
       "<div>\n",
       "<style scoped>\n",
       "    .dataframe tbody tr th:only-of-type {\n",
       "        vertical-align: middle;\n",
       "    }\n",
       "\n",
       "    .dataframe tbody tr th {\n",
       "        vertical-align: top;\n",
       "    }\n",
       "\n",
       "    .dataframe thead th {\n",
       "        text-align: right;\n",
       "    }\n",
       "</style>\n",
       "<table border=\"1\" class=\"dataframe\">\n",
       "  <thead>\n",
       "    <tr style=\"text-align: right;\">\n",
       "      <th></th>\n",
       "      <th>Variant1</th>\n",
       "      <th>Variant2</th>\n",
       "    </tr>\n",
       "    <tr>\n",
       "      <th>Timestamp</th>\n",
       "      <th></th>\n",
       "      <th></th>\n",
       "    </tr>\n",
       "  </thead>\n",
       "  <tbody>\n",
       "    <tr>\n",
       "      <th>2021-11-18 06:12:00+00:00</th>\n",
       "      <td>0.0</td>\n",
       "      <td>0.0</td>\n",
       "    </tr>\n",
       "    <tr>\n",
       "      <th>2021-11-18 06:13:00+00:00</th>\n",
       "      <td>1.0</td>\n",
       "      <td>3.0</td>\n",
       "    </tr>\n",
       "    <tr>\n",
       "      <th>2021-11-18 06:14:00+00:00</th>\n",
       "      <td>52.0</td>\n",
       "      <td>55.0</td>\n",
       "    </tr>\n",
       "    <tr>\n",
       "      <th>2021-11-18 06:15:00+00:00</th>\n",
       "      <td>4.0</td>\n",
       "      <td>5.0</td>\n",
       "    </tr>\n",
       "    <tr>\n",
       "      <th>2021-11-18 06:16:00+00:00</th>\n",
       "      <td>48.0</td>\n",
       "      <td>0.0</td>\n",
       "    </tr>\n",
       "    <tr>\n",
       "      <th>2021-11-18 06:17:00+00:00</th>\n",
       "      <td>72.0</td>\n",
       "      <td>0.0</td>\n",
       "    </tr>\n",
       "    <tr>\n",
       "      <th>2021-11-18 06:18:00+00:00</th>\n",
       "      <td>0.0</td>\n",
       "      <td>NaN</td>\n",
       "    </tr>\n",
       "    <tr>\n",
       "      <th>2021-11-18 06:19:00+00:00</th>\n",
       "      <td>0.0</td>\n",
       "      <td>108.0</td>\n",
       "    </tr>\n",
       "    <tr>\n",
       "      <th>2021-11-18 06:20:00+00:00</th>\n",
       "      <td>0.0</td>\n",
       "      <td>12.0</td>\n",
       "    </tr>\n",
       "  </tbody>\n",
       "</table>\n",
       "</div>"
      ],
      "text/plain": [
       "                           Variant1  Variant2\n",
       "Timestamp                                    \n",
       "2021-11-18 06:12:00+00:00       0.0       0.0\n",
       "2021-11-18 06:13:00+00:00       1.0       3.0\n",
       "2021-11-18 06:14:00+00:00      52.0      55.0\n",
       "2021-11-18 06:15:00+00:00       4.0       5.0\n",
       "2021-11-18 06:16:00+00:00      48.0       0.0\n",
       "2021-11-18 06:17:00+00:00      72.0       0.0\n",
       "2021-11-18 06:18:00+00:00       0.0       NaN\n",
       "2021-11-18 06:19:00+00:00       0.0     108.0\n",
       "2021-11-18 06:20:00+00:00       0.0      12.0"
      ]
     },
     "execution_count": 74,
     "metadata": {},
     "output_type": "execute_result"
    },
    {
     "data": {
      "image/png": "[encoded data removed]",
      "text/plain": [
       "<Figure size 432x288 with 1 Axes>"
      ]
     },
     "metadata": {
      "needs_background": "light"
     },
     "output_type": "display_data"
    }
   ],
   "source": [
    "print(\"Waiting a minute for initial metric creation...\")\n",
    "time.sleep(60)  # give metrics time to catch up\n",
    "plot_endpoint_metrics()"
   ]
  },
  {
   "cell_type": "markdown",
   "metadata": {
    "papermill": {
     "duration": null,
     "end_time": null,
     "exception": null,
     "start_time": null,
     "status": "pending"
    },
    "tags": []
   },
   "source": [
    "### Evaluating Variant2 "
   ]
  },
  {
   "cell_type": "code",
   "execution_count": 75,
   "metadata": {
    "papermill": {
     "duration": null,
     "end_time": null,
     "exception": null,
     "start_time": null,
     "status": "pending"
    },
    "tags": []
   },
   "outputs": [
    {
     "name": "stdout",
     "output_type": "stream",
     "text": [
      "Accuracy: 0.6916666666666667\n",
      "Precision: 0.05128205128205128\n",
      "Recall: 1.0\n",
      "F1 Score: 0.09756097560975609\n",
      "AUC is 0.8432\n"
     ]
    },
    {
     "data": {
      "image/png": "[encoded data removed]",
      "text/plain": [
       "<Figure size 432x288 with 1 Axes>"
      ]
     },
     "metadata": {
      "needs_background": "light"
     },
     "output_type": "display_data"
    }
   ],
   "source": [
    "# Calculate accuracy\n",
    "accuracy2 = sum(preds2 == labels) / len(labels)\n",
    "print(f\"Accuracy: {accuracy2}\")\n",
    "\n",
    "# Calculate precision\n",
    "precision2 = sum(preds2[preds2 == 1] == labels[preds2 == 1]) / len(preds2[preds2 == 1])\n",
    "print(f\"Precision: {precision2}\")\n",
    "\n",
    "# Calculate recall\n",
    "recall2 = sum(preds2[preds2 == 1] == labels[preds2 == 1]) / len(labels[labels == 1])\n",
    "print(f\"Recall: {recall2}\")\n",
    "\n",
    "# Calculate F1 score\n",
    "f1_score2 = 2 * (precision2 * recall2) / (precision2 + recall2)\n",
    "print(f\"F1 Score: {f1_score2}\")\n",
    "\n",
    "auc2 = round(roc_auc_score(labels, preds2), 4)\n",
    "print(\"AUC is \" + repr(auc2))\n",
    "\n",
    "fpr2, tpr2, _ = metrics.roc_curve(labels, preds2)\n",
    "\n",
    "plt.title(\"ROC Curve\")\n",
    "plt.plot(fpr2, tpr2, \"b\", label=\"AUC = %0.2f\" % auc2)\n",
    "plt.legend(loc=\"lower right\")\n",
    "plt.plot([0, 1], [0, 1], \"r--\")\n",
    "plt.xlim([-0.1, 1.1])\n",
    "plt.ylim([-0.1, 1.1])\n",
    "plt.ylabel(\"True Positive Rate\")\n",
    "plt.xlabel(\"False Positive Rate\")\n",
    "plt.show()"
   ]
  },
  {
   "cell_type": "markdown",
   "metadata": {
    "papermill": {
     "duration": null,
     "end_time": null,
     "exception": null,
     "start_time": null,
     "status": "pending"
    },
    "tags": []
   },
   "source": [
    "We see that Variant2 is performing better for most of our defined metrics, so this is the one we’re likely to choose to dial up in production."
   ]
  },
  {
   "cell_type": "markdown",
   "metadata": {
    "papermill": {
     "duration": null,
     "end_time": null,
     "exception": null,
     "start_time": null,
     "status": "pending"
    },
    "tags": []
   },
   "source": [
    "## Step 4: Dialing up our chosen variant in production\n",
    "\n",
    "Now that we have determined Variant2 to be better as compared to Variant1, we will shift more traffic to it. \n",
    "\n",
    "We can continue to use TargetVariant to continue invoking a chosen variant. A simpler approach is to update the weights assigned to each variant using UpdateEndpointWeightsAndCapacities. This changes the traffic distribution to your production variants without requiring updates to your endpoint. \n",
    "\n",
    "Recall our variant weights are as follows:"
   ]
  },
  {
   "cell_type": "code",
   "execution_count": 76,
   "metadata": {
    "papermill": {
     "duration": null,
     "end_time": null,
     "exception": null,
     "start_time": null,
     "status": "pending"
    },
    "tags": []
   },
   "outputs": [
    {
     "data": {
      "text/plain": [
       "{'Variant1': 1.0, 'Variant2': 1.0}"
      ]
     },
     "execution_count": 76,
     "metadata": {},
     "output_type": "execute_result"
    }
   ],
   "source": [
    "{\n",
    "    variant[\"VariantName\"]: variant[\"CurrentWeight\"]\n",
    "    for variant in sm.describe_endpoint(EndpointName=endpoint_name_variant)[\"ProductionVariants\"]\n",
    "}"
   ]
  },
  {
   "cell_type": "markdown",
   "metadata": {
    "papermill": {
     "duration": null,
     "end_time": null,
     "exception": null,
     "start_time": null,
     "status": "pending"
    },
    "tags": []
   },
   "source": [
    "We'll first write a method to easily invoke our endpoint (a copy of what we had been previously doing):"
   ]
  },
  {
   "cell_type": "code",
   "execution_count": 77,
   "metadata": {
    "papermill": {
     "duration": null,
     "end_time": null,
     "exception": null,
     "start_time": null,
     "status": "pending"
    },
    "tags": []
   },
   "outputs": [],
   "source": [
    "def invoke_endpoint_for_two_minutes():\n",
    "    with open(\"test_data/test_sample_tail_input_cols.csv\", \"r\") as f:\n",
    "        for row in f:\n",
    "            print(\".\", end=\"\", flush=True)\n",
    "            payload = row.rstrip(\"\\n\")\n",
    "            response = sm_runtime.invoke_endpoint(\n",
    "                EndpointName=endpoint_name_variant, ContentType=\"text/csv\", Body=payload\n",
    "            )\n",
    "            response[\"Body\"].read()\n",
    "            time.sleep(1)"
   ]
  },
  {
   "cell_type": "markdown",
   "metadata": {
    "papermill": {
     "duration": null,
     "end_time": null,
     "exception": null,
     "start_time": null,
     "status": "pending"
    },
    "tags": []
   },
   "source": [
    "We invoke our endpoint for a bit, to show the even split in invocations:"
   ]
  },
  {
   "cell_type": "code",
   "execution_count": 78,
   "metadata": {
    "papermill": {
     "duration": null,
     "end_time": null,
     "exception": null,
     "start_time": null,
     "status": "pending"
    },
    "tags": []
   },
   "outputs": [
    {
     "name": "stdout",
     "output_type": "stream",
     "text": [
      "........................................................................................................................"
     ]
    },
    {
     "data": {
      "text/html": [
       "<div>\n",
       "<style scoped>\n",
       "    .dataframe tbody tr th:only-of-type {\n",
       "        vertical-align: middle;\n",
       "    }\n",
       "\n",
       "    .dataframe tbody tr th {\n",
       "        vertical-align: top;\n",
       "    }\n",
       "\n",
       "    .dataframe thead th {\n",
       "        text-align: right;\n",
       "    }\n",
       "</style>\n",
       "<table border=\"1\" class=\"dataframe\">\n",
       "  <thead>\n",
       "    <tr style=\"text-align: right;\">\n",
       "      <th></th>\n",
       "      <th>Variant1</th>\n",
       "      <th>Variant2</th>\n",
       "    </tr>\n",
       "    <tr>\n",
       "      <th>Timestamp</th>\n",
       "      <th></th>\n",
       "      <th></th>\n",
       "    </tr>\n",
       "  </thead>\n",
       "  <tbody>\n",
       "    <tr>\n",
       "      <th>2021-11-18 06:22:00+00:00</th>\n",
       "      <td>22.0</td>\n",
       "      <td>22.0</td>\n",
       "    </tr>\n",
       "    <tr>\n",
       "      <th>2021-11-18 06:23:00+00:00</th>\n",
       "      <td>30.0</td>\n",
       "      <td>29.0</td>\n",
       "    </tr>\n",
       "  </tbody>\n",
       "</table>\n",
       "</div>"
      ],
      "text/plain": [
       "                           Variant1  Variant2\n",
       "Timestamp                                    \n",
       "2021-11-18 06:22:00+00:00      22.0      22.0\n",
       "2021-11-18 06:23:00+00:00      30.0      29.0"
      ]
     },
     "execution_count": 78,
     "metadata": {},
     "output_type": "execute_result"
    },
    {
     "data": {
      "image/png": "[encoded data removed]",
      "text/plain": [
       "<Figure size 432x288 with 1 Axes>"
      ]
     },
     "metadata": {
      "needs_background": "light"
     },
     "output_type": "display_data"
    }
   ],
   "source": [
    "invocation_start_time = datetime.now()\n",
    "invoke_endpoint_for_two_minutes()\n",
    "time.sleep(20)  # give metrics time to catch up\n",
    "plot_endpoint_metrics(invocation_start_time)"
   ]
  },
  {
   "cell_type": "markdown",
   "metadata": {
    "papermill": {
     "duration": null,
     "end_time": null,
     "exception": null,
     "start_time": null,
     "status": "pending"
    },
    "tags": []
   },
   "source": [
    "Now let us shift 75% of the traffic to Variant2 by assigning new weights to each variant using UpdateEndpointWeightsAndCapacities. Amazon SageMaker will now send 75% of the inference requests to Variant2 and remaining 25% of requests to Variant1. "
   ]
  },
  {
   "cell_type": "code",
   "execution_count": 79,
   "metadata": {
    "papermill": {
     "duration": null,
     "end_time": null,
     "exception": null,
     "start_time": null,
     "status": "pending"
    },
    "tags": []
   },
   "outputs": [
    {
     "data": {
      "text/plain": [
       "{'EndpointArn': 'arn:aws:sagemaker:us-east-1:875692608981:endpoint/variant-frauddetect-2021-11-18-06-07-06',\n",
       " 'ResponseMetadata': {'RequestId': '39526021-c942-4f85-b491-5cc0ccaa5ff6',\n",
       "  'HTTPStatusCode': 200,\n",
       "  'HTTPHeaders': {'x-amzn-requestid': '39526021-c942-4f85-b491-5cc0ccaa5ff6',\n",
       "   'content-type': 'application/x-amz-json-1.1',\n",
       "   'content-length': '107',\n",
       "   'date': 'Thu, 18 Nov 2021 06:24:56 GMT'},\n",
       "  'RetryAttempts': 0}}"
      ]
     },
     "execution_count": 79,
     "metadata": {},
     "output_type": "execute_result"
    }
   ],
   "source": [
    "sm.update_endpoint_weights_and_capacities(\n",
    "    EndpointName=endpoint_name_variant,\n",
    "    DesiredWeightsAndCapacities=[\n",
    "        {\"DesiredWeight\": 25, \"VariantName\": variant1[\"VariantName\"]},\n",
    "        {\"DesiredWeight\": 75, \"VariantName\": variant2[\"VariantName\"]},\n",
    "    ],\n",
    ")"
   ]
  },
  {
   "cell_type": "code",
   "execution_count": 80,
   "metadata": {
    "papermill": {
     "duration": null,
     "end_time": null,
     "exception": null,
     "start_time": null,
     "status": "pending"
    },
    "tags": []
   },
   "outputs": [
    {
     "name": "stdout",
     "output_type": "stream",
     "text": [
      "Waiting for update to complete\n",
      "............................................Done\n"
     ]
    },
    {
     "data": {
      "text/plain": [
       "{'Variant1': 25.0, 'Variant2': 75.0}"
      ]
     },
     "execution_count": 80,
     "metadata": {},
     "output_type": "execute_result"
    }
   ],
   "source": [
    "print(\"Waiting for update to complete\")\n",
    "while True:\n",
    "    status = sm.describe_endpoint(EndpointName=endpoint_name_variant)[\"EndpointStatus\"]\n",
    "    if status in [\"InService\", \"Failed\"]:\n",
    "        print(\"Done\")\n",
    "        break\n",
    "    print(\".\", end=\"\", flush=True)\n",
    "    time.sleep(1)\n",
    "\n",
    "{\n",
    "    variant[\"VariantName\"]: variant[\"CurrentWeight\"]\n",
    "    for variant in sm.describe_endpoint(EndpointName=endpoint_name_variant)[\"ProductionVariants\"]\n",
    "}"
   ]
  },
  {
   "cell_type": "markdown",
   "metadata": {
    "papermill": {
     "duration": null,
     "end_time": null,
     "exception": null,
     "start_time": null,
     "status": "pending"
    },
    "tags": []
   },
   "source": [
    "Now let's check how that has impacted invocation metrics:"
   ]
  },
  {
   "cell_type": "code",
   "execution_count": 81,
   "metadata": {
    "papermill": {
     "duration": null,
     "end_time": null,
     "exception": null,
     "start_time": null,
     "status": "pending"
    },
    "tags": []
   },
   "outputs": [
    {
     "name": "stdout",
     "output_type": "stream",
     "text": [
      "........................................................................................................................"
     ]
    },
    {
     "data": {
      "text/html": [
       "<div>\n",
       "<style scoped>\n",
       "    .dataframe tbody tr th:only-of-type {\n",
       "        vertical-align: middle;\n",
       "    }\n",
       "\n",
       "    .dataframe tbody tr th {\n",
       "        vertical-align: top;\n",
       "    }\n",
       "\n",
       "    .dataframe thead th {\n",
       "        text-align: right;\n",
       "    }\n",
       "</style>\n",
       "<table border=\"1\" class=\"dataframe\">\n",
       "  <thead>\n",
       "    <tr style=\"text-align: right;\">\n",
       "      <th></th>\n",
       "      <th>Variant1</th>\n",
       "      <th>Variant2</th>\n",
       "    </tr>\n",
       "    <tr>\n",
       "      <th>Timestamp</th>\n",
       "      <th></th>\n",
       "      <th></th>\n",
       "    </tr>\n",
       "  </thead>\n",
       "  <tbody>\n",
       "    <tr>\n",
       "      <th>2021-11-18 06:22:00+00:00</th>\n",
       "      <td>22.0</td>\n",
       "      <td>22.0</td>\n",
       "    </tr>\n",
       "    <tr>\n",
       "      <th>2021-11-18 06:23:00+00:00</th>\n",
       "      <td>30.0</td>\n",
       "      <td>29.0</td>\n",
       "    </tr>\n",
       "    <tr>\n",
       "      <th>2021-11-18 06:24:00+00:00</th>\n",
       "      <td>11.0</td>\n",
       "      <td>6.0</td>\n",
       "    </tr>\n",
       "    <tr>\n",
       "      <th>2021-11-18 06:25:00+00:00</th>\n",
       "      <td>0.0</td>\n",
       "      <td>0.0</td>\n",
       "    </tr>\n",
       "    <tr>\n",
       "      <th>2021-11-18 06:26:00+00:00</th>\n",
       "      <td>6.0</td>\n",
       "      <td>30.0</td>\n",
       "    </tr>\n",
       "    <tr>\n",
       "      <th>2021-11-18 06:27:00+00:00</th>\n",
       "      <td>21.0</td>\n",
       "      <td>38.0</td>\n",
       "    </tr>\n",
       "  </tbody>\n",
       "</table>\n",
       "</div>"
      ],
      "text/plain": [
       "                           Variant1  Variant2\n",
       "Timestamp                                    \n",
       "2021-11-18 06:22:00+00:00      22.0      22.0\n",
       "2021-11-18 06:23:00+00:00      30.0      29.0\n",
       "2021-11-18 06:24:00+00:00      11.0       6.0\n",
       "2021-11-18 06:25:00+00:00       0.0       0.0\n",
       "2021-11-18 06:26:00+00:00       6.0      30.0\n",
       "2021-11-18 06:27:00+00:00      21.0      38.0"
      ]
     },
     "execution_count": 81,
     "metadata": {},
     "output_type": "execute_result"
    },
    {
     "data": {
      "image/png": "[encoded data removed]",
      "text/plain": [
       "<Figure size 432x288 with 1 Axes>"
      ]
     },
     "metadata": {
      "needs_background": "light"
     },
     "output_type": "display_data"
    }
   ],
   "source": [
    "invoke_endpoint_for_two_minutes()\n",
    "time.sleep(20)  # give metrics time to catch up\n",
    "plot_endpoint_metrics(invocation_start_time)"
   ]
  },
  {
   "cell_type": "markdown",
   "metadata": {
    "papermill": {
     "duration": null,
     "end_time": null,
     "exception": null,
     "start_time": null,
     "status": "pending"
    },
    "tags": []
   },
   "source": [
    "We can continue to monitor our metrics and when we're satisfied with a variant's performance, we can route 100% of the traffic over the variant. We used UpdateEndpointWeightsAndCapacities to update the traffic assignments for the variants. The weight for Variant1 is set to 0 and the weight for Variant2 is set to 1. Therefore, Amazon SageMaker will send 100% of all inference requests to Variant2."
   ]
  },
  {
   "cell_type": "code",
   "execution_count": 82,
   "metadata": {
    "papermill": {
     "duration": null,
     "end_time": null,
     "exception": null,
     "start_time": null,
     "status": "pending"
    },
    "tags": []
   },
   "outputs": [
    {
     "name": "stdout",
     "output_type": "stream",
     "text": [
      "Waiting for update to complete\n",
      ".........................................................Done\n"
     ]
    },
    {
     "data": {
      "text/plain": [
       "{'Variant1': 0.0, 'Variant2': 1.0}"
      ]
     },
     "execution_count": 82,
     "metadata": {},
     "output_type": "execute_result"
    }
   ],
   "source": [
    "sm.update_endpoint_weights_and_capacities(\n",
    "    EndpointName=endpoint_name_variant,\n",
    "    DesiredWeightsAndCapacities=[\n",
    "        {\"DesiredWeight\": 0, \"VariantName\": variant1[\"VariantName\"]},\n",
    "        {\"DesiredWeight\": 1, \"VariantName\": variant2[\"VariantName\"]},\n",
    "    ],\n",
    ")\n",
    "print(\"Waiting for update to complete\")\n",
    "while True:\n",
    "    status = sm.describe_endpoint(EndpointName=endpoint_name_variant)[\"EndpointStatus\"]\n",
    "    if status in [\"InService\", \"Failed\"]:\n",
    "        print(\"Done\")\n",
    "        break\n",
    "    print(\".\", end=\"\", flush=True)\n",
    "    time.sleep(1)\n",
    "\n",
    "{\n",
    "    variant[\"VariantName\"]: variant[\"CurrentWeight\"]\n",
    "    for variant in sm.describe_endpoint(EndpointName=endpoint_name_variant)[\"ProductionVariants\"]\n",
    "}"
   ]
  },
  {
   "cell_type": "code",
   "execution_count": 83,
   "metadata": {
    "papermill": {
     "duration": null,
     "end_time": null,
     "exception": null,
     "start_time": null,
     "status": "pending"
    },
    "tags": []
   },
   "outputs": [
    {
     "name": "stdout",
     "output_type": "stream",
     "text": [
      "........................................................................................................................"
     ]
    },
    {
     "data": {
      "text/html": [
       "<div>\n",
       "<style scoped>\n",
       "    .dataframe tbody tr th:only-of-type {\n",
       "        vertical-align: middle;\n",
       "    }\n",
       "\n",
       "    .dataframe tbody tr th {\n",
       "        vertical-align: top;\n",
       "    }\n",
       "\n",
       "    .dataframe thead th {\n",
       "        text-align: right;\n",
       "    }\n",
       "</style>\n",
       "<table border=\"1\" class=\"dataframe\">\n",
       "  <thead>\n",
       "    <tr style=\"text-align: right;\">\n",
       "      <th></th>\n",
       "      <th>Variant1</th>\n",
       "      <th>Variant2</th>\n",
       "    </tr>\n",
       "    <tr>\n",
       "      <th>Timestamp</th>\n",
       "      <th></th>\n",
       "      <th></th>\n",
       "    </tr>\n",
       "  </thead>\n",
       "  <tbody>\n",
       "    <tr>\n",
       "      <th>2021-11-18 06:22:00+00:00</th>\n",
       "      <td>22.0</td>\n",
       "      <td>22.0</td>\n",
       "    </tr>\n",
       "    <tr>\n",
       "      <th>2021-11-18 06:23:00+00:00</th>\n",
       "      <td>30.0</td>\n",
       "      <td>29.0</td>\n",
       "    </tr>\n",
       "    <tr>\n",
       "      <th>2021-11-18 06:24:00+00:00</th>\n",
       "      <td>11.0</td>\n",
       "      <td>6.0</td>\n",
       "    </tr>\n",
       "    <tr>\n",
       "      <th>2021-11-18 06:25:00+00:00</th>\n",
       "      <td>0.0</td>\n",
       "      <td>0.0</td>\n",
       "    </tr>\n",
       "    <tr>\n",
       "      <th>2021-11-18 06:26:00+00:00</th>\n",
       "      <td>6.0</td>\n",
       "      <td>30.0</td>\n",
       "    </tr>\n",
       "    <tr>\n",
       "      <th>2021-11-18 06:27:00+00:00</th>\n",
       "      <td>21.0</td>\n",
       "      <td>38.0</td>\n",
       "    </tr>\n",
       "    <tr>\n",
       "      <th>2021-11-18 06:28:00+00:00</th>\n",
       "      <td>3.0</td>\n",
       "      <td>22.0</td>\n",
       "    </tr>\n",
       "    <tr>\n",
       "      <th>2021-11-18 06:29:00+00:00</th>\n",
       "      <td>0.0</td>\n",
       "      <td>0.0</td>\n",
       "    </tr>\n",
       "    <tr>\n",
       "      <th>2021-11-18 06:30:00+00:00</th>\n",
       "      <td>0.0</td>\n",
       "      <td>34.0</td>\n",
       "    </tr>\n",
       "    <tr>\n",
       "      <th>2021-11-18 06:31:00+00:00</th>\n",
       "      <td>0.0</td>\n",
       "      <td>58.0</td>\n",
       "    </tr>\n",
       "  </tbody>\n",
       "</table>\n",
       "</div>"
      ],
      "text/plain": [
       "                           Variant1  Variant2\n",
       "Timestamp                                    \n",
       "2021-11-18 06:22:00+00:00      22.0      22.0\n",
       "2021-11-18 06:23:00+00:00      30.0      29.0\n",
       "2021-11-18 06:24:00+00:00      11.0       6.0\n",
       "2021-11-18 06:25:00+00:00       0.0       0.0\n",
       "2021-11-18 06:26:00+00:00       6.0      30.0\n",
       "2021-11-18 06:27:00+00:00      21.0      38.0\n",
       "2021-11-18 06:28:00+00:00       3.0      22.0\n",
       "2021-11-18 06:29:00+00:00       0.0       0.0\n",
       "2021-11-18 06:30:00+00:00       0.0      34.0\n",
       "2021-11-18 06:31:00+00:00       0.0      58.0"
      ]
     },
     "execution_count": 83,
     "metadata": {},
     "output_type": "execute_result"
    },
    {
     "data": {
      "image/png": "[encoded data removed]",
      "text/plain": [
       "<Figure size 432x288 with 1 Axes>"
      ]
     },
     "metadata": {
      "needs_background": "light"
     },
     "output_type": "display_data"
    }
   ],
   "source": [
    "invoke_endpoint_for_two_minutes()\n",
    "time.sleep(20)  # give metrics time to catch up\n",
    "plot_endpoint_metrics(invocation_start_time)"
   ]
  },
  {
   "cell_type": "markdown",
   "metadata": {
    "papermill": {
     "duration": null,
     "end_time": null,
     "exception": null,
     "start_time": null,
     "status": "pending"
    },
    "tags": []
   },
   "source": [
    "The Amazon CloudWatch metrics for the total invocations for each variant below shows us that all inference requests are being processed by Variant2 and there are no inference requests processed by Variant1.\n",
    "\n",
    "You can now safely update your endpoint and delete Variant1 from your endpoint. You can also continue testing new models in production by adding new variants to your endpoint and following steps 2 - 4. "
   ]
  },
  {
   "cell_type": "markdown",
   "metadata": {
    "papermill": {
     "duration": null,
     "end_time": null,
     "exception": null,
     "start_time": null,
     "status": "pending"
    },
    "tags": []
   },
   "source": [
    "## Delete the endpoint\n",
    "\n",
    "If you do not plan to use this endpoint further, you should delete the endpoint to avoid incurring additional charges."
   ]
  },
  {
   "cell_type": "code",
   "execution_count": 84,
   "metadata": {
    "papermill": {
     "duration": null,
     "end_time": null,
     "exception": null,
     "start_time": null,
     "status": "pending"
    },
    "scrolled": true,
    "tags": []
   },
   "outputs": [],
   "source": [
    "sm_session.delete_endpoint(endpoint_name_variant)"
   ]
  },
  {
   "cell_type": "code",
   "execution_count": null,
   "metadata": {},
   "outputs": [],
   "source": []
  }
 ],
 "metadata": {
  "anaconda-cloud": {},
  "instance_type": "ml.t3.medium",
  "kernelspec": {
   "display_name": "Python 3 (Data Science)",
   "language": "python",
   "name": "python3__SAGEMAKER_INTERNAL__arn:aws:sagemaker:us-east-1:081325390199:image/datascience-1.0"
  },
  "language_info": {
   "codemirror_mode": {
    "name": "ipython",
    "version": 3
   },
   "file_extension": ".py",
   "mimetype": "text/x-python",
   "name": "python",
   "nbconvert_exporter": "python",
   "pygments_lexer": "ipython3",
   "version": "3.7.10"
  },
  "notice": "Copyright 2017 Amazon.com, Inc. or its affiliates. All Rights Reserved.  Licensed under the Apache License, Version 2.0 (the \"License\"). You may not use this file except in compliance with the License. A copy of the License is located at http://aws.amazon.com/apache2.0/ or in the \"license\" file accompanying this file. This file is distributed on an \"AS IS\" BASIS, WITHOUT WARRANTIES OR CONDITIONS OF ANY KIND, either express or implied. See the License for the specific language governing permissions and limitations under the License.",
  "papermill": {
   "default_parameters": {},
   "duration": 199.476853,
   "end_time": "2021-06-03T00:13:06.967499",
   "environment_variables": {},
   "exception": true,
   "input_path": "a_b_testing.ipynb",
   "output_path": "/opt/ml/processing/output/a_b_testing-2021-06-03-00-05-59.ipynb",
   "parameters": {
    "kms_key": "arn:aws:kms:us-west-2:521695447989:key/6e9984db-50cf-4c7e-926c-877ec47a8b25"
   },
   "start_time": "2021-06-03T00:09:47.490646",
   "version": "2.3.3"
  }
 },
 "nbformat": 4,
 "nbformat_minor": 5
}
